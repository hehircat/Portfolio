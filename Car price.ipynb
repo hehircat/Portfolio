{
 "cells":[
  {
   "cell_type":"markdown",
   "source":[
    "# Финальный проект\n",
    "\n",
    "## Описание задачи:\n",
    "\n",
    "На основе характеристик машины, построить модель для предсказания стоимости автомобиля и оценить ее эффективность"
   ],
   "attachments":{
    
   },
   "metadata":{
    "datalore":{
     "type":"MD",
     "hide_input_from_viewers":false,
     "hide_output_from_viewers":false
    }
   }
  },
  {
   "cell_type":"code",
   "source":[
    "!pip install lightgbm"
   ],
   "execution_count":12,
   "outputs":[
    {
     "name":"stdout",
     "text":[
      "Requirement already satisfied: lightgbm in \/opt\/python\/envs\/default\/lib\/python3.8\/site-packages (3.3.1)\r\n",
      "Requirement already satisfied: wheel in \/opt\/python\/envs\/default\/lib\/python3.8\/site-packages (from lightgbm) (0.37.0)\r\n",
      "Requirement already satisfied: scikit-learn!=0.22.0 in \/opt\/python\/envs\/default\/lib\/python3.8\/site-packages (from lightgbm) (1.0)\r\n",
      "Requirement already satisfied: scipy in \/opt\/python\/envs\/default\/lib\/python3.8\/site-packages (from lightgbm) (1.7.1)\r\n",
      "Requirement already satisfied: numpy in \/opt\/python\/envs\/default\/lib\/python3.8\/site-packages (from lightgbm) (1.19.5)\r\n",
      "Requirement already satisfied: threadpoolctl>=2.0.0 in \/opt\/python\/envs\/default\/lib\/python3.8\/site-packages (from scikit-learn!=0.22.0->lightgbm) (3.0.0)\r\n",
      "Requirement already satisfied: joblib>=0.11 in \/opt\/python\/envs\/default\/lib\/python3.8\/site-packages (from scikit-learn!=0.22.0->lightgbm) (1.1.0)\r\n"
     ],
     "output_type":"stream"
    }
   ],
   "metadata":{
    "datalore":{
     "type":"CODE",
     "hide_input_from_viewers":false,
     "hide_output_from_viewers":false
    }
   }
  },
  {
   "cell_type":"code",
   "source":[
    "import pandas as pd\n",
    "import numpy as np\n",
    "import matplotlib.pyplot as plt\n",
    "import seaborn as sns \n",
    "\n",
    "import warnings\n",
    "warnings.filterwarnings(\"ignore\")\n",
    "\n",
    "from  lightgbm import LGBMRegressor\n",
    "\n",
    "from sklearn.neighbors import KNeighborsRegressor\n",
    "from sklearn.model_selection import train_test_split\n",
    "from sklearn.preprocessing import OneHotEncoder, StandardScaler\n",
    "from sklearn.impute import SimpleImputer\n",
    "from sklearn.pipeline import Pipeline\n",
    "from sklearn.compose import ColumnTransformer\n",
    "from sklearn.model_selection import GridSearchCV\n",
    "from sklearn.metrics import mean_squared_error\n",
    "from sklearn.linear_model import LinearRegression\n",
    "from sklearn.model_selection import cross_val_score\n",
    "from sklearn.dummy import DummyRegressor"
   ],
   "execution_count":13,
   "outputs":[
    
   ],
   "metadata":{
    "datalore":{
     "type":"CODE",
     "hide_input_from_viewers":false,
     "hide_output_from_viewers":false
    }
   }
  },
  {
   "cell_type":"code",
   "source":[
    "data = pd.read_csv('autos.csv')"
   ],
   "execution_count":14,
   "outputs":[
    
   ],
   "metadata":{
    "datalore":{
     "type":"CODE",
     "hide_input_from_viewers":false,
     "hide_output_from_viewers":false
    }
   }
  },
  {
   "cell_type":"code",
   "source":[
    "data.head()"
   ],
   "execution_count":15,
   "outputs":[
    {
     "data":{
      "text\/html":[
       "<div>\n",
       "<style scoped>\n",
       "    .dataframe tbody tr th:only-of-type {\n",
       "        vertical-align: middle;\n",
       "    }\n",
       "\n",
       "    .dataframe tbody tr th {\n",
       "        vertical-align: top;\n",
       "    }\n",
       "\n",
       "    .dataframe thead th {\n",
       "        text-align: right;\n",
       "    }\n",
       "<\/style>\n",
       "<table border=\"1\" class=\"dataframe\">\n",
       "  <thead>\n",
       "    <tr style=\"text-align: right;\">\n",
       "      <th><\/th>\n",
       "      <th>DateCrawled<\/th>\n",
       "      <th>Price<\/th>\n",
       "      <th>VehicleType<\/th>\n",
       "      <th>RegistrationYear<\/th>\n",
       "      <th>Gearbox<\/th>\n",
       "      <th>Power<\/th>\n",
       "      <th>Model<\/th>\n",
       "      <th>Kilometer<\/th>\n",
       "      <th>RegistrationMonth<\/th>\n",
       "      <th>FuelType<\/th>\n",
       "      <th>Brand<\/th>\n",
       "      <th>NotRepaired<\/th>\n",
       "      <th>DateCreated<\/th>\n",
       "      <th>NumberOfPictures<\/th>\n",
       "      <th>PostalCode<\/th>\n",
       "      <th>LastSeen<\/th>\n",
       "    <\/tr>\n",
       "  <\/thead>\n",
       "  <tbody>\n",
       "    <tr>\n",
       "      <th>0<\/th>\n",
       "      <td>2016-03-24 11:52:17<\/td>\n",
       "      <td>480<\/td>\n",
       "      <td>NaN<\/td>\n",
       "      <td>1993<\/td>\n",
       "      <td>manual<\/td>\n",
       "      <td>0<\/td>\n",
       "      <td>golf<\/td>\n",
       "      <td>150000<\/td>\n",
       "      <td>0<\/td>\n",
       "      <td>petrol<\/td>\n",
       "      <td>volkswagen<\/td>\n",
       "      <td>NaN<\/td>\n",
       "      <td>2016-03-24 00:00:00<\/td>\n",
       "      <td>0<\/td>\n",
       "      <td>70435<\/td>\n",
       "      <td>2016-04-07 03:16:57<\/td>\n",
       "    <\/tr>\n",
       "    <tr>\n",
       "      <th>1<\/th>\n",
       "      <td>2016-03-24 10:58:45<\/td>\n",
       "      <td>18300<\/td>\n",
       "      <td>coupe<\/td>\n",
       "      <td>2011<\/td>\n",
       "      <td>manual<\/td>\n",
       "      <td>190<\/td>\n",
       "      <td>NaN<\/td>\n",
       "      <td>125000<\/td>\n",
       "      <td>5<\/td>\n",
       "      <td>gasoline<\/td>\n",
       "      <td>audi<\/td>\n",
       "      <td>yes<\/td>\n",
       "      <td>2016-03-24 00:00:00<\/td>\n",
       "      <td>0<\/td>\n",
       "      <td>66954<\/td>\n",
       "      <td>2016-04-07 01:46:50<\/td>\n",
       "    <\/tr>\n",
       "    <tr>\n",
       "      <th>2<\/th>\n",
       "      <td>2016-03-14 12:52:21<\/td>\n",
       "      <td>9800<\/td>\n",
       "      <td>suv<\/td>\n",
       "      <td>2004<\/td>\n",
       "      <td>auto<\/td>\n",
       "      <td>163<\/td>\n",
       "      <td>grand<\/td>\n",
       "      <td>125000<\/td>\n",
       "      <td>8<\/td>\n",
       "      <td>gasoline<\/td>\n",
       "      <td>jeep<\/td>\n",
       "      <td>NaN<\/td>\n",
       "      <td>2016-03-14 00:00:00<\/td>\n",
       "      <td>0<\/td>\n",
       "      <td>90480<\/td>\n",
       "      <td>2016-04-05 12:47:46<\/td>\n",
       "    <\/tr>\n",
       "    <tr>\n",
       "      <th>3<\/th>\n",
       "      <td>2016-03-17 16:54:04<\/td>\n",
       "      <td>1500<\/td>\n",
       "      <td>small<\/td>\n",
       "      <td>2001<\/td>\n",
       "      <td>manual<\/td>\n",
       "      <td>75<\/td>\n",
       "      <td>golf<\/td>\n",
       "      <td>150000<\/td>\n",
       "      <td>6<\/td>\n",
       "      <td>petrol<\/td>\n",
       "      <td>volkswagen<\/td>\n",
       "      <td>no<\/td>\n",
       "      <td>2016-03-17 00:00:00<\/td>\n",
       "      <td>0<\/td>\n",
       "      <td>91074<\/td>\n",
       "      <td>2016-03-17 17:40:17<\/td>\n",
       "    <\/tr>\n",
       "    <tr>\n",
       "      <th>4<\/th>\n",
       "      <td>2016-03-31 17:25:20<\/td>\n",
       "      <td>3600<\/td>\n",
       "      <td>small<\/td>\n",
       "      <td>2008<\/td>\n",
       "      <td>manual<\/td>\n",
       "      <td>69<\/td>\n",
       "      <td>fabia<\/td>\n",
       "      <td>90000<\/td>\n",
       "      <td>7<\/td>\n",
       "      <td>gasoline<\/td>\n",
       "      <td>skoda<\/td>\n",
       "      <td>no<\/td>\n",
       "      <td>2016-03-31 00:00:00<\/td>\n",
       "      <td>0<\/td>\n",
       "      <td>60437<\/td>\n",
       "      <td>2016-04-06 10:17:21<\/td>\n",
       "    <\/tr>\n",
       "  <\/tbody>\n",
       "<\/table>\n",
       "<\/div>"
      ]
     },
     "metadata":{
      
     },
     "output_type":"display_data"
    }
   ],
   "metadata":{
    "datalore":{
     "type":"CODE",
     "hide_input_from_viewers":false,
     "hide_output_from_viewers":false
    }
   }
  },
  {
   "cell_type":"markdown",
   "source":[
    "**Признаки**\n",
    "- DateCrawled — дата скачивания анкеты из базы\n",
    "- VehicleType — тип автомобильного кузова\n",
    "- RegistrationYear — год регистрации автомобиля\n",
    "- Gearbox — тип коробки передач\n",
    "- Power — мощность (л. с.)\n",
    "- Model — модель автомобиля\n",
    "- Kilometer — пробег (км)\n",
    "- RegistrationMonth — месяц регистрации автомобиля\n",
    "- FuelType — тип топлива\n",
    "- Brand — марка автомобиля\n",
    "- NotRepaired — была машина в ремонте или нет\n",
    "- DateCreated — дата создания анкеты\n",
    "- NumberOfPictures — количество фотографий автомобиля\n",
    "- PostalCode — почтовый индекс владельца анкеты (пользователя)\n",
    "- LastSeen — дата последней активности пользователя\n",
    "  \n",
    "**Целевой признак**\n",
    "- Price — цена (евро)"
   ],
   "attachments":{
    
   },
   "metadata":{
    "datalore":{
     "type":"MD",
     "hide_input_from_viewers":false,
     "hide_output_from_viewers":false
    }
   }
  },
  {
   "cell_type":"code",
   "source":[
    "data.info()"
   ],
   "execution_count":16,
   "outputs":[
    {
     "name":"stdout",
     "text":[
      "<class 'pandas.core.frame.DataFrame'>\n",
      "RangeIndex: 354369 entries, 0 to 354368\n",
      "Data columns (total 16 columns):\n",
      " #   Column             Non-Null Count   Dtype \n",
      "---  ------             --------------   ----- \n",
      " 0   DateCrawled        354369 non-null  object\n",
      " 1   Price              354369 non-null  int64 \n",
      " 2   VehicleType        316879 non-null  object\n",
      " 3   RegistrationYear   354369 non-null  int64 \n",
      " 4   Gearbox            334536 non-null  object\n",
      " 5   Power              354369 non-null  int64 \n",
      " 6   Model              334664 non-null  object\n",
      " 7   Kilometer          354369 non-null  int64 \n",
      " 8   RegistrationMonth  354369 non-null  int64 \n",
      " 9   FuelType           321474 non-null  object\n",
      " 10  Brand              354369 non-null  object\n",
      " 11  NotRepaired        283215 non-null  object\n",
      " 12  DateCreated        354369 non-null  object\n",
      " 13  NumberOfPictures   354369 non-null  int64 \n",
      " 14  PostalCode         354369 non-null  int64 \n",
      " 15  LastSeen           354369 non-null  object\n",
      "dtypes: int64(7), object(9)\n",
      "memory usage: 43.3+ MB\n"
     ],
     "output_type":"stream"
    }
   ],
   "metadata":{
    "datalore":{
     "type":"CODE",
     "hide_input_from_viewers":false,
     "hide_output_from_viewers":false
    }
   }
  },
  {
   "cell_type":"code",
   "source":[
    "data['PostalCode'] = data['PostalCode'].astype('object')"
   ],
   "execution_count":17,
   "outputs":[
    
   ],
   "metadata":{
    "datalore":{
     "type":"CODE",
     "hide_input_from_viewers":false,
     "hide_output_from_viewers":false
    }
   }
  },
  {
   "cell_type":"markdown",
   "source":[
    "Всего в нашем датасете - 354669 записей и 16 колонок. Есть пропущенные значения в нескольких колонках, в большинстве колонок типы данных указаны корректно, кроме тех, что связаны с датой скачивания анкеты из базы и датой последней активности пользователя - их мы не будем использовать при построении моделей, поэтому не будет пока изменять.  \n",
    "\n",
    "Давайте проведем предобработку данных, проверим есть ли выбросы или некорректные значения внутри наших признаков."
   ],
   "attachments":{
    
   },
   "metadata":{
    "datalore":{
     "type":"MD",
     "hide_input_from_viewers":false,
     "hide_output_from_viewers":false
    }
   }
  },
  {
   "cell_type":"markdown",
   "source":[
    "## Предобработка данных"
   ],
   "attachments":{
    
   },
   "metadata":{
    "datalore":{
     "type":"MD",
     "hide_input_from_viewers":false,
     "hide_output_from_viewers":false
    }
   }
  },
  {
   "cell_type":"code",
   "source":[
    "data.describe()"
   ],
   "execution_count":18,
   "outputs":[
    {
     "data":{
      "text\/html":[
       "<div>\n",
       "<style scoped>\n",
       "    .dataframe tbody tr th:only-of-type {\n",
       "        vertical-align: middle;\n",
       "    }\n",
       "\n",
       "    .dataframe tbody tr th {\n",
       "        vertical-align: top;\n",
       "    }\n",
       "\n",
       "    .dataframe thead th {\n",
       "        text-align: right;\n",
       "    }\n",
       "<\/style>\n",
       "<table border=\"1\" class=\"dataframe\">\n",
       "  <thead>\n",
       "    <tr style=\"text-align: right;\">\n",
       "      <th><\/th>\n",
       "      <th>Price<\/th>\n",
       "      <th>RegistrationYear<\/th>\n",
       "      <th>Power<\/th>\n",
       "      <th>Kilometer<\/th>\n",
       "      <th>RegistrationMonth<\/th>\n",
       "      <th>NumberOfPictures<\/th>\n",
       "    <\/tr>\n",
       "  <\/thead>\n",
       "  <tbody>\n",
       "    <tr>\n",
       "      <th>count<\/th>\n",
       "      <td>354369.000000<\/td>\n",
       "      <td>354369.000000<\/td>\n",
       "      <td>354369.000000<\/td>\n",
       "      <td>354369.000000<\/td>\n",
       "      <td>354369.000000<\/td>\n",
       "      <td>354369.0<\/td>\n",
       "    <\/tr>\n",
       "    <tr>\n",
       "      <th>mean<\/th>\n",
       "      <td>4416.656776<\/td>\n",
       "      <td>2004.234448<\/td>\n",
       "      <td>110.094337<\/td>\n",
       "      <td>128211.172535<\/td>\n",
       "      <td>5.714645<\/td>\n",
       "      <td>0.0<\/td>\n",
       "    <\/tr>\n",
       "    <tr>\n",
       "      <th>std<\/th>\n",
       "      <td>4514.158514<\/td>\n",
       "      <td>90.227958<\/td>\n",
       "      <td>189.850405<\/td>\n",
       "      <td>37905.341530<\/td>\n",
       "      <td>3.726421<\/td>\n",
       "      <td>0.0<\/td>\n",
       "    <\/tr>\n",
       "    <tr>\n",
       "      <th>min<\/th>\n",
       "      <td>0.000000<\/td>\n",
       "      <td>1000.000000<\/td>\n",
       "      <td>0.000000<\/td>\n",
       "      <td>5000.000000<\/td>\n",
       "      <td>0.000000<\/td>\n",
       "      <td>0.0<\/td>\n",
       "    <\/tr>\n",
       "    <tr>\n",
       "      <th>25%<\/th>\n",
       "      <td>1050.000000<\/td>\n",
       "      <td>1999.000000<\/td>\n",
       "      <td>69.000000<\/td>\n",
       "      <td>125000.000000<\/td>\n",
       "      <td>3.000000<\/td>\n",
       "      <td>0.0<\/td>\n",
       "    <\/tr>\n",
       "    <tr>\n",
       "      <th>50%<\/th>\n",
       "      <td>2700.000000<\/td>\n",
       "      <td>2003.000000<\/td>\n",
       "      <td>105.000000<\/td>\n",
       "      <td>150000.000000<\/td>\n",
       "      <td>6.000000<\/td>\n",
       "      <td>0.0<\/td>\n",
       "    <\/tr>\n",
       "    <tr>\n",
       "      <th>75%<\/th>\n",
       "      <td>6400.000000<\/td>\n",
       "      <td>2008.000000<\/td>\n",
       "      <td>143.000000<\/td>\n",
       "      <td>150000.000000<\/td>\n",
       "      <td>9.000000<\/td>\n",
       "      <td>0.0<\/td>\n",
       "    <\/tr>\n",
       "    <tr>\n",
       "      <th>max<\/th>\n",
       "      <td>20000.000000<\/td>\n",
       "      <td>9999.000000<\/td>\n",
       "      <td>20000.000000<\/td>\n",
       "      <td>150000.000000<\/td>\n",
       "      <td>12.000000<\/td>\n",
       "      <td>0.0<\/td>\n",
       "    <\/tr>\n",
       "  <\/tbody>\n",
       "<\/table>\n",
       "<\/div>"
      ]
     },
     "metadata":{
      
     },
     "output_type":"display_data"
    }
   ],
   "metadata":{
    "datalore":{
     "type":"CODE",
     "hide_input_from_viewers":false,
     "hide_output_from_viewers":false
    }
   }
  },
  {
   "cell_type":"markdown",
   "source":[
    "Мы видим, что есть проблемы с целевым признаком - есть нули. В годе регистрации так же есть явные выбросы и в нижнем пороге - 1000 и в верхнем 9999. Количество лошадинных сил тоже не всегда указано корректно, так например, есть значения с нулем, а есть какие-то слишком больше значения в 20000, хотя у самых мощных автомобилей в мире кол-во л. с. варьирует около 2000. \n",
    "\n",
    "Давайте изучим внимательнее признаки, для того, чтобы выбрарь стратегию работы с некорректными значениями"
   ],
   "attachments":{
    
   },
   "metadata":{
    "datalore":{
     "type":"MD",
     "hide_input_from_viewers":false,
     "hide_output_from_viewers":false
    }
   }
  },
  {
   "cell_type":"markdown",
   "source":[
    "### Целевой признак. Цена"
   ],
   "attachments":{
    
   },
   "metadata":{
    "datalore":{
     "type":"MD",
     "hide_input_from_viewers":false,
     "hide_output_from_viewers":false
    }
   }
  },
  {
   "cell_type":"markdown",
   "source":[
    "Для начала рассмотрим наш таргет - цену. Посмотрим на распределение"
   ],
   "attachments":{
    
   },
   "metadata":{
    "datalore":{
     "type":"MD",
     "hide_input_from_viewers":false,
     "hide_output_from_viewers":false
    }
   }
  },
  {
   "cell_type":"code",
   "source":[
    "sns.set_style('whitegrid')\n",
    "\n",
    "fig, axs = plt.subplots(1,2, figsize=(10, 5))\n",
    "\n",
    "axs[0].hist(data['Price'],bins=30 , color='grey')\n",
    "axs[1].hist(data[data['Price'] < 1000]['Price'], bins=20, color='grey')\n",
    "\n",
    "axs[0].set_title('Распределение цены во всем датасете')\n",
    "axs[1].set_title('Распределение цены до 1000 евро')\n",
    "\n",
    "plt.tight_layout()\n",
    "plt.show()"
   ],
   "execution_count":19,
   "outputs":[
    {
     "data":{
      "image\/png":"[encoded data removed]"
     },
     "metadata":{
      "image\/png":{
       
      }
     },
     "output_type":"display_data"
    }
   ],
   "metadata":{
    "datalore":{
     "type":"CODE",
     "hide_input_from_viewers":false,
     "hide_output_from_viewers":false
    }
   }
  },
  {
   "cell_type":"markdown",
   "source":[
    "Как мы можем увидеть по гистограммам в нашем датасете достаточно много объектов, у которых цена равна нулю. Скорее всего эти данные не корректны, и могли появиться либо из-за каких-то анкет, которые на самом деле создавались не с целью продажи авто, а например с целью проверки сервиса, либо просто некорректно было заполнено поле цены, либо продавец не хотел публиковать стоимость на сайте.\n",
    "\n",
    "Помимо нулевых значений, у нас есть также очень маленькая стоимость до 600 евро - можно предположить что это потенциально могли быть машины после серьезных аварий, или просто определенные достаточно дешевые модели. "
   ],
   "attachments":{
    
   },
   "metadata":{
    "datalore":{
     "type":"MD",
     "hide_input_from_viewers":false,
     "hide_output_from_viewers":false
    }
   }
  },
  {
   "cell_type":"code",
   "source":[
    "data[data['Price'] < 600].sample(10)"
   ],
   "execution_count":20,
   "outputs":[
    {
     "data":{
      "text\/html":[
       "<div>\n",
       "<style scoped>\n",
       "    .dataframe tbody tr th:only-of-type {\n",
       "        vertical-align: middle;\n",
       "    }\n",
       "\n",
       "    .dataframe tbody tr th {\n",
       "        vertical-align: top;\n",
       "    }\n",
       "\n",
       "    .dataframe thead th {\n",
       "        text-align: right;\n",
       "    }\n",
       "<\/style>\n",
       "<table border=\"1\" class=\"dataframe\">\n",
       "  <thead>\n",
       "    <tr style=\"text-align: right;\">\n",
       "      <th><\/th>\n",
       "      <th>DateCrawled<\/th>\n",
       "      <th>Price<\/th>\n",
       "      <th>VehicleType<\/th>\n",
       "      <th>RegistrationYear<\/th>\n",
       "      <th>Gearbox<\/th>\n",
       "      <th>Power<\/th>\n",
       "      <th>Model<\/th>\n",
       "      <th>Kilometer<\/th>\n",
       "      <th>RegistrationMonth<\/th>\n",
       "      <th>FuelType<\/th>\n",
       "      <th>Brand<\/th>\n",
       "      <th>NotRepaired<\/th>\n",
       "      <th>DateCreated<\/th>\n",
       "      <th>NumberOfPictures<\/th>\n",
       "      <th>PostalCode<\/th>\n",
       "      <th>LastSeen<\/th>\n",
       "    <\/tr>\n",
       "  <\/thead>\n",
       "  <tbody>\n",
       "    <tr>\n",
       "      <th>280<\/th>\n",
       "      <td>2016-03-29 23:55:12<\/td>\n",
       "      <td>590<\/td>\n",
       "      <td>sedan<\/td>\n",
       "      <td>1996<\/td>\n",
       "      <td>manual<\/td>\n",
       "      <td>0<\/td>\n",
       "      <td>corsa<\/td>\n",
       "      <td>150000<\/td>\n",
       "      <td>0<\/td>\n",
       "      <td>NaN<\/td>\n",
       "      <td>opel<\/td>\n",
       "      <td>NaN<\/td>\n",
       "      <td>2016-03-29 00:00:00<\/td>\n",
       "      <td>0<\/td>\n",
       "      <td>32052<\/td>\n",
       "      <td>2016-04-06 21:18:19<\/td>\n",
       "    <\/tr>\n",
       "    <tr>\n",
       "      <th>324417<\/th>\n",
       "      <td>2016-03-15 11:50:51<\/td>\n",
       "      <td>500<\/td>\n",
       "      <td>wagon<\/td>\n",
       "      <td>1997<\/td>\n",
       "      <td>auto<\/td>\n",
       "      <td>150<\/td>\n",
       "      <td>NaN<\/td>\n",
       "      <td>150000<\/td>\n",
       "      <td>7<\/td>\n",
       "      <td>gasoline<\/td>\n",
       "      <td>mercedes_benz<\/td>\n",
       "      <td>no<\/td>\n",
       "      <td>2016-03-15 00:00:00<\/td>\n",
       "      <td>0<\/td>\n",
       "      <td>29410<\/td>\n",
       "      <td>2016-03-15 11:50:51<\/td>\n",
       "    <\/tr>\n",
       "    <tr>\n",
       "      <th>182848<\/th>\n",
       "      <td>2016-03-30 15:50:09<\/td>\n",
       "      <td>450<\/td>\n",
       "      <td>sedan<\/td>\n",
       "      <td>1988<\/td>\n",
       "      <td>manual<\/td>\n",
       "      <td>55<\/td>\n",
       "      <td>golf<\/td>\n",
       "      <td>150000<\/td>\n",
       "      <td>8<\/td>\n",
       "      <td>petrol<\/td>\n",
       "      <td>volkswagen<\/td>\n",
       "      <td>no<\/td>\n",
       "      <td>2016-03-30 00:00:00<\/td>\n",
       "      <td>0<\/td>\n",
       "      <td>51580<\/td>\n",
       "      <td>2016-04-01 10:17:54<\/td>\n",
       "    <\/tr>\n",
       "    <tr>\n",
       "      <th>130177<\/th>\n",
       "      <td>2016-03-17 22:42:37<\/td>\n",
       "      <td>1<\/td>\n",
       "      <td>wagon<\/td>\n",
       "      <td>1996<\/td>\n",
       "      <td>manual<\/td>\n",
       "      <td>0<\/td>\n",
       "      <td>e_klasse<\/td>\n",
       "      <td>5000<\/td>\n",
       "      <td>0<\/td>\n",
       "      <td>petrol<\/td>\n",
       "      <td>mercedes_benz<\/td>\n",
       "      <td>NaN<\/td>\n",
       "      <td>2016-03-17 00:00:00<\/td>\n",
       "      <td>0<\/td>\n",
       "      <td>50667<\/td>\n",
       "      <td>2016-04-07 13:17:31<\/td>\n",
       "    <\/tr>\n",
       "    <tr>\n",
       "      <th>303805<\/th>\n",
       "      <td>2016-04-03 16:48:29<\/td>\n",
       "      <td>0<\/td>\n",
       "      <td>small<\/td>\n",
       "      <td>1997<\/td>\n",
       "      <td>manual<\/td>\n",
       "      <td>75<\/td>\n",
       "      <td>other<\/td>\n",
       "      <td>150000<\/td>\n",
       "      <td>0<\/td>\n",
       "      <td>petrol<\/td>\n",
       "      <td>toyota<\/td>\n",
       "      <td>NaN<\/td>\n",
       "      <td>2016-04-03 00:00:00<\/td>\n",
       "      <td>0<\/td>\n",
       "      <td>41515<\/td>\n",
       "      <td>2016-04-03 16:48:29<\/td>\n",
       "    <\/tr>\n",
       "    <tr>\n",
       "      <th>194954<\/th>\n",
       "      <td>2016-03-23 16:59:26<\/td>\n",
       "      <td>350<\/td>\n",
       "      <td>wagon<\/td>\n",
       "      <td>1996<\/td>\n",
       "      <td>manual<\/td>\n",
       "      <td>115<\/td>\n",
       "      <td>NaN<\/td>\n",
       "      <td>150000<\/td>\n",
       "      <td>0<\/td>\n",
       "      <td>petrol<\/td>\n",
       "      <td>volkswagen<\/td>\n",
       "      <td>NaN<\/td>\n",
       "      <td>2016-03-23 00:00:00<\/td>\n",
       "      <td>0<\/td>\n",
       "      <td>8132<\/td>\n",
       "      <td>2016-03-26 10:46:12<\/td>\n",
       "    <\/tr>\n",
       "    <tr>\n",
       "      <th>160465<\/th>\n",
       "      <td>2016-03-14 12:36:24<\/td>\n",
       "      <td>500<\/td>\n",
       "      <td>coupe<\/td>\n",
       "      <td>1995<\/td>\n",
       "      <td>auto<\/td>\n",
       "      <td>0<\/td>\n",
       "      <td>3er<\/td>\n",
       "      <td>150000<\/td>\n",
       "      <td>6<\/td>\n",
       "      <td>petrol<\/td>\n",
       "      <td>bmw<\/td>\n",
       "      <td>NaN<\/td>\n",
       "      <td>2016-03-14 00:00:00<\/td>\n",
       "      <td>0<\/td>\n",
       "      <td>39124<\/td>\n",
       "      <td>2016-04-05 11:50:24<\/td>\n",
       "    <\/tr>\n",
       "    <tr>\n",
       "      <th>305112<\/th>\n",
       "      <td>2016-03-15 13:41:12<\/td>\n",
       "      <td>500<\/td>\n",
       "      <td>sedan<\/td>\n",
       "      <td>1997<\/td>\n",
       "      <td>manual<\/td>\n",
       "      <td>0<\/td>\n",
       "      <td>corsa<\/td>\n",
       "      <td>150000<\/td>\n",
       "      <td>1<\/td>\n",
       "      <td>petrol<\/td>\n",
       "      <td>opel<\/td>\n",
       "      <td>NaN<\/td>\n",
       "      <td>2016-03-15 00:00:00<\/td>\n",
       "      <td>0<\/td>\n",
       "      <td>67574<\/td>\n",
       "      <td>2016-03-15 13:41:12<\/td>\n",
       "    <\/tr>\n",
       "    <tr>\n",
       "      <th>43959<\/th>\n",
       "      <td>2016-03-20 13:42:49<\/td>\n",
       "      <td>250<\/td>\n",
       "      <td>small<\/td>\n",
       "      <td>1995<\/td>\n",
       "      <td>manual<\/td>\n",
       "      <td>45<\/td>\n",
       "      <td>NaN<\/td>\n",
       "      <td>150000<\/td>\n",
       "      <td>9<\/td>\n",
       "      <td>petrol<\/td>\n",
       "      <td>opel<\/td>\n",
       "      <td>yes<\/td>\n",
       "      <td>2016-03-20 00:00:00<\/td>\n",
       "      <td>0<\/td>\n",
       "      <td>44653<\/td>\n",
       "      <td>2016-03-24 05:15:46<\/td>\n",
       "    <\/tr>\n",
       "    <tr>\n",
       "      <th>67703<\/th>\n",
       "      <td>2016-03-15 12:36:43<\/td>\n",
       "      <td>400<\/td>\n",
       "      <td>NaN<\/td>\n",
       "      <td>2000<\/td>\n",
       "      <td>manual<\/td>\n",
       "      <td>75<\/td>\n",
       "      <td>golf<\/td>\n",
       "      <td>150000<\/td>\n",
       "      <td>0<\/td>\n",
       "      <td>petrol<\/td>\n",
       "      <td>volkswagen<\/td>\n",
       "      <td>NaN<\/td>\n",
       "      <td>2016-03-15 00:00:00<\/td>\n",
       "      <td>0<\/td>\n",
       "      <td>31855<\/td>\n",
       "      <td>2016-03-17 06:16:59<\/td>\n",
       "    <\/tr>\n",
       "  <\/tbody>\n",
       "<\/table>\n",
       "<\/div>"
      ]
     },
     "metadata":{
      
     },
     "output_type":"display_data"
    }
   ],
   "metadata":{
    "datalore":{
     "type":"CODE",
     "hide_input_from_viewers":false,
     "hide_output_from_viewers":false
    }
   }
  },
  {
   "cell_type":"code",
   "source":[
    "data[data['Price'] < 600].describe()"
   ],
   "execution_count":21,
   "outputs":[
    {
     "data":{
      "text\/html":[
       "<div>\n",
       "<style scoped>\n",
       "    .dataframe tbody tr th:only-of-type {\n",
       "        vertical-align: middle;\n",
       "    }\n",
       "\n",
       "    .dataframe tbody tr th {\n",
       "        vertical-align: top;\n",
       "    }\n",
       "\n",
       "    .dataframe thead th {\n",
       "        text-align: right;\n",
       "    }\n",
       "<\/style>\n",
       "<table border=\"1\" class=\"dataframe\">\n",
       "  <thead>\n",
       "    <tr style=\"text-align: right;\">\n",
       "      <th><\/th>\n",
       "      <th>Price<\/th>\n",
       "      <th>RegistrationYear<\/th>\n",
       "      <th>Power<\/th>\n",
       "      <th>Kilometer<\/th>\n",
       "      <th>RegistrationMonth<\/th>\n",
       "      <th>NumberOfPictures<\/th>\n",
       "    <\/tr>\n",
       "  <\/thead>\n",
       "  <tbody>\n",
       "    <tr>\n",
       "      <th>count<\/th>\n",
       "      <td>46326.000000<\/td>\n",
       "      <td>46326.000000<\/td>\n",
       "      <td>46326.000000<\/td>\n",
       "      <td>46326.000000<\/td>\n",
       "      <td>46326.000000<\/td>\n",
       "      <td>46326.0<\/td>\n",
       "    <\/tr>\n",
       "    <tr>\n",
       "      <th>mean<\/th>\n",
       "      <td>267.101282<\/td>\n",
       "      <td>2003.778915<\/td>\n",
       "      <td>68.877542<\/td>\n",
       "      <td>131994.020636<\/td>\n",
       "      <td>4.230087<\/td>\n",
       "      <td>0.0<\/td>\n",
       "    <\/tr>\n",
       "    <tr>\n",
       "      <th>std<\/th>\n",
       "      <td>204.138224<\/td>\n",
       "      <td>185.403448<\/td>\n",
       "      <td>183.097878<\/td>\n",
       "      <td>40999.526762<\/td>\n",
       "      <td>3.978465<\/td>\n",
       "      <td>0.0<\/td>\n",
       "    <\/tr>\n",
       "    <tr>\n",
       "      <th>min<\/th>\n",
       "      <td>0.000000<\/td>\n",
       "      <td>1000.000000<\/td>\n",
       "      <td>0.000000<\/td>\n",
       "      <td>5000.000000<\/td>\n",
       "      <td>0.000000<\/td>\n",
       "      <td>0.0<\/td>\n",
       "    <\/tr>\n",
       "    <tr>\n",
       "      <th>25%<\/th>\n",
       "      <td>1.000000<\/td>\n",
       "      <td>1996.000000<\/td>\n",
       "      <td>0.000000<\/td>\n",
       "      <td>150000.000000<\/td>\n",
       "      <td>0.000000<\/td>\n",
       "      <td>0.0<\/td>\n",
       "    <\/tr>\n",
       "    <tr>\n",
       "      <th>50%<\/th>\n",
       "      <td>299.500000<\/td>\n",
       "      <td>1998.000000<\/td>\n",
       "      <td>60.000000<\/td>\n",
       "      <td>150000.000000<\/td>\n",
       "      <td>4.000000<\/td>\n",
       "      <td>0.0<\/td>\n",
       "    <\/tr>\n",
       "    <tr>\n",
       "      <th>75%<\/th>\n",
       "      <td>450.000000<\/td>\n",
       "      <td>2001.000000<\/td>\n",
       "      <td>100.000000<\/td>\n",
       "      <td>150000.000000<\/td>\n",
       "      <td>7.000000<\/td>\n",
       "      <td>0.0<\/td>\n",
       "    <\/tr>\n",
       "    <tr>\n",
       "      <th>max<\/th>\n",
       "      <td>599.000000<\/td>\n",
       "      <td>9999.000000<\/td>\n",
       "      <td>15016.000000<\/td>\n",
       "      <td>150000.000000<\/td>\n",
       "      <td>12.000000<\/td>\n",
       "      <td>0.0<\/td>\n",
       "    <\/tr>\n",
       "  <\/tbody>\n",
       "<\/table>\n",
       "<\/div>"
      ]
     },
     "metadata":{
      
     },
     "output_type":"display_data"
    }
   ],
   "metadata":{
    "datalore":{
     "type":"CODE",
     "hide_input_from_viewers":false,
     "hide_output_from_viewers":false
    }
   }
  },
  {
   "cell_type":"markdown",
   "source":[
    "Да, в принципе, мы видим что в основном это достаточно старые машины - медиана 1998 год"
   ],
   "attachments":{
    
   },
   "metadata":{
    "datalore":{
     "type":"MD",
     "hide_input_from_viewers":false,
     "hide_output_from_viewers":false
    }
   }
  },
  {
   "cell_type":"code",
   "source":[
    "shape = data[data['Price'] < 50].shape[0]\n",
    "print(f'Всего объектов с ценой меньше 50 евро: {shape}')\n",
    "data[data['Price'] < 50].isnull().mean()"
   ],
   "execution_count":22,
   "outputs":[
    {
     "name":"stdout",
     "text":[
      "Всего объектов с ценой меньше 50 евро: 12423\n"
     ],
     "output_type":"stream"
    },
    {
     "data":{
      "text\/html":[
       
      ]
     },
     "metadata":{
      
     },
     "output_type":"display_data"
    }
   ],
   "metadata":{
    "datalore":{
     "type":"CODE",
     "hide_input_from_viewers":false,
     "hide_output_from_viewers":false
    }
   }
  },
  {
   "cell_type":"markdown",
   "source":[
    "Мне кажется, что нет смысла пытаться востановить реальную стоимость этих машин - всего строчек с ценой меньше 50 евро **12423**. \n",
    "\n",
    "Во-первых, там достаточно много пропусков в таких категориальных переменных, которые потенциально могли бы помочь в определении рыночной стоимости, а во-вторых, даже если бы мы их восстановили, непонятно, насколько удачно нам бы удалось это сделать и не повредили ли бы наши расчеты будущим алгоритмам предсказания. \n",
    "\n",
    "**Поэтому предлагаю далее обрабатывать данные и строить модели без наблюдений с ценой до 50 евро.**"
   ],
   "attachments":{
    
   },
   "metadata":{
    "datalore":{
     "type":"MD",
     "hide_input_from_viewers":false,
     "hide_output_from_viewers":false
    }
   }
  },
  {
   "cell_type":"code",
   "source":[
    "data_without_null = data[data['Price'] > 50]"
   ],
   "execution_count":23,
   "outputs":[
    
   ],
   "metadata":{
    "datalore":{
     "type":"CODE",
     "hide_input_from_viewers":false,
     "hide_output_from_viewers":false
    }
   }
  },
  {
   "cell_type":"code",
   "source":[
    "data_without_null.shape"
   ],
   "execution_count":24,
   "outputs":[
    {
     "data":{
      "text\/plain":[
       "(341619, 16)"
      ]
     },
     "metadata":{
      
     },
     "output_type":"display_data"
    }
   ],
   "metadata":{
    "datalore":{
     "type":"CODE",
     "hide_input_from_viewers":false,
     "hide_output_from_viewers":false
    }
   }
  },
  {
   "cell_type":"markdown",
   "source":[
    "### RegistrationYear"
   ],
   "attachments":{
    
   },
   "metadata":{
    "datalore":{
     "type":"MD",
     "hide_input_from_viewers":false,
     "hide_output_from_viewers":false
    }
   }
  },
  {
   "cell_type":"code",
   "source":[
    "sns.catplot(x='RegistrationYear', data=data_without_null, kind='box')\n",
    "plt.title('Box-plot года регистрации')\n",
    "plt.show()"
   ],
   "execution_count":25,
   "outputs":[
    {
     "data":{
      "image\/png":"[encoded data removed]"
     },
     "metadata":{
      "image\/png":{
       
      }
     },
     "output_type":"display_data"
    }
   ],
   "metadata":{
    "datalore":{
     "type":"CODE",
     "hide_input_from_viewers":false,
     "hide_output_from_viewers":false
    }
   }
  },
  {
   "cell_type":"markdown",
   "source":[
    "Несмотря на то, что наиболее часто встречающиеся года регистрации оказываются около 2000 года - как и требовалось ожидать, в датасете есть множество ошибочных значений - старше 2020 года, что физически не может быть возможным. Давайте с помощью условий, посмотрим сколько объектов с некорректно установленной датой регистрации и есть ли какие-то отличительные особенности, которые помогут нам восстановить эти значения."
   ],
   "attachments":{
    
   },
   "metadata":{
    "datalore":{
     "type":"MD",
     "hide_input_from_viewers":false,
     "hide_output_from_viewers":false
    }
   }
  },
  {
   "cell_type":"code",
   "source":[
    "condition = (data_without_null['RegistrationYear'] > 2022) | (data_without_null['RegistrationYear'] < 1850)\n",
    "data_without_null[condition]"
   ],
   "execution_count":26,
   "outputs":[
    {
     "data":{
      "text\/html":[
       "<div>\n",
       "<style scoped>\n",
       "    .dataframe tbody tr th:only-of-type {\n",
       "        vertical-align: middle;\n",
       "    }\n",
       "\n",
       "    .dataframe tbody tr th {\n",
       "        vertical-align: top;\n",
       "    }\n",
       "\n",
       "    .dataframe thead th {\n",
       "        text-align: right;\n",
       "    }\n",
       "<\/style>\n",
       "<table border=\"1\" class=\"dataframe\">\n",
       "  <thead>\n",
       "    <tr style=\"text-align: right;\">\n",
       "      <th><\/th>\n",
       "      <th>DateCrawled<\/th>\n",
       "      <th>Price<\/th>\n",
       "      <th>VehicleType<\/th>\n",
       "      <th>RegistrationYear<\/th>\n",
       "      <th>Gearbox<\/th>\n",
       "      <th>Power<\/th>\n",
       "      <th>Model<\/th>\n",
       "      <th>Kilometer<\/th>\n",
       "      <th>RegistrationMonth<\/th>\n",
       "      <th>FuelType<\/th>\n",
       "      <th>Brand<\/th>\n",
       "      <th>NotRepaired<\/th>\n",
       "      <th>DateCreated<\/th>\n",
       "      <th>NumberOfPictures<\/th>\n",
       "      <th>PostalCode<\/th>\n",
       "      <th>LastSeen<\/th>\n",
       "    <\/tr>\n",
       "  <\/thead>\n",
       "  <tbody>\n",
       "    <tr>\n",
       "      <th>15870<\/th>\n",
       "      <td>2016-04-02 11:55:48<\/td>\n",
       "      <td>1700<\/td>\n",
       "      <td>NaN<\/td>\n",
       "      <td>3200<\/td>\n",
       "      <td>NaN<\/td>\n",
       "      <td>0<\/td>\n",
       "      <td>NaN<\/td>\n",
       "      <td>5000<\/td>\n",
       "      <td>0<\/td>\n",
       "      <td>NaN<\/td>\n",
       "      <td>sonstige_autos<\/td>\n",
       "      <td>NaN<\/td>\n",
       "      <td>2016-04-02 00:00:00<\/td>\n",
       "      <td>0<\/td>\n",
       "      <td>33649<\/td>\n",
       "      <td>2016-04-06 09:46:13<\/td>\n",
       "    <\/tr>\n",
       "    <tr>\n",
       "      <th>16062<\/th>\n",
       "      <td>2016-03-29 23:42:16<\/td>\n",
       "      <td>190<\/td>\n",
       "      <td>NaN<\/td>\n",
       "      <td>1000<\/td>\n",
       "      <td>NaN<\/td>\n",
       "      <td>0<\/td>\n",
       "      <td>mondeo<\/td>\n",
       "      <td>5000<\/td>\n",
       "      <td>0<\/td>\n",
       "      <td>NaN<\/td>\n",
       "      <td>ford<\/td>\n",
       "      <td>NaN<\/td>\n",
       "      <td>2016-03-29 00:00:00<\/td>\n",
       "      <td>0<\/td>\n",
       "      <td>47166<\/td>\n",
       "      <td>2016-04-06 10:44:58<\/td>\n",
       "    <\/tr>\n",
       "    <tr>\n",
       "      <th>17271<\/th>\n",
       "      <td>2016-03-23 16:43:29<\/td>\n",
       "      <td>700<\/td>\n",
       "      <td>NaN<\/td>\n",
       "      <td>9999<\/td>\n",
       "      <td>NaN<\/td>\n",
       "      <td>0<\/td>\n",
       "      <td>other<\/td>\n",
       "      <td>10000<\/td>\n",
       "      <td>0<\/td>\n",
       "      <td>NaN<\/td>\n",
       "      <td>opel<\/td>\n",
       "      <td>NaN<\/td>\n",
       "      <td>2016-03-23 00:00:00<\/td>\n",
       "      <td>0<\/td>\n",
       "      <td>21769<\/td>\n",
       "      <td>2016-04-05 20:16:15<\/td>\n",
       "    <\/tr>\n",
       "    <tr>\n",
       "      <th>17346<\/th>\n",
       "      <td>2016-03-06 16:06:20<\/td>\n",
       "      <td>6500<\/td>\n",
       "      <td>NaN<\/td>\n",
       "      <td>8888<\/td>\n",
       "      <td>NaN<\/td>\n",
       "      <td>0<\/td>\n",
       "      <td>NaN<\/td>\n",
       "      <td>10000<\/td>\n",
       "      <td>0<\/td>\n",
       "      <td>NaN<\/td>\n",
       "      <td>sonstige_autos<\/td>\n",
       "      <td>NaN<\/td>\n",
       "      <td>2016-03-06 00:00:00<\/td>\n",
       "      <td>0<\/td>\n",
       "      <td>55262<\/td>\n",
       "      <td>2016-03-30 20:46:55<\/td>\n",
       "    <\/tr>\n",
       "    <tr>\n",
       "      <th>18224<\/th>\n",
       "      <td>2016-03-09 17:49:44<\/td>\n",
       "      <td>7999<\/td>\n",
       "      <td>NaN<\/td>\n",
       "      <td>1500<\/td>\n",
       "      <td>manual<\/td>\n",
       "      <td>224<\/td>\n",
       "      <td>impreza<\/td>\n",
       "      <td>5000<\/td>\n",
       "      <td>3<\/td>\n",
       "      <td>NaN<\/td>\n",
       "      <td>subaru<\/td>\n",
       "      <td>NaN<\/td>\n",
       "      <td>2016-03-09 00:00:00<\/td>\n",
       "      <td>0<\/td>\n",
       "      <td>53577<\/td>\n",
       "      <td>2016-03-15 05:15:17<\/td>\n",
       "    <\/tr>\n",
       "    <tr>\n",
       "      <th>...<\/th>\n",
       "      <td>...<\/td>\n",
       "      <td>...<\/td>\n",
       "      <td>...<\/td>\n",
       "      <td>...<\/td>\n",
       "      <td>...<\/td>\n",
       "      <td>...<\/td>\n",
       "      <td>...<\/td>\n",
       "      <td>...<\/td>\n",
       "      <td>...<\/td>\n",
       "      <td>...<\/td>\n",
       "      <td>...<\/td>\n",
       "      <td>...<\/td>\n",
       "      <td>...<\/td>\n",
       "      <td>...<\/td>\n",
       "      <td>...<\/td>\n",
       "      <td>...<\/td>\n",
       "    <\/tr>\n",
       "    <tr>\n",
       "      <th>328453<\/th>\n",
       "      <td>2016-03-14 18:54:32<\/td>\n",
       "      <td>450<\/td>\n",
       "      <td>NaN<\/td>\n",
       "      <td>2500<\/td>\n",
       "      <td>NaN<\/td>\n",
       "      <td>0<\/td>\n",
       "      <td>6_reihe<\/td>\n",
       "      <td>5000<\/td>\n",
       "      <td>0<\/td>\n",
       "      <td>NaN<\/td>\n",
       "      <td>mazda<\/td>\n",
       "      <td>NaN<\/td>\n",
       "      <td>2016-03-14 00:00:00<\/td>\n",
       "      <td>0<\/td>\n",
       "      <td>45475<\/td>\n",
       "      <td>2016-03-19 07:17:39<\/td>\n",
       "    <\/tr>\n",
       "    <tr>\n",
       "      <th>331753<\/th>\n",
       "      <td>2016-03-28 19:39:11<\/td>\n",
       "      <td>99<\/td>\n",
       "      <td>NaN<\/td>\n",
       "      <td>9999<\/td>\n",
       "      <td>NaN<\/td>\n",
       "      <td>0<\/td>\n",
       "      <td>1er<\/td>\n",
       "      <td>10000<\/td>\n",
       "      <td>0<\/td>\n",
       "      <td>NaN<\/td>\n",
       "      <td>bmw<\/td>\n",
       "      <td>NaN<\/td>\n",
       "      <td>2016-03-28 00:00:00<\/td>\n",
       "      <td>0<\/td>\n",
       "      <td>1239<\/td>\n",
       "      <td>2016-04-07 01:45:47<\/td>\n",
       "    <\/tr>\n",
       "    <tr>\n",
       "      <th>334967<\/th>\n",
       "      <td>2016-03-20 17:53:51<\/td>\n",
       "      <td>12000<\/td>\n",
       "      <td>NaN<\/td>\n",
       "      <td>4000<\/td>\n",
       "      <td>NaN<\/td>\n",
       "      <td>500<\/td>\n",
       "      <td>golf<\/td>\n",
       "      <td>5000<\/td>\n",
       "      <td>0<\/td>\n",
       "      <td>NaN<\/td>\n",
       "      <td>volkswagen<\/td>\n",
       "      <td>no<\/td>\n",
       "      <td>2016-03-20 00:00:00<\/td>\n",
       "      <td>0<\/td>\n",
       "      <td>57392<\/td>\n",
       "      <td>2016-04-07 00:46:30<\/td>\n",
       "    <\/tr>\n",
       "    <tr>\n",
       "      <th>340759<\/th>\n",
       "      <td>2016-04-04 23:55:47<\/td>\n",
       "      <td>700<\/td>\n",
       "      <td>NaN<\/td>\n",
       "      <td>1600<\/td>\n",
       "      <td>manual<\/td>\n",
       "      <td>1600<\/td>\n",
       "      <td>a3<\/td>\n",
       "      <td>150000<\/td>\n",
       "      <td>4<\/td>\n",
       "      <td>petrol<\/td>\n",
       "      <td>audi<\/td>\n",
       "      <td>no<\/td>\n",
       "      <td>2016-04-04 00:00:00<\/td>\n",
       "      <td>0<\/td>\n",
       "      <td>86343<\/td>\n",
       "      <td>2016-04-05 06:44:07<\/td>\n",
       "    <\/tr>\n",
       "    <tr>\n",
       "      <th>351682<\/th>\n",
       "      <td>2016-03-12 00:57:39<\/td>\n",
       "      <td>11500<\/td>\n",
       "      <td>NaN<\/td>\n",
       "      <td>1800<\/td>\n",
       "      <td>NaN<\/td>\n",
       "      <td>16<\/td>\n",
       "      <td>other<\/td>\n",
       "      <td>5000<\/td>\n",
       "      <td>6<\/td>\n",
       "      <td>petrol<\/td>\n",
       "      <td>fiat<\/td>\n",
       "      <td>NaN<\/td>\n",
       "      <td>2016-03-11 00:00:00<\/td>\n",
       "      <td>0<\/td>\n",
       "      <td>16515<\/td>\n",
       "      <td>2016-04-05 19:47:27<\/td>\n",
       "    <\/tr>\n",
       "  <\/tbody>\n",
       "<\/table>\n",
       "<p>124 rows × 16 columns<\/p>\n",
       "<\/div>"
      ]
     },
     "metadata":{
      
     },
     "output_type":"display_data"
    }
   ],
   "metadata":{
    "datalore":{
     "type":"CODE",
     "hide_input_from_viewers":false,
     "hide_output_from_viewers":false
    }
   }
  },
  {
   "cell_type":"markdown",
   "source":[
    "Так как значений не очень много - 124, и в них много пропусков и в категориальных и в количественных переменных - я пердлагаю просто убрать их из датасета. "
   ],
   "attachments":{
    
   },
   "metadata":{
    "datalore":{
     "type":"MD",
     "hide_input_from_viewers":false,
     "hide_output_from_viewers":false
    }
   }
  },
  {
   "cell_type":"code",
   "source":[
    "condition = (data_without_null['RegistrationYear'] > 2022) | (data_without_null['RegistrationYear'] < 1850)\n",
    "data_without_null = data_without_null.drop(data_without_null[condition].index)"
   ],
   "execution_count":27,
   "outputs":[
    
   ],
   "metadata":{
    "datalore":{
     "type":"CODE",
     "hide_input_from_viewers":false,
     "hide_output_from_viewers":false
    }
   }
  },
  {
   "cell_type":"code",
   "source":[
    "sns.catplot(x='RegistrationYear', data=data_without_null, kind='box')\n",
    "plt.title('Box-plot года регистрации')\n",
    "plt.show()"
   ],
   "execution_count":28,
   "outputs":[
    {
     "data":{
      "image\/png":"[encoded data removed]"
     },
     "metadata":{
      "image\/png":{
       
      }
     },
     "output_type":"display_data"
    }
   ],
   "metadata":{
    "datalore":{
     "type":"CODE",
     "hide_input_from_viewers":false,
     "hide_output_from_viewers":false
    }
   }
  },
  {
   "cell_type":"markdown",
   "source":[
    "### Power"
   ],
   "attachments":{
    
   },
   "metadata":{
    "datalore":{
     "type":"MD",
     "hide_input_from_viewers":false,
     "hide_output_from_viewers":false
    }
   }
  },
  {
   "cell_type":"code",
   "source":[
    "sns.catplot(x='Power', data=data_without_null, kind='box')\n",
    "plt.title('Box-plot мощности')\n",
    "plt.show()"
   ],
   "execution_count":29,
   "outputs":[
    {
     "data":{
      "image\/png":"[encoded data removed]"
     },
     "metadata":{
      "image\/png":{
       
      }
     },
     "output_type":"display_data"
    }
   ],
   "metadata":{
    "datalore":{
     "type":"CODE",
     "hide_input_from_viewers":false,
     "hide_output_from_viewers":false
    }
   }
  },
  {
   "cell_type":"code",
   "source":[
    "data_without_null['Power'].describe()"
   ],
   "execution_count":30,
   "outputs":[
    {
     "data":{
      "text\/html":[
       
      ]
     },
     "metadata":{
      
     },
     "output_type":"display_data"
    }
   ],
   "metadata":{
    "datalore":{
     "type":"CODE",
     "hide_input_from_viewers":false,
     "hide_output_from_viewers":false
    }
   }
  },
  {
   "cell_type":"markdown",
   "source":[
    "В данных с показателями мощности также есть ряд проблем, например, есть нулевые показатели, и очень большие значения вроде 20000 - последнее скорее всего не просто выброс, а именно некорректное значение, т. к. кол-во лошадинных сил у самых мощных машин находится около 2000 л. с., и соответсвенно наше максимальное значение очень сильно превышает данный показатель, что говорит о фактической невероности. "
   ],
   "attachments":{
    
   },
   "metadata":{
    "datalore":{
     "type":"MD",
     "hide_input_from_viewers":false,
     "hide_output_from_viewers":false
    }
   }
  },
  {
   "cell_type":"code",
   "source":[
    "data_without_null[data_without_null['Power'] < 5]"
   ],
   "execution_count":31,
   "outputs":[
    {
     "data":{
      "text\/html":[
       "<div>\n",
       "<style scoped>\n",
       "    .dataframe tbody tr th:only-of-type {\n",
       "        vertical-align: middle;\n",
       "    }\n",
       "\n",
       "    .dataframe tbody tr th {\n",
       "        vertical-align: top;\n",
       "    }\n",
       "\n",
       "    .dataframe thead th {\n",
       "        text-align: right;\n",
       "    }\n",
       "<\/style>\n",
       "<table border=\"1\" class=\"dataframe\">\n",
       "  <thead>\n",
       "    <tr style=\"text-align: right;\">\n",
       "      <th><\/th>\n",
       "      <th>DateCrawled<\/th>\n",
       "      <th>Price<\/th>\n",
       "      <th>VehicleType<\/th>\n",
       "      <th>RegistrationYear<\/th>\n",
       "      <th>Gearbox<\/th>\n",
       "      <th>Power<\/th>\n",
       "      <th>Model<\/th>\n",
       "      <th>Kilometer<\/th>\n",
       "      <th>RegistrationMonth<\/th>\n",
       "      <th>FuelType<\/th>\n",
       "      <th>Brand<\/th>\n",
       "      <th>NotRepaired<\/th>\n",
       "      <th>DateCreated<\/th>\n",
       "      <th>NumberOfPictures<\/th>\n",
       "      <th>PostalCode<\/th>\n",
       "      <th>LastSeen<\/th>\n",
       "    <\/tr>\n",
       "  <\/thead>\n",
       "  <tbody>\n",
       "    <tr>\n",
       "      <th>0<\/th>\n",
       "      <td>2016-03-24 11:52:17<\/td>\n",
       "      <td>480<\/td>\n",
       "      <td>NaN<\/td>\n",
       "      <td>1993<\/td>\n",
       "      <td>manual<\/td>\n",
       "      <td>0<\/td>\n",
       "      <td>golf<\/td>\n",
       "      <td>150000<\/td>\n",
       "      <td>0<\/td>\n",
       "      <td>petrol<\/td>\n",
       "      <td>volkswagen<\/td>\n",
       "      <td>NaN<\/td>\n",
       "      <td>2016-03-24 00:00:00<\/td>\n",
       "      <td>0<\/td>\n",
       "      <td>70435<\/td>\n",
       "      <td>2016-04-07 03:16:57<\/td>\n",
       "    <\/tr>\n",
       "    <tr>\n",
       "      <th>15<\/th>\n",
       "      <td>2016-03-11 21:39:15<\/td>\n",
       "      <td>450<\/td>\n",
       "      <td>small<\/td>\n",
       "      <td>1910<\/td>\n",
       "      <td>NaN<\/td>\n",
       "      <td>0<\/td>\n",
       "      <td>ka<\/td>\n",
       "      <td>5000<\/td>\n",
       "      <td>0<\/td>\n",
       "      <td>petrol<\/td>\n",
       "      <td>ford<\/td>\n",
       "      <td>NaN<\/td>\n",
       "      <td>2016-03-11 00:00:00<\/td>\n",
       "      <td>0<\/td>\n",
       "      <td>24148<\/td>\n",
       "      <td>2016-03-19 08:46:47<\/td>\n",
       "    <\/tr>\n",
       "    <tr>\n",
       "      <th>32<\/th>\n",
       "      <td>2016-03-15 20:59:01<\/td>\n",
       "      <td>245<\/td>\n",
       "      <td>sedan<\/td>\n",
       "      <td>1994<\/td>\n",
       "      <td>NaN<\/td>\n",
       "      <td>0<\/td>\n",
       "      <td>golf<\/td>\n",
       "      <td>150000<\/td>\n",
       "      <td>2<\/td>\n",
       "      <td>petrol<\/td>\n",
       "      <td>volkswagen<\/td>\n",
       "      <td>no<\/td>\n",
       "      <td>2016-03-15 00:00:00<\/td>\n",
       "      <td>0<\/td>\n",
       "      <td>44145<\/td>\n",
       "      <td>2016-03-17 18:17:43<\/td>\n",
       "    <\/tr>\n",
       "    <tr>\n",
       "      <th>37<\/th>\n",
       "      <td>2016-03-28 17:50:15<\/td>\n",
       "      <td>1500<\/td>\n",
       "      <td>NaN<\/td>\n",
       "      <td>2016<\/td>\n",
       "      <td>NaN<\/td>\n",
       "      <td>0<\/td>\n",
       "      <td>kangoo<\/td>\n",
       "      <td>150000<\/td>\n",
       "      <td>1<\/td>\n",
       "      <td>gasoline<\/td>\n",
       "      <td>renault<\/td>\n",
       "      <td>no<\/td>\n",
       "      <td>2016-03-28 00:00:00<\/td>\n",
       "      <td>0<\/td>\n",
       "      <td>46483<\/td>\n",
       "      <td>2016-03-30 09:18:02<\/td>\n",
       "    <\/tr>\n",
       "    <tr>\n",
       "      <th>54<\/th>\n",
       "      <td>2016-03-17 07:56:40<\/td>\n",
       "      <td>4700<\/td>\n",
       "      <td>wagon<\/td>\n",
       "      <td>2005<\/td>\n",
       "      <td>manual<\/td>\n",
       "      <td>0<\/td>\n",
       "      <td>signum<\/td>\n",
       "      <td>150000<\/td>\n",
       "      <td>0<\/td>\n",
       "      <td>NaN<\/td>\n",
       "      <td>opel<\/td>\n",
       "      <td>no<\/td>\n",
       "      <td>2016-03-17 00:00:00<\/td>\n",
       "      <td>0<\/td>\n",
       "      <td>88433<\/td>\n",
       "      <td>2016-04-04 04:17:32<\/td>\n",
       "    <\/tr>\n",
       "    <tr>\n",
       "      <th>...<\/th>\n",
       "      <td>...<\/td>\n",
       "      <td>...<\/td>\n",
       "      <td>...<\/td>\n",
       "      <td>...<\/td>\n",
       "      <td>...<\/td>\n",
       "      <td>...<\/td>\n",
       "      <td>...<\/td>\n",
       "      <td>...<\/td>\n",
       "      <td>...<\/td>\n",
       "      <td>...<\/td>\n",
       "      <td>...<\/td>\n",
       "      <td>...<\/td>\n",
       "      <td>...<\/td>\n",
       "      <td>...<\/td>\n",
       "      <td>...<\/td>\n",
       "      <td>...<\/td>\n",
       "    <\/tr>\n",
       "    <tr>\n",
       "      <th>354338<\/th>\n",
       "      <td>2016-03-31 19:52:33<\/td>\n",
       "      <td>180<\/td>\n",
       "      <td>NaN<\/td>\n",
       "      <td>1995<\/td>\n",
       "      <td>NaN<\/td>\n",
       "      <td>0<\/td>\n",
       "      <td>NaN<\/td>\n",
       "      <td>125000<\/td>\n",
       "      <td>3<\/td>\n",
       "      <td>petrol<\/td>\n",
       "      <td>opel<\/td>\n",
       "      <td>NaN<\/td>\n",
       "      <td>2016-03-31 00:00:00<\/td>\n",
       "      <td>0<\/td>\n",
       "      <td>41470<\/td>\n",
       "      <td>2016-04-06 14:18:04<\/td>\n",
       "    <\/tr>\n",
       "    <tr>\n",
       "      <th>354346<\/th>\n",
       "      <td>2016-03-07 17:06:35<\/td>\n",
       "      <td>2600<\/td>\n",
       "      <td>NaN<\/td>\n",
       "      <td>2005<\/td>\n",
       "      <td>auto<\/td>\n",
       "      <td>0<\/td>\n",
       "      <td>c_klasse<\/td>\n",
       "      <td>150000<\/td>\n",
       "      <td>9<\/td>\n",
       "      <td>NaN<\/td>\n",
       "      <td>mercedes_benz<\/td>\n",
       "      <td>NaN<\/td>\n",
       "      <td>2016-03-07 00:00:00<\/td>\n",
       "      <td>0<\/td>\n",
       "      <td>61169<\/td>\n",
       "      <td>2016-03-08 21:28:38<\/td>\n",
       "    <\/tr>\n",
       "    <tr>\n",
       "      <th>354360<\/th>\n",
       "      <td>2016-04-02 20:37:03<\/td>\n",
       "      <td>3999<\/td>\n",
       "      <td>wagon<\/td>\n",
       "      <td>2005<\/td>\n",
       "      <td>manual<\/td>\n",
       "      <td>3<\/td>\n",
       "      <td>3er<\/td>\n",
       "      <td>150000<\/td>\n",
       "      <td>5<\/td>\n",
       "      <td>gasoline<\/td>\n",
       "      <td>bmw<\/td>\n",
       "      <td>no<\/td>\n",
       "      <td>2016-04-02 00:00:00<\/td>\n",
       "      <td>0<\/td>\n",
       "      <td>81825<\/td>\n",
       "      <td>2016-04-06 20:47:12<\/td>\n",
       "    <\/tr>\n",
       "    <tr>\n",
       "      <th>354363<\/th>\n",
       "      <td>2016-03-27 20:36:20<\/td>\n",
       "      <td>1150<\/td>\n",
       "      <td>bus<\/td>\n",
       "      <td>2000<\/td>\n",
       "      <td>manual<\/td>\n",
       "      <td>0<\/td>\n",
       "      <td>zafira<\/td>\n",
       "      <td>150000<\/td>\n",
       "      <td>3<\/td>\n",
       "      <td>petrol<\/td>\n",
       "      <td>opel<\/td>\n",
       "      <td>no<\/td>\n",
       "      <td>2016-03-27 00:00:00<\/td>\n",
       "      <td>0<\/td>\n",
       "      <td>26624<\/td>\n",
       "      <td>2016-03-29 10:17:23<\/td>\n",
       "    <\/tr>\n",
       "    <tr>\n",
       "      <th>354365<\/th>\n",
       "      <td>2016-03-14 17:48:27<\/td>\n",
       "      <td>2200<\/td>\n",
       "      <td>NaN<\/td>\n",
       "      <td>2005<\/td>\n",
       "      <td>NaN<\/td>\n",
       "      <td>0<\/td>\n",
       "      <td>NaN<\/td>\n",
       "      <td>20000<\/td>\n",
       "      <td>1<\/td>\n",
       "      <td>NaN<\/td>\n",
       "      <td>sonstige_autos<\/td>\n",
       "      <td>NaN<\/td>\n",
       "      <td>2016-03-14 00:00:00<\/td>\n",
       "      <td>0<\/td>\n",
       "      <td>39576<\/td>\n",
       "      <td>2016-04-06 00:46:52<\/td>\n",
       "    <\/tr>\n",
       "  <\/tbody>\n",
       "<\/table>\n",
       "<p>35341 rows × 16 columns<\/p>\n",
       "<\/div>"
      ]
     },
     "metadata":{
      
     },
     "output_type":"display_data"
    }
   ],
   "metadata":{
    "datalore":{
     "type":"CODE",
     "hide_input_from_viewers":false,
     "hide_output_from_viewers":false
    }
   }
  },
  {
   "cell_type":"code",
   "source":[
    "data_without_null[data_without_null['Power'] > 1500]"
   ],
   "execution_count":32,
   "outputs":[
    {
     "data":{
      "text\/html":[
       "<div>\n",
       "<style scoped>\n",
       "    .dataframe tbody tr th:only-of-type {\n",
       "        vertical-align: middle;\n",
       "    }\n",
       "\n",
       "    .dataframe tbody tr th {\n",
       "        vertical-align: top;\n",
       "    }\n",
       "\n",
       "    .dataframe thead th {\n",
       "        text-align: right;\n",
       "    }\n",
       "<\/style>\n",
       "<table border=\"1\" class=\"dataframe\">\n",
       "  <thead>\n",
       "    <tr style=\"text-align: right;\">\n",
       "      <th><\/th>\n",
       "      <th>DateCrawled<\/th>\n",
       "      <th>Price<\/th>\n",
       "      <th>VehicleType<\/th>\n",
       "      <th>RegistrationYear<\/th>\n",
       "      <th>Gearbox<\/th>\n",
       "      <th>Power<\/th>\n",
       "      <th>Model<\/th>\n",
       "      <th>Kilometer<\/th>\n",
       "      <th>RegistrationMonth<\/th>\n",
       "      <th>FuelType<\/th>\n",
       "      <th>Brand<\/th>\n",
       "      <th>NotRepaired<\/th>\n",
       "      <th>DateCreated<\/th>\n",
       "      <th>NumberOfPictures<\/th>\n",
       "      <th>PostalCode<\/th>\n",
       "      <th>LastSeen<\/th>\n",
       "    <\/tr>\n",
       "  <\/thead>\n",
       "  <tbody>\n",
       "    <tr>\n",
       "      <th>7661<\/th>\n",
       "      <td>2016-04-02 19:25:25<\/td>\n",
       "      <td>1499<\/td>\n",
       "      <td>small<\/td>\n",
       "      <td>1999<\/td>\n",
       "      <td>manual<\/td>\n",
       "      <td>7515<\/td>\n",
       "      <td>lupo<\/td>\n",
       "      <td>150000<\/td>\n",
       "      <td>4<\/td>\n",
       "      <td>petrol<\/td>\n",
       "      <td>volkswagen<\/td>\n",
       "      <td>NaN<\/td>\n",
       "      <td>2016-04-02 00:00:00<\/td>\n",
       "      <td>0<\/td>\n",
       "      <td>65830<\/td>\n",
       "      <td>2016-04-06 11:46:49<\/td>\n",
       "    <\/tr>\n",
       "    <tr>\n",
       "      <th>9664<\/th>\n",
       "      <td>2016-03-14 20:06:19<\/td>\n",
       "      <td>2599<\/td>\n",
       "      <td>NaN<\/td>\n",
       "      <td>2016<\/td>\n",
       "      <td>manual<\/td>\n",
       "      <td>1779<\/td>\n",
       "      <td>zafira<\/td>\n",
       "      <td>150000<\/td>\n",
       "      <td>0<\/td>\n",
       "      <td>petrol<\/td>\n",
       "      <td>opel<\/td>\n",
       "      <td>no<\/td>\n",
       "      <td>2016-03-14 00:00:00<\/td>\n",
       "      <td>0<\/td>\n",
       "      <td>60326<\/td>\n",
       "      <td>2016-04-07 09:45:27<\/td>\n",
       "    <\/tr>\n",
       "    <tr>\n",
       "      <th>9875<\/th>\n",
       "      <td>2016-03-31 20:51:13<\/td>\n",
       "      <td>550<\/td>\n",
       "      <td>wagon<\/td>\n",
       "      <td>2003<\/td>\n",
       "      <td>manual<\/td>\n",
       "      <td>1753<\/td>\n",
       "      <td>focus<\/td>\n",
       "      <td>150000<\/td>\n",
       "      <td>1<\/td>\n",
       "      <td>gasoline<\/td>\n",
       "      <td>ford<\/td>\n",
       "      <td>yes<\/td>\n",
       "      <td>2016-03-31 00:00:00<\/td>\n",
       "      <td>0<\/td>\n",
       "      <td>21039<\/td>\n",
       "      <td>2016-03-31 20:51:13<\/td>\n",
       "    <\/tr>\n",
       "    <tr>\n",
       "      <th>19092<\/th>\n",
       "      <td>2016-03-20 17:54:04<\/td>\n",
       "      <td>9750<\/td>\n",
       "      <td>wagon<\/td>\n",
       "      <td>2005<\/td>\n",
       "      <td>auto<\/td>\n",
       "      <td>2729<\/td>\n",
       "      <td>5er<\/td>\n",
       "      <td>150000<\/td>\n",
       "      <td>7<\/td>\n",
       "      <td>gasoline<\/td>\n",
       "      <td>bmw<\/td>\n",
       "      <td>no<\/td>\n",
       "      <td>2016-03-20 00:00:00<\/td>\n",
       "      <td>0<\/td>\n",
       "      <td>21376<\/td>\n",
       "      <td>2016-03-23 02:48:53<\/td>\n",
       "    <\/tr>\n",
       "    <tr>\n",
       "      <th>20050<\/th>\n",
       "      <td>2016-03-26 19:46:06<\/td>\n",
       "      <td>2200<\/td>\n",
       "      <td>sedan<\/td>\n",
       "      <td>2002<\/td>\n",
       "      <td>auto<\/td>\n",
       "      <td>1704<\/td>\n",
       "      <td>e_klasse<\/td>\n",
       "      <td>150000<\/td>\n",
       "      <td>1<\/td>\n",
       "      <td>NaN<\/td>\n",
       "      <td>mercedes_benz<\/td>\n",
       "      <td>yes<\/td>\n",
       "      <td>2016-03-26 00:00:00<\/td>\n",
       "      <td>0<\/td>\n",
       "      <td>31812<\/td>\n",
       "      <td>2016-04-06 09:44:59<\/td>\n",
       "    <\/tr>\n",
       "    <tr>\n",
       "      <th>...<\/th>\n",
       "      <td>...<\/td>\n",
       "      <td>...<\/td>\n",
       "      <td>...<\/td>\n",
       "      <td>...<\/td>\n",
       "      <td>...<\/td>\n",
       "      <td>...<\/td>\n",
       "      <td>...<\/td>\n",
       "      <td>...<\/td>\n",
       "      <td>...<\/td>\n",
       "      <td>...<\/td>\n",
       "      <td>...<\/td>\n",
       "      <td>...<\/td>\n",
       "      <td>...<\/td>\n",
       "      <td>...<\/td>\n",
       "      <td>...<\/td>\n",
       "      <td>...<\/td>\n",
       "    <\/tr>\n",
       "    <tr>\n",
       "      <th>348137<\/th>\n",
       "      <td>2016-03-16 21:48:39<\/td>\n",
       "      <td>850<\/td>\n",
       "      <td>sedan<\/td>\n",
       "      <td>1993<\/td>\n",
       "      <td>auto<\/td>\n",
       "      <td>9012<\/td>\n",
       "      <td>golf<\/td>\n",
       "      <td>150000<\/td>\n",
       "      <td>0<\/td>\n",
       "      <td>petrol<\/td>\n",
       "      <td>volkswagen<\/td>\n",
       "      <td>NaN<\/td>\n",
       "      <td>2016-03-16 00:00:00<\/td>\n",
       "      <td>0<\/td>\n",
       "      <td>14482<\/td>\n",
       "      <td>2016-04-03 09:17:43<\/td>\n",
       "    <\/tr>\n",
       "    <tr>\n",
       "      <th>348237<\/th>\n",
       "      <td>2016-04-04 12:38:11<\/td>\n",
       "      <td>3000<\/td>\n",
       "      <td>coupe<\/td>\n",
       "      <td>2007<\/td>\n",
       "      <td>manual<\/td>\n",
       "      <td>2007<\/td>\n",
       "      <td>corsa<\/td>\n",
       "      <td>150000<\/td>\n",
       "      <td>3<\/td>\n",
       "      <td>gasoline<\/td>\n",
       "      <td>opel<\/td>\n",
       "      <td>yes<\/td>\n",
       "      <td>2016-04-04 00:00:00<\/td>\n",
       "      <td>0<\/td>\n",
       "      <td>72218<\/td>\n",
       "      <td>2016-04-04 12:38:11<\/td>\n",
       "    <\/tr>\n",
       "    <tr>\n",
       "      <th>348668<\/th>\n",
       "      <td>2016-03-05 17:53:09<\/td>\n",
       "      <td>1000<\/td>\n",
       "      <td>wagon<\/td>\n",
       "      <td>1996<\/td>\n",
       "      <td>manual<\/td>\n",
       "      <td>2598<\/td>\n",
       "      <td>a6<\/td>\n",
       "      <td>150000<\/td>\n",
       "      <td>7<\/td>\n",
       "      <td>NaN<\/td>\n",
       "      <td>audi<\/td>\n",
       "      <td>NaN<\/td>\n",
       "      <td>2016-03-05 00:00:00<\/td>\n",
       "      <td>0<\/td>\n",
       "      <td>7646<\/td>\n",
       "      <td>2016-03-07 16:17:01<\/td>\n",
       "    <\/tr>\n",
       "    <tr>\n",
       "      <th>348883<\/th>\n",
       "      <td>2016-03-13 11:51:57<\/td>\n",
       "      <td>7500<\/td>\n",
       "      <td>sedan<\/td>\n",
       "      <td>2011<\/td>\n",
       "      <td>manual<\/td>\n",
       "      <td>1548<\/td>\n",
       "      <td>scenic<\/td>\n",
       "      <td>90000<\/td>\n",
       "      <td>4<\/td>\n",
       "      <td>petrol<\/td>\n",
       "      <td>renault<\/td>\n",
       "      <td>NaN<\/td>\n",
       "      <td>2016-03-13 00:00:00<\/td>\n",
       "      <td>0<\/td>\n",
       "      <td>24568<\/td>\n",
       "      <td>2016-04-06 15:17:39<\/td>\n",
       "    <\/tr>\n",
       "    <tr>\n",
       "      <th>353493<\/th>\n",
       "      <td>2016-04-02 20:54:21<\/td>\n",
       "      <td>12500<\/td>\n",
       "      <td>NaN<\/td>\n",
       "      <td>2017<\/td>\n",
       "      <td>manual<\/td>\n",
       "      <td>2000<\/td>\n",
       "      <td>other<\/td>\n",
       "      <td>60000<\/td>\n",
       "      <td>0<\/td>\n",
       "      <td>gasoline<\/td>\n",
       "      <td>chrysler<\/td>\n",
       "      <td>no<\/td>\n",
       "      <td>2016-04-02 00:00:00<\/td>\n",
       "      <td>0<\/td>\n",
       "      <td>44145<\/td>\n",
       "      <td>2016-04-06 21:44:39<\/td>\n",
       "    <\/tr>\n",
       "  <\/tbody>\n",
       "<\/table>\n",
       "<p>183 rows × 16 columns<\/p>\n",
       "<\/div>"
      ]
     },
     "metadata":{
      
     },
     "output_type":"display_data"
    }
   ],
   "metadata":{
    "datalore":{
     "type":"CODE",
     "hide_input_from_viewers":false,
     "hide_output_from_viewers":false
    }
   }
  },
  {
   "cell_type":"markdown",
   "source":[
    "Давайте заполним значения мощности, которые меньше пяти и больше 1500 медианными значениями по групперовке по типу транспортного средства, модели и бренду. Так, как не у всех моделей заполненны все три признака, оставшиеся заполним группировкой просто по типу и модели, по модели и бренду, и последние оставшиеся по цене и бренду. "
   ],
   "attachments":{
    
   },
   "metadata":{
    "datalore":{
     "type":"MD",
     "hide_input_from_viewers":false,
     "hide_output_from_viewers":false
    }
   }
  },
  {
   "cell_type":"code",
   "source":[
    "def power(groupby):\n",
    "    data_without_null['Power'].fillna(data_without_null.groupby(groupby)['Power'].transform('median'),inplace=True)\n",
    "    return data_without_null"
   ],
   "execution_count":33,
   "outputs":[
    
   ],
   "metadata":{
    "datalore":{
     "type":"CODE",
     "hide_input_from_viewers":false,
     "hide_output_from_viewers":false
    }
   }
  },
  {
   "cell_type":"code",
   "source":[
    "data_without_null.loc[(data_without_null['Power'] < 5) | (data_without_null['Power'] > 1500), 'Power'] = np.nan\n",
    "\n",
    "\n",
    "data_without_null = power(['VehicleType', 'Model', 'Brand'])\n",
    "data_without_null = power(['VehicleType', 'Brand'])\n",
    "data_without_null = power([ 'Model', 'Brand'])\n",
    "data_without_null = power(['Brand','Price'])"
   ],
   "execution_count":34,
   "outputs":[
    
   ],
   "metadata":{
    "datalore":{
     "type":"CODE",
     "hide_input_from_viewers":false,
     "hide_output_from_viewers":false
    }
   }
  },
  {
   "cell_type":"code",
   "source":[
    "fig, axs = plt.subplots(1,2, figsize=(14,5))\n",
    "\n",
    "sns.boxplot(x='Power', data=data_without_null, ax=axs[0], color='green')\n",
    "\n",
    "axs[1].hist(x='Power', data=data_without_null)\n",
    "\n",
    "axs[0].set_title('Box-plot power (л.c.)')\n",
    "axs[1].set_title('Распределение power (л.c.)')\n",
    "plt.show()"
   ],
   "execution_count":35,
   "outputs":[
    {
     "data":{
      "image\/png":"[encoded data removed]"
     },
     "metadata":{
      "image\/png":{
       
      }
     },
     "output_type":"display_data"
    }
   ],
   "metadata":{
    "datalore":{
     "type":"CODE",
     "hide_input_from_viewers":false,
     "hide_output_from_viewers":false
    }
   }
  },
  {
   "cell_type":"markdown",
   "source":[
    "Теперь мы получили более правдаподобное распределение. Давайте проверим, не потеряли ли мы какие-то значения мощностей"
   ],
   "attachments":{
    
   },
   "metadata":{
    "datalore":{
     "type":"MD",
     "hide_input_from_viewers":false,
     "hide_output_from_viewers":false
    }
   }
  },
  {
   "cell_type":"code",
   "source":[
    "data_without_null.isnull().sum()"
   ],
   "execution_count":36,
   "outputs":[
    {
     "data":{
      "text\/html":[
       
      ]
     },
     "metadata":{
      
     },
     "output_type":"display_data"
    }
   ],
   "metadata":{
    "datalore":{
     "type":"CODE",
     "hide_input_from_viewers":false,
     "hide_output_from_viewers":false
    }
   }
  },
  {
   "cell_type":"markdown",
   "source":[
    "88 значений так и не заполнились через группировку. Давайте посмотрим на них. "
   ],
   "attachments":{
    
   },
   "metadata":{
    "datalore":{
     "type":"MD",
     "hide_input_from_viewers":false,
     "hide_output_from_viewers":false
    }
   }
  },
  {
   "cell_type":"code",
   "source":[
    "data_without_null[data_without_null['Power'].isnull()].sample(10)"
   ],
   "execution_count":37,
   "outputs":[
    {
     "data":{
      "text\/html":[
       "<div>\n",
       "<style scoped>\n",
       "    .dataframe tbody tr th:only-of-type {\n",
       "        vertical-align: middle;\n",
       "    }\n",
       "\n",
       "    .dataframe tbody tr th {\n",
       "        vertical-align: top;\n",
       "    }\n",
       "\n",
       "    .dataframe thead th {\n",
       "        text-align: right;\n",
       "    }\n",
       "<\/style>\n",
       "<table border=\"1\" class=\"dataframe\">\n",
       "  <thead>\n",
       "    <tr style=\"text-align: right;\">\n",
       "      <th><\/th>\n",
       "      <th>DateCrawled<\/th>\n",
       "      <th>Price<\/th>\n",
       "      <th>VehicleType<\/th>\n",
       "      <th>RegistrationYear<\/th>\n",
       "      <th>Gearbox<\/th>\n",
       "      <th>Power<\/th>\n",
       "      <th>Model<\/th>\n",
       "      <th>Kilometer<\/th>\n",
       "      <th>RegistrationMonth<\/th>\n",
       "      <th>FuelType<\/th>\n",
       "      <th>Brand<\/th>\n",
       "      <th>NotRepaired<\/th>\n",
       "      <th>DateCreated<\/th>\n",
       "      <th>NumberOfPictures<\/th>\n",
       "      <th>PostalCode<\/th>\n",
       "      <th>LastSeen<\/th>\n",
       "    <\/tr>\n",
       "  <\/thead>\n",
       "  <tbody>\n",
       "    <tr>\n",
       "      <th>241917<\/th>\n",
       "      <td>2016-03-22 01:50:55<\/td>\n",
       "      <td>4680<\/td>\n",
       "      <td>NaN<\/td>\n",
       "      <td>2006<\/td>\n",
       "      <td>auto<\/td>\n",
       "      <td>NaN<\/td>\n",
       "      <td>NaN<\/td>\n",
       "      <td>50000<\/td>\n",
       "      <td>12<\/td>\n",
       "      <td>gasoline<\/td>\n",
       "      <td>sonstige_autos<\/td>\n",
       "      <td>no<\/td>\n",
       "      <td>2016-03-21 00:00:00<\/td>\n",
       "      <td>0<\/td>\n",
       "      <td>42799<\/td>\n",
       "      <td>2016-04-05 15:17:44<\/td>\n",
       "    <\/tr>\n",
       "    <tr>\n",
       "      <th>338158<\/th>\n",
       "      <td>2016-04-02 19:47:13<\/td>\n",
       "      <td>2977<\/td>\n",
       "      <td>NaN<\/td>\n",
       "      <td>2018<\/td>\n",
       "      <td>auto<\/td>\n",
       "      <td>NaN<\/td>\n",
       "      <td>NaN<\/td>\n",
       "      <td>125000<\/td>\n",
       "      <td>11<\/td>\n",
       "      <td>lpg<\/td>\n",
       "      <td>audi<\/td>\n",
       "      <td>no<\/td>\n",
       "      <td>2016-04-02 00:00:00<\/td>\n",
       "      <td>0<\/td>\n",
       "      <td>78234<\/td>\n",
       "      <td>2016-04-02 19:47:13<\/td>\n",
       "    <\/tr>\n",
       "    <tr>\n",
       "      <th>20860<\/th>\n",
       "      <td>2016-03-20 13:59:51<\/td>\n",
       "      <td>2398<\/td>\n",
       "      <td>NaN<\/td>\n",
       "      <td>2017<\/td>\n",
       "      <td>auto<\/td>\n",
       "      <td>NaN<\/td>\n",
       "      <td>NaN<\/td>\n",
       "      <td>150000<\/td>\n",
       "      <td>9<\/td>\n",
       "      <td>petrol<\/td>\n",
       "      <td>mercedes_benz<\/td>\n",
       "      <td>no<\/td>\n",
       "      <td>2016-03-20 00:00:00<\/td>\n",
       "      <td>0<\/td>\n",
       "      <td>95100<\/td>\n",
       "      <td>2016-03-28 12:47:29<\/td>\n",
       "    <\/tr>\n",
       "    <tr>\n",
       "      <th>6977<\/th>\n",
       "      <td>2016-03-24 08:37:22<\/td>\n",
       "      <td>135<\/td>\n",
       "      <td>NaN<\/td>\n",
       "      <td>1910<\/td>\n",
       "      <td>NaN<\/td>\n",
       "      <td>NaN<\/td>\n",
       "      <td>NaN<\/td>\n",
       "      <td>5000<\/td>\n",
       "      <td>0<\/td>\n",
       "      <td>NaN<\/td>\n",
       "      <td>opel<\/td>\n",
       "      <td>NaN<\/td>\n",
       "      <td>2016-03-24 00:00:00<\/td>\n",
       "      <td>0<\/td>\n",
       "      <td>19374<\/td>\n",
       "      <td>2016-04-06 20:46:08<\/td>\n",
       "    <\/tr>\n",
       "    <tr>\n",
       "      <th>177407<\/th>\n",
       "      <td>2016-03-19 13:45:14<\/td>\n",
       "      <td>298<\/td>\n",
       "      <td>NaN<\/td>\n",
       "      <td>1980<\/td>\n",
       "      <td>auto<\/td>\n",
       "      <td>NaN<\/td>\n",
       "      <td>NaN<\/td>\n",
       "      <td>150000<\/td>\n",
       "      <td>1<\/td>\n",
       "      <td>petrol<\/td>\n",
       "      <td>sonstige_autos<\/td>\n",
       "      <td>yes<\/td>\n",
       "      <td>2016-03-19 00:00:00<\/td>\n",
       "      <td>0<\/td>\n",
       "      <td>74749<\/td>\n",
       "      <td>2016-04-04 17:18:49<\/td>\n",
       "    <\/tr>\n",
       "    <tr>\n",
       "      <th>16741<\/th>\n",
       "      <td>2016-03-21 00:58:22<\/td>\n",
       "      <td>160<\/td>\n",
       "      <td>NaN<\/td>\n",
       "      <td>2007<\/td>\n",
       "      <td>NaN<\/td>\n",
       "      <td>NaN<\/td>\n",
       "      <td>NaN<\/td>\n",
       "      <td>5000<\/td>\n",
       "      <td>0<\/td>\n",
       "      <td>NaN<\/td>\n",
       "      <td>sonstige_autos<\/td>\n",
       "      <td>NaN<\/td>\n",
       "      <td>2016-03-21 00:00:00<\/td>\n",
       "      <td>0<\/td>\n",
       "      <td>90766<\/td>\n",
       "      <td>2016-04-05 22:45:47<\/td>\n",
       "    <\/tr>\n",
       "    <tr>\n",
       "      <th>153478<\/th>\n",
       "      <td>2016-03-10 17:45:33<\/td>\n",
       "      <td>60<\/td>\n",
       "      <td>NaN<\/td>\n",
       "      <td>2000<\/td>\n",
       "      <td>NaN<\/td>\n",
       "      <td>NaN<\/td>\n",
       "      <td>NaN<\/td>\n",
       "      <td>5000<\/td>\n",
       "      <td>0<\/td>\n",
       "      <td>NaN<\/td>\n",
       "      <td>fiat<\/td>\n",
       "      <td>NaN<\/td>\n",
       "      <td>2016-03-10 00:00:00<\/td>\n",
       "      <td>0<\/td>\n",
       "      <td>45770<\/td>\n",
       "      <td>2016-03-11 05:44:54<\/td>\n",
       "    <\/tr>\n",
       "    <tr>\n",
       "      <th>28908<\/th>\n",
       "      <td>2016-03-14 07:58:52<\/td>\n",
       "      <td>5700<\/td>\n",
       "      <td>NaN<\/td>\n",
       "      <td>1960<\/td>\n",
       "      <td>NaN<\/td>\n",
       "      <td>NaN<\/td>\n",
       "      <td>NaN<\/td>\n",
       "      <td>100000<\/td>\n",
       "      <td>0<\/td>\n",
       "      <td>NaN<\/td>\n",
       "      <td>sonstige_autos<\/td>\n",
       "      <td>NaN<\/td>\n",
       "      <td>2016-03-14 00:00:00<\/td>\n",
       "      <td>0<\/td>\n",
       "      <td>36043<\/td>\n",
       "      <td>2016-04-07 08:16:19<\/td>\n",
       "    <\/tr>\n",
       "    <tr>\n",
       "      <th>179347<\/th>\n",
       "      <td>2016-03-25 11:43:04<\/td>\n",
       "      <td>1749<\/td>\n",
       "      <td>NaN<\/td>\n",
       "      <td>2017<\/td>\n",
       "      <td>NaN<\/td>\n",
       "      <td>NaN<\/td>\n",
       "      <td>NaN<\/td>\n",
       "      <td>70000<\/td>\n",
       "      <td>0<\/td>\n",
       "      <td>NaN<\/td>\n",
       "      <td>honda<\/td>\n",
       "      <td>NaN<\/td>\n",
       "      <td>2016-03-25 00:00:00<\/td>\n",
       "      <td>0<\/td>\n",
       "      <td>86154<\/td>\n",
       "      <td>2016-03-30 00:17:06<\/td>\n",
       "    <\/tr>\n",
       "    <tr>\n",
       "      <th>304618<\/th>\n",
       "      <td>2016-03-29 20:41:07<\/td>\n",
       "      <td>866<\/td>\n",
       "      <td>NaN<\/td>\n",
       "      <td>2000<\/td>\n",
       "      <td>NaN<\/td>\n",
       "      <td>NaN<\/td>\n",
       "      <td>NaN<\/td>\n",
       "      <td>150000<\/td>\n",
       "      <td>0<\/td>\n",
       "      <td>NaN<\/td>\n",
       "      <td>mitsubishi<\/td>\n",
       "      <td>NaN<\/td>\n",
       "      <td>2016-03-29 00:00:00<\/td>\n",
       "      <td>0<\/td>\n",
       "      <td>97072<\/td>\n",
       "      <td>2016-03-31 14:16:05<\/td>\n",
       "    <\/tr>\n",
       "  <\/tbody>\n",
       "<\/table>\n",
       "<\/div>"
      ]
     },
     "metadata":{
      
     },
     "output_type":"display_data"
    }
   ],
   "metadata":{
    "datalore":{
     "type":"CODE",
     "hide_input_from_viewers":false,
     "hide_output_from_viewers":false
    }
   }
  },
  {
   "cell_type":"markdown",
   "source":[
    "Заполним их медианной по бренду. "
   ],
   "attachments":{
    
   },
   "metadata":{
    "datalore":{
     "type":"MD",
     "hide_input_from_viewers":false,
     "hide_output_from_viewers":false
    }
   }
  },
  {
   "cell_type":"code",
   "source":[
    "data_without_null = power('Brand')"
   ],
   "execution_count":38,
   "outputs":[
    
   ],
   "metadata":{
    "datalore":{
     "type":"CODE",
     "hide_input_from_viewers":false,
     "hide_output_from_viewers":false
    }
   }
  },
  {
   "cell_type":"code",
   "source":[
    "data_without_null.describe()"
   ],
   "execution_count":39,
   "outputs":[
    {
     "data":{
      "text\/html":[
       "<div>\n",
       "<style scoped>\n",
       "    .dataframe tbody tr th:only-of-type {\n",
       "        vertical-align: middle;\n",
       "    }\n",
       "\n",
       "    .dataframe tbody tr th {\n",
       "        vertical-align: top;\n",
       "    }\n",
       "\n",
       "    .dataframe thead th {\n",
       "        text-align: right;\n",
       "    }\n",
       "<\/style>\n",
       "<table border=\"1\" class=\"dataframe\">\n",
       "  <thead>\n",
       "    <tr style=\"text-align: right;\">\n",
       "      <th><\/th>\n",
       "      <th>Price<\/th>\n",
       "      <th>RegistrationYear<\/th>\n",
       "      <th>Power<\/th>\n",
       "      <th>Kilometer<\/th>\n",
       "      <th>RegistrationMonth<\/th>\n",
       "      <th>NumberOfPictures<\/th>\n",
       "    <\/tr>\n",
       "  <\/thead>\n",
       "  <tbody>\n",
       "    <tr>\n",
       "      <th>count<\/th>\n",
       "      <td>341495.000000<\/td>\n",
       "      <td>341495.000000<\/td>\n",
       "      <td>341495.000000<\/td>\n",
       "      <td>341495.000000<\/td>\n",
       "      <td>341495.000000<\/td>\n",
       "      <td>341495.0<\/td>\n",
       "    <\/tr>\n",
       "    <tr>\n",
       "      <th>mean<\/th>\n",
       "      <td>4581.900461<\/td>\n",
       "      <td>2003.202305<\/td>\n",
       "      <td>119.172051<\/td>\n",
       "      <td>128515.424823<\/td>\n",
       "      <td>5.795915<\/td>\n",
       "      <td>0.0<\/td>\n",
       "    <\/tr>\n",
       "    <tr>\n",
       "      <th>std<\/th>\n",
       "      <td>4514.718981<\/td>\n",
       "      <td>7.318521<\/td>\n",
       "      <td>56.730807<\/td>\n",
       "      <td>37227.119306<\/td>\n",
       "      <td>3.690732<\/td>\n",
       "      <td>0.0<\/td>\n",
       "    <\/tr>\n",
       "    <tr>\n",
       "      <th>min<\/th>\n",
       "      <td>55.000000<\/td>\n",
       "      <td>1910.000000<\/td>\n",
       "      <td>5.000000<\/td>\n",
       "      <td>5000.000000<\/td>\n",
       "      <td>0.000000<\/td>\n",
       "      <td>0.0<\/td>\n",
       "    <\/tr>\n",
       "    <tr>\n",
       "      <th>25%<\/th>\n",
       "      <td>1200.000000<\/td>\n",
       "      <td>1999.000000<\/td>\n",
       "      <td>75.000000<\/td>\n",
       "      <td>125000.000000<\/td>\n",
       "      <td>3.000000<\/td>\n",
       "      <td>0.0<\/td>\n",
       "    <\/tr>\n",
       "    <tr>\n",
       "      <th>50%<\/th>\n",
       "      <td>2900.000000<\/td>\n",
       "      <td>2003.000000<\/td>\n",
       "      <td>110.000000<\/td>\n",
       "      <td>150000.000000<\/td>\n",
       "      <td>6.000000<\/td>\n",
       "      <td>0.0<\/td>\n",
       "    <\/tr>\n",
       "    <tr>\n",
       "      <th>75%<\/th>\n",
       "      <td>6500.000000<\/td>\n",
       "      <td>2008.000000<\/td>\n",
       "      <td>144.000000<\/td>\n",
       "      <td>150000.000000<\/td>\n",
       "      <td>9.000000<\/td>\n",
       "      <td>0.0<\/td>\n",
       "    <\/tr>\n",
       "    <tr>\n",
       "      <th>max<\/th>\n",
       "      <td>20000.000000<\/td>\n",
       "      <td>2019.000000<\/td>\n",
       "      <td>1500.000000<\/td>\n",
       "      <td>150000.000000<\/td>\n",
       "      <td>12.000000<\/td>\n",
       "      <td>0.0<\/td>\n",
       "    <\/tr>\n",
       "  <\/tbody>\n",
       "<\/table>\n",
       "<\/div>"
      ]
     },
     "metadata":{
      
     },
     "output_type":"display_data"
    }
   ],
   "metadata":{
    "datalore":{
     "type":"CODE",
     "hide_input_from_viewers":false,
     "hide_output_from_viewers":false
    }
   }
  },
  {
   "cell_type":"markdown",
   "source":[
    "Через описательные статистики, мы видим, что мы избавились от многих фактически некорректных зачений, и теперь наши количественные показатели больше походят на действительные характеристики машин. Перейдем к работе с категориальными переменными"
   ],
   "attachments":{
    
   },
   "metadata":{
    "datalore":{
     "type":"MD",
     "hide_input_from_viewers":false,
     "hide_output_from_viewers":false
    }
   }
  },
  {
   "cell_type":"markdown",
   "source":[
    "### Категориальные переменные"
   ],
   "attachments":{
    
   },
   "metadata":{
    "datalore":{
     "type":"MD",
     "hide_input_from_viewers":false,
     "hide_output_from_viewers":false
    }
   }
  },
  {
   "cell_type":"markdown",
   "source":[
    "Достаточно много пропусков в категориальных переменных - VehicleType, Gearbox, Model, FuelType, NotRepaired"
   ],
   "attachments":{
    
   },
   "metadata":{
    "datalore":{
     "type":"MD",
     "hide_input_from_viewers":false,
     "hide_output_from_viewers":false
    }
   }
  },
  {
   "cell_type":"code",
   "source":[
    "data_without_null.VehicleType.value_counts(dropna=False)"
   ],
   "execution_count":40,
   "outputs":[
    {
     "data":{
      "text\/html":[
       
      ]
     },
     "metadata":{
      
     },
     "output_type":"display_data"
    }
   ],
   "metadata":{
    "datalore":{
     "type":"CODE",
     "hide_input_from_viewers":false,
     "hide_output_from_viewers":false
    }
   }
  },
  {
   "cell_type":"markdown",
   "source":[
    "Самыми популярными типами транспортного средства оказались: седан, small? и фургон?. \n",
    "\n",
    "Следуйший по частоте тип - это пропуски, всего их здесь 32730. Я предлагаю посмотреть, как обстоят дела с пропущенными значениями в других категориях и относительно этого решить, избавлятся ли от них\/заполнять чем-то или рассматривать nan как отдельную категорию"
   ],
   "attachments":{
    
   },
   "metadata":{
    "datalore":{
     "type":"MD",
     "hide_input_from_viewers":false,
     "hide_output_from_viewers":false
    }
   }
  },
  {
   "cell_type":"code",
   "source":[
    "data_without_null.Gearbox.value_counts(normalize=True, dropna=False)"
   ],
   "execution_count":41,
   "outputs":[
    {
     "data":{
      "text\/html":[
       
      ]
     },
     "metadata":{
      
     },
     "output_type":"display_data"
    }
   ],
   "metadata":{
    "datalore":{
     "type":"CODE",
     "hide_input_from_viewers":false,
     "hide_output_from_viewers":false
    }
   }
  },
  {
   "cell_type":"markdown",
   "source":[
    "В типе коробки передач преобладает - ручная. Nan занимают лишь около 5% ответов"
   ],
   "attachments":{
    
   },
   "metadata":{
    "datalore":{
     "type":"MD",
     "hide_input_from_viewers":false,
     "hide_output_from_viewers":false
    }
   }
  },
  {
   "cell_type":"code",
   "source":[
    "data_without_null.Model.value_counts(dropna=False, normalize=True)"
   ],
   "execution_count":42,
   "outputs":[
    {
     "data":{
      "text\/html":[
       
      ]
     },
     "metadata":{
      
     },
     "output_type":"display_data"
    }
   ],
   "metadata":{
    "datalore":{
     "type":"CODE",
     "hide_input_from_viewers":false,
     "hide_output_from_viewers":false
    }
   }
  },
  {
   "cell_type":"markdown",
   "source":[
    "Из-за того, что категорий достаточно много 251, каждая категория не занимает больше процента от общего числа. Хотя относительно остальных значений Nan получает достаточно большую долю - 0.05"
   ],
   "attachments":{
    
   },
   "metadata":{
    "datalore":{
     "type":"MD",
     "hide_input_from_viewers":false,
     "hide_output_from_viewers":false
    }
   }
  },
  {
   "cell_type":"code",
   "source":[
    "data_without_null.FuelType.value_counts(dropna=False, normalize=True)"
   ],
   "execution_count":43,
   "outputs":[
    {
     "data":{
      "text\/html":[
       
      ]
     },
     "metadata":{
      
     },
     "output_type":"display_data"
    }
   ],
   "metadata":{
    "datalore":{
     "type":"CODE",
     "hide_input_from_viewers":false,
     "hide_output_from_viewers":false
    }
   }
  },
  {
   "cell_type":"markdown",
   "source":[
    "Насколько мне известно petrol и gasoline используются как синонимы, поэтому мы можем сказать, что 88% машин использовали бензин. Nan занимают в этом признаке 8 процентов"
   ],
   "attachments":{
    
   },
   "metadata":{
    "datalore":{
     "type":"MD",
     "hide_input_from_viewers":false,
     "hide_output_from_viewers":false
    }
   }
  },
  {
   "cell_type":"code",
   "source":[
    "data_without_null.NotRepaired.value_counts(dropna=False, normalize=True)"
   ],
   "execution_count":44,
   "outputs":[
    {
     "data":{
      "text\/html":[
       
      ]
     },
     "metadata":{
      
     },
     "output_type":"display_data"
    }
   ],
   "metadata":{
    "datalore":{
     "type":"CODE",
     "hide_input_from_viewers":false,
     "hide_output_from_viewers":false
    }
   }
  },
  {
   "cell_type":"markdown",
   "source":[
    "Для того, чтобы узнать что делать с Nan, предлагаю проверить такую гипотезу. Отсуствие информации о перечисленных ывше признаков влияет на итоговую стоимость машины. Давайте для этого построим гистограммы. "
   ],
   "attachments":{
    
   },
   "metadata":{
    "datalore":{
     "type":"MD",
     "hide_input_from_viewers":false,
     "hide_output_from_viewers":false
    }
   }
  },
  {
   "cell_type":"code",
   "source":[
    "data_without_nan = data_without_null[ ~ (data_without_null['Model'].isnull()) & ~ (data_without_null['Gearbox'].isnull())]\n",
    "nan = data_without_null[(data_without_null['Model'].isnull()) & (data_without_null['Gearbox'].isnull())]\n",
    "\n",
    "fig, ax = plt.subplots()\n",
    "\n",
    "ax.hist(nan['Price'], density=True, alpha=0.5, color='yellow', label='Price with Nan')\n",
    "ax.hist(data_without_nan['Price'],density=True, alpha=0.5, label='Price other data')\n",
    "\n",
    "\n",
    "ax.legend()\n",
    "ax.set_title('Распределение цены с Nan и без Nan')\n",
    "\n",
    "plt.show()"
   ],
   "execution_count":45,
   "outputs":[
    {
     "data":{
      "image\/png":"[encoded data removed]"
     },
     "metadata":{
      "image\/png":{
       
      }
     },
     "output_type":"display_data"
    }
   ],
   "metadata":{
    "datalore":{
     "type":"CODE",
     "hide_input_from_viewers":false,
     "hide_output_from_viewers":false
    }
   }
  },
  {
   "cell_type":"markdown",
   "source":[
    "По гистограмме мы видим, что объекты с пропущенными полями в категориальных признаках стоят меньше. Давайте возьмем Nan, как отдельную категорию для того, чтобы сохранить эту тенденцию при построеним модели."
   ],
   "attachments":{
    
   },
   "metadata":{
    "datalore":{
     "type":"MD",
     "hide_input_from_viewers":false,
     "hide_output_from_viewers":false
    }
   }
  },
  {
   "cell_type":"code",
   "source":[
    "data_without_null.info()"
   ],
   "execution_count":46,
   "outputs":[
    {
     "name":"stdout",
     "text":[
      "<class 'pandas.core.frame.DataFrame'>\n",
      "Int64Index: 341495 entries, 0 to 354368\n",
      "Data columns (total 16 columns):\n",
      " #   Column             Non-Null Count   Dtype  \n",
      "---  ------             --------------   -----  \n",
      " 0   DateCrawled        341495 non-null  object \n",
      " 1   Price              341495 non-null  int64  \n",
      " 2   VehicleType        308775 non-null  object \n",
      " 3   RegistrationYear   341495 non-null  int64  \n",
      " 4   Gearbox            325046 non-null  object \n",
      " 5   Power              341495 non-null  float64\n",
      " 6   Model              324433 non-null  object \n",
      " 7   Kilometer          341495 non-null  int64  \n",
      " 8   RegistrationMonth  341495 non-null  int64  \n",
      " 9   FuelType           313009 non-null  object \n",
      " 10  Brand              341495 non-null  object \n",
      " 11  NotRepaired        276911 non-null  object \n",
      " 12  DateCreated        341495 non-null  object \n",
      " 13  NumberOfPictures   341495 non-null  int64  \n",
      " 14  PostalCode         341495 non-null  object \n",
      " 15  LastSeen           341495 non-null  object \n",
      "dtypes: float64(1), int64(5), object(10)\n",
      "memory usage: 44.3+ MB\n"
     ],
     "output_type":"stream"
    }
   ],
   "metadata":{
    "datalore":{
     "type":"CODE",
     "hide_input_from_viewers":false,
     "hide_output_from_viewers":false
    }
   }
  },
  {
   "cell_type":"code",
   "source":[
    "corr_col = ['Price', 'RegistrationYear', 'Power', 'Kilometer']\n",
    "c= data_without_null[corr_col].corr()\n",
    "sns.heatmap(np.abs(c), vmin=0, vmax=0.6)\n",
    "plt.show()"
   ],
   "execution_count":47,
   "outputs":[
    {
     "data":{
      "image\/png":"[encoded data removed]"
     },
     "metadata":{
      "image\/png":{
       
      }
     },
     "output_type":"display_data"
    }
   ],
   "metadata":{
    "datalore":{
     "type":"CODE",
     "hide_input_from_viewers":false,
     "hide_output_from_viewers":false
    }
   }
  },
  {
   "cell_type":"markdown",
   "source":[
    "## Модели"
   ],
   "attachments":{
    
   },
   "metadata":{
    "datalore":{
     "type":"MD",
     "hide_input_from_viewers":false,
     "hide_output_from_viewers":false
    }
   }
  },
  {
   "cell_type":"code",
   "source":[
    "features = data_without_null.drop(['Price', 'RegistrationMonth', 'DateCreated', \n",
    "                                    'DateCrawled', 'LastSeen', 'NumberOfPictures', 'PostalCode'], axis=1)\n",
    "target = data_without_null['Price']"
   ],
   "execution_count":48,
   "outputs":[
    
   ],
   "metadata":{
    "datalore":{
     "type":"CODE",
     "hide_input_from_viewers":false,
     "hide_output_from_viewers":false
    }
   }
  },
  {
   "cell_type":"code",
   "source":[
    "f_train, f_test_valid, t_train, t_test_valid = train_test_split(features, \n",
    "                                                    target, \n",
    "                                                    test_size=.4, \n",
    "                                                    random_state=12345)\n",
    "\n",
    "f_test, f_valid, t_test, t_valid = train_test_split(f_test_valid, \n",
    "                                                    t_test_valid, \n",
    "                                                    test_size=.5, \n",
    "                                                    random_state=12345)\n",
    "\n",
    "print(f_train.shape, f_test.shape, f_valid.shape, t_train.shape)"
   ],
   "execution_count":49,
   "outputs":[
    {
     "name":"stdout",
     "text":[
      "(204897, 9) (68299, 9) (68299, 9) (204897,)\n"
     ],
     "output_type":"stream"
    }
   ],
   "metadata":{
    "datalore":{
     "type":"CODE",
     "hide_input_from_viewers":false,
     "hide_output_from_viewers":false
    }
   }
  },
  {
   "cell_type":"code",
   "source":[
    "numerical = ['RegistrationYear', 'Power',\n",
    "            'Kilometer']\n",
    "\n",
    "categorical = ['VehicleType', 'Gearbox', 'Model',\n",
    "                'FuelType', 'Brand', 'NotRepaired']"
   ],
   "execution_count":50,
   "outputs":[
    
   ],
   "metadata":{
    "datalore":{
     "type":"CODE",
     "hide_input_from_viewers":false,
     "hide_output_from_viewers":false
    }
   }
  },
  {
   "cell_type":"code",
   "source":[
    "cat_pipe = Pipeline([\n",
    "    ('encoder', OneHotEncoder(sparse=False, drop='first', handle_unknown = \"ignore\"))\n",
    "])\n",
    "\n",
    "# Define numerical pipeline\n",
    "num_pipe = Pipeline([\n",
    "    ('imputer', SimpleImputer(strategy='median')),\n",
    "    ('scaler', StandardScaler())\n",
    "])\n",
    "\n",
    "# Fit column transformer to training data\n",
    "preprocessor = ColumnTransformer([\n",
    "    ('cat', cat_pipe, categorical),\n",
    "    ('num', num_pipe, numerical)\n",
    "])"
   ],
   "execution_count":51,
   "outputs":[
    
   ],
   "metadata":{
    "datalore":{
     "type":"CODE",
     "hide_input_from_viewers":false,
     "hide_output_from_viewers":false
    }
   }
  },
  {
   "cell_type":"markdown",
   "source":[
    "В пайплайнах прописываем для количественных переменных: заполнение nanов медианной, и масштабирование. Для количественных: OneHotEncoder c игнорирование ошибок, так как потенциально в будущих данных могут появляться модели\/бредны, которых не было в исторических данных на которых модель обучалась"
   ],
   "attachments":{
    
   },
   "metadata":{
    "datalore":{
     "type":"MD",
     "hide_input_from_viewers":false,
     "hide_output_from_viewers":false
    }
   }
  },
  {
   "cell_type":"markdown",
   "source":[
    "### Градиентный бустинг"
   ],
   "attachments":{
    
   },
   "metadata":{
    "datalore":{
     "type":"MD",
     "hide_input_from_viewers":false,
     "hide_output_from_viewers":false
    }
   }
  },
  {
   "cell_type":"code",
   "source":[
    "pipe = Pipeline([('preprocessing', preprocessor), ('model', LGBMRegressor())])\n",
    "\n",
    "param_grid = [\n",
    "{'model': [LGBMRegressor()], 'preprocessing': [preprocessor],\n",
    "    'model__max_depth': [4,6,8], \n",
    "    'model__num_leaves': [16, 64, 256]}] "
   ],
   "execution_count":52,
   "outputs":[
    
   ],
   "metadata":{
    "datalore":{
     "type":"CODE",
     "hide_input_from_viewers":false,
     "hide_output_from_viewers":false
    }
   }
  },
  {
   "cell_type":"code",
   "source":[
    "grid = GridSearchCV(pipe, param_grid, cv=5, scoring='neg_root_mean_squared_error', error_score=\"raise\")\n",
    "grid.fit(f_train, t_train)\n",
    "\n",
    "print(\"Best params:\\n{}\\n\".format(grid.best_params_))\n",
    "print(\"Best cross-validation score: {:.2f}\".format(grid.best_score_))"
   ],
   "execution_count":123,
   "outputs":[
    {
     "name":"stdout",
     "text":[
      "Best params:\n",
      "{'model': LGBMRegressor(max_depth=8, num_leaves=256), 'model__max_depth': 8, 'model__num_leaves': 256, 'preprocessing': ColumnTransformer(transformers=[('cat',\n",
      "                                 Pipeline(steps=[('encoder',\n",
      "                                                  OneHotEncoder(drop='first',\n",
      "                                                                handle_unknown='ignore',\n",
      "                                                                sparse=False))]),\n",
      "                                 ['VehicleType', 'Gearbox', 'Model', 'FuelType',\n",
      "                                  'Brand', 'NotRepaired']),\n",
      "                                ('num',\n",
      "                                 Pipeline(steps=[('imputer',\n",
      "                                                  SimpleImputer(strategy='median')),\n",
      "                                                 ('scaler', StandardScaler())]),\n",
      "                                 ['RegistrationYear', 'Power', 'Kilometer'])])}\n",
      "\n",
      "Best cross-validation score: -1683.78\n"
     ],
     "output_type":"stream"
    }
   ],
   "metadata":{
    "datalore":{
     "type":"CODE",
     "hide_input_from_viewers":false,
     "hide_output_from_viewers":false
    }
   }
  },
  {
   "cell_type":"code",
   "source":[
    "print(\"Test-set score: {:.2f}\".format(grid.score(f_test, t_test)))"
   ],
   "execution_count":125,
   "outputs":[
    {
     "name":"stdout",
     "text":[
      "Test-set score: -1680.12\n"
     ],
     "output_type":"stream"
    }
   ],
   "metadata":{
    "datalore":{
     "type":"CODE",
     "hide_input_from_viewers":false,
     "hide_output_from_viewers":false
    }
   }
  },
  {
   "cell_type":"markdown",
   "source":[
    "### Линейная регрессия"
   ],
   "attachments":{
    
   },
   "metadata":{
    "datalore":{
     "type":"MD",
     "hide_input_from_viewers":false,
     "hide_output_from_viewers":false
    }
   }
  },
  {
   "cell_type":"code",
   "source":[
    "pipe_liner = Pipeline([('preprocessing', preprocessor), ('model', LinearRegression())])\n",
    "pipe_liner.fit(f_train, t_train)\n",
    "\n",
    "\n",
    "score = cross_val_score(pipe_liner, f_train, t_train, scoring='neg_root_mean_squared_error', cv=5)\n",
    "print('Кросс-валидация на линейной регресии',score.mean())"
   ],
   "execution_count":126,
   "outputs":[
    {
     "name":"stdout",
     "text":[
      "Кросс-валидация на линейной регресии -2706.645507309285\n"
     ],
     "output_type":"stream"
    }
   ],
   "metadata":{
    "datalore":{
     "type":"CODE",
     "hide_input_from_viewers":false,
     "hide_output_from_viewers":false
    }
   }
  },
  {
   "cell_type":"code",
   "source":[
    "predict_liner = pipe_liner.predict(f_test)\n",
    "print('Оценка линейной регрессии на тесте: ', mean_squared_error(t_test, predict_liner, squared=False))"
   ],
   "execution_count":127,
   "outputs":[
    {
     "name":"stdout",
     "text":[
      "Оценка линейной регрессии на тесте:  2715.0624659818955\n"
     ],
     "output_type":"stream"
    }
   ],
   "metadata":{
    "datalore":{
     "type":"CODE",
     "hide_input_from_viewers":false,
     "hide_output_from_viewers":false
    }
   }
  },
  {
   "cell_type":"markdown",
   "source":[
    "Линейная регрессия показывает результат значительно хуже, чем градиентый бустинг. Давайте проверим оценки моделей в сравнении с моделью предсказывающую медиану. "
   ],
   "attachments":{
    
   },
   "metadata":{
    "datalore":{
     "type":"MD",
     "hide_input_from_viewers":false,
     "hide_output_from_viewers":false
    }
   }
  },
  {
   "cell_type":"markdown",
   "source":[
    "### Dummy"
   ],
   "attachments":{
    
   },
   "metadata":{
    "datalore":{
     "type":"MD",
     "hide_input_from_viewers":false,
     "hide_output_from_viewers":false
    }
   }
  },
  {
   "cell_type":"code",
   "source":[
    "dummy_regressor = DummyRegressor(strategy=\"median\")\n",
    "dummy_regressor.fit(f_train, t_train)\n",
    "dummy_pred = dummy_regressor.predict(f_test)\n",
    "RMSE_dummy_rougher = mean_squared_error(t_test, dummy_pred, squared=False)\n",
    "print('Оценка дамми регрессии на тесте:', RMSE_dummy_rougher) "
   ],
   "execution_count":53,
   "outputs":[
    {
     "name":"stdout",
     "text":[
      "Оценка дамми регрессии на тесте: 4823.5690917616475\n"
     ],
     "output_type":"stream"
    }
   ],
   "metadata":{
    "datalore":{
     "type":"CODE",
     "hide_input_from_viewers":false,
     "hide_output_from_viewers":false
    }
   }
  },
  {
   "cell_type":"markdown",
   "source":[
    "### Вывод\n",
    "\n",
    "И линейная регрессия и градиентный бустинг, справляюстя с задачей значительно лучше чем дамми-модель. Однако, ошибка в 1600-3000 евро кажется достаточно значительной для сервиса по оценке рыночной стоимости."
   ],
   "attachments":{
    
   },
   "metadata":{
    "datalore":{
     "type":"MD",
     "hide_input_from_viewers":false,
     "hide_output_from_viewers":false
    }
   }
  },
  {
   "cell_type":"markdown",
   "source":[
    "## Сравнение моделей"
   ],
   "attachments":{
    
   },
   "metadata":{
    "datalore":{
     "type":"MD",
     "hide_input_from_viewers":false,
     "hide_output_from_viewers":false
    }
   }
  },
  {
   "cell_type":"code",
   "source":[
    "%%time \n",
    "\n",
    "pipe_liner = Pipeline([('preprocessing', preprocessor), ('model', LinearRegression())])\n",
    "pipe_liner.fit(f_train, t_train)\n",
    "predict_liner = pipe_liner.predict(f_test)"
   ],
   "execution_count":55,
   "outputs":[
    {
     "name":"stdout",
     "text":[
      "CPU times: user 10 s, sys: 2.55 s, total: 12.6 s\n",
      "Wall time: 8.72 s\n"
     ],
     "output_type":"stream"
    }
   ],
   "metadata":{
    "datalore":{
     "type":"CODE",
     "hide_input_from_viewers":false,
     "hide_output_from_viewers":false
    }
   }
  },
  {
   "cell_type":"code",
   "source":[
    "%%time\n",
    "\n",
    "pipe = Pipeline([('preprocessing', preprocessor), ('model', LGBMRegressor(max_depth=8, num_leaves=256))])\n",
    "pipe.fit(f_train, t_train)\n",
    "pipe = pipe.predict(f_test)"
   ],
   "execution_count":57,
   "outputs":[
    {
     "name":"stdout",
     "text":[
      "CPU times: user 30.3 s, sys: 2.76 s, total: 33.1 s\n",
      "Wall time: 25.5 s\n"
     ],
     "output_type":"stream"
    }
   ],
   "metadata":{
    "datalore":{
     "type":"CODE",
     "hide_input_from_viewers":false,
     "hide_output_from_viewers":false
    }
   }
  },
  {
   "cell_type":"code",
   "source":[
    "model = ['DummyRegressor', 'LinearRegression', 'LGBMRegressor']\n",
    "score = [4823, 2715, 1680]\n",
    "time = [8.72, 25.5]\n",
    "\n",
    "sns.barplot(x=score, y=model, orient='h', palette=\"Blues_d\")\n",
    "plt.title('RMSE моделей')\n",
    "\n",
    "plt.show()"
   ],
   "execution_count":66,
   "outputs":[
    {
     "data":{
      "image\/png":"[encoded data removed]"
     },
     "metadata":{
      "image\/png":{
       
      }
     },
     "output_type":"display_data"
    }
   ],
   "metadata":{
    "datalore":{
     "type":"CODE",
     "hide_input_from_viewers":false,
     "hide_output_from_viewers":false
    }
   }
  },
  {
   "cell_type":"markdown",
   "source":[
    "# Итог\n",
    "\n",
    "Несмотря на то, что модель градиентного бустинга работает дольше, она показывает результат значительно лучше, чем линейная модель. Так как разница между RMSE значительная около 1000 евро - на мой взгляд, лучше использовать модель градиентного бустинга, так как разброс в оценке +- 3000 евро выглядит совсем обескураживающим. Для улучшения моделей, можно более тщательно поработать с историческими данными, в них было много некорректных значений, выбросов и пропусков, возможно более тщательная работа с этими проблема поможет улучшить качество моделей. "
   ],
   "attachments":{
    
   },
   "metadata":{
    "datalore":{
     "type":"MD",
     "hide_input_from_viewers":false,
     "hide_output_from_viewers":false
    }
   }
  },
  {
   "cell_type":"code",
   "source":[
    
   ],
   "execution_count":0,
   "outputs":[
    
   ],
   "metadata":{
    "datalore":{
     "type":"CODE",
     "hide_input_from_viewers":false,
     "hide_output_from_viewers":false
    }
   }
  }
 ],
 "metadata":{
  "datalore":{
   "version":1,
   "computation_mode":"JUPYTER",
   "package_manager":"pip",
   "base_environment":"default",
   "packages":[
    
   ]
  }
 },
 "nbformat":4,
 "nbformat_minor":4
}