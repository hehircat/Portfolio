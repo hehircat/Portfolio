{
 "cells":[
  {
   "cell_type":"markdown",
   "source":[
    "<h1>Содержание<span class=\"tocSkip\"><\/span><\/h1>\n",
    "<div class=\"toc\"><ul class=\"toc-item\"><li><span><a href=\"#Подготовка-данных\" data-toc-modified-id=\"Подготовка-данных-1\"><span class=\"toc-item-num\">1&nbsp;&nbsp;<\/span>Подготовка данных<\/a><\/span><ul class=\"toc-item\"><li><span><a href=\"#Пропущенные-значения\" data-toc-modified-id=\"Пропущенные-значения-1.1\"><span class=\"toc-item-num\">1.1&nbsp;&nbsp;<\/span>Пропущенные значения<\/a><\/span><\/li><li><span><a href=\"#Вывод\" data-toc-modified-id=\"Вывод-1.2\"><span class=\"toc-item-num\">1.2&nbsp;&nbsp;<\/span>Вывод<\/a><\/span><\/li><\/ul><\/li><li><span><a href=\"#Исследование-задачи\" data-toc-modified-id=\"Исследование-задачи-2\"><span class=\"toc-item-num\">2&nbsp;&nbsp;<\/span>Исследование задачи<\/a><\/span><\/li><li><span><a href=\"#Препроцессинг-данных\" data-toc-modified-id=\"Препроцессинг-данных-3\"><span class=\"toc-item-num\">3&nbsp;&nbsp;<\/span>Препроцессинг данных<\/a><\/span><\/li><li><span><a href=\"#Борьба-с-дисбалансом\" data-toc-modified-id=\"Борьба-с-дисбалансом-4\"><span class=\"toc-item-num\">4&nbsp;&nbsp;<\/span>Борьба с дисбалансом<\/a><\/span><\/li><li><span><a href=\"#Подбор-гиперпараметров\" data-toc-modified-id=\"Подбор-гиперпараметров-5\"><span class=\"toc-item-num\">5&nbsp;&nbsp;<\/span>Подбор гиперпараметров<\/a><\/span><\/li><li><span><a href=\"#Тестирование-модели\" data-toc-modified-id=\"Тестирование-модели-6\"><span class=\"toc-item-num\">6&nbsp;&nbsp;<\/span>Тестирование модели<\/a><\/span><\/li><li><span><a href=\"#Общий-вывод:\" data-toc-modified-id=\"Общий-вывод:-7\"><span class=\"toc-item-num\">7&nbsp;&nbsp;<\/span>Общий вывод:<\/a><\/span><\/li><li><span><a href=\"#Чек-лист-готовности-проекта\" data-toc-modified-id=\"Чек-лист-готовности-проекта-8\"><span class=\"toc-item-num\">8&nbsp;&nbsp;<\/span>Чек-лист готовности проекта<\/a><\/span><\/li><\/ul><\/div>"
   ],
   "attachments":{
    
   },
   "metadata":{
    "datalore":{
     "type":"MD",
     "hide_input_from_viewers":false,
     "hide_output_from_viewers":false
    }
   }
  },
  {
   "cell_type":"markdown",
   "source":[
    "# Отток клиентов"
   ],
   "attachments":{
    
   },
   "metadata":{
    "datalore":{
     "type":"MD",
     "hide_input_from_viewers":false,
     "hide_output_from_viewers":false
    }
   }
  },
  {
   "cell_type":"markdown",
   "source":[
    "Прогназирование оттока клиентов\n",
    "\n",
    "Источник данных: [https:\/\/www.kaggle.com\/barelydedicated\/bank-customer-churn-modeling](https:\/\/www.kaggle.com\/barelydedicated\/bank-customer-churn-modeling)"
   ],
   "attachments":{
    
   },
   "metadata":{
    "datalore":{
     "type":"MD",
     "hide_input_from_viewers":false,
     "hide_output_from_viewers":false
    }
   }
  },
  {
   "cell_type":"markdown",
   "source":[
    "## Подготовка данных"
   ],
   "attachments":{
    
   },
   "metadata":{
    "datalore":{
     "type":"MD",
     "hide_input_from_viewers":false,
     "hide_output_from_viewers":false
    }
   }
  },
  {
   "cell_type":"code",
   "source":[
    "#pip install -U seaborn"
   ],
   "execution_count":1,
   "outputs":[
    
   ],
   "metadata":{
    "datalore":{
     "type":"CODE",
     "hide_input_from_viewers":false,
     "hide_output_from_viewers":false
    }
   }
  },
  {
   "cell_type":"code",
   "source":[
    "import pandas as pd\n",
    "import matplotlib.pyplot as plt \n",
    "import seaborn as sns\n",
    "import numpy as np\n",
    "\n",
    "from sklearn.model_selection import train_test_split #\n",
    "#from sklearn.base import BaseEstimator, TransformerMixin\n",
    "from sklearn.preprocessing import OneHotEncoder, StandardScaler\n",
    "from sklearn.impute import SimpleImputer\n",
    "from sklearn.pipeline import Pipeline\n",
    "from sklearn.compose import ColumnTransformer\n",
    "from sklearn.linear_model import LogisticRegression \n",
    "from sklearn.ensemble import RandomForestClassifier\n",
    "from sklearn.metrics import f1_score\n",
    "\n",
    "import warnings\n",
    "warnings.filterwarnings('ignore')"
   ],
   "execution_count":2,
   "outputs":[
    
   ],
   "metadata":{
    "datalore":{
     "type":"CODE",
     "hide_input_from_viewers":false,
     "hide_output_from_viewers":false
    }
   }
  },
  {
   "cell_type":"code",
   "source":[
    "data = pd.read_csv('Churn_Modelling.csv')\n",
    "data.head(15)"
   ],
   "execution_count":19,
   "outputs":[
    {
     "data":{
      "text\/html":[
       "<div>\n",
       "<style scoped>\n",
       "    .dataframe tbody tr th:only-of-type {\n",
       "        vertical-align: middle;\n",
       "    }\n",
       "\n",
       "    .dataframe tbody tr th {\n",
       "        vertical-align: top;\n",
       "    }\n",
       "\n",
       "    .dataframe thead th {\n",
       "        text-align: right;\n",
       "    }\n",
       "<\/style>\n",
       "<table border=\"1\" class=\"dataframe\">\n",
       "  <thead>\n",
       "    <tr style=\"text-align: right;\">\n",
       "      <th><\/th>\n",
       "      <th>RowNumber<\/th>\n",
       "      <th>CustomerId<\/th>\n",
       "      <th>Surname<\/th>\n",
       "      <th>CreditScore<\/th>\n",
       "      <th>Geography<\/th>\n",
       "      <th>Gender<\/th>\n",
       "      <th>Age<\/th>\n",
       "      <th>Tenure<\/th>\n",
       "      <th>Balance<\/th>\n",
       "      <th>NumOfProducts<\/th>\n",
       "      <th>HasCrCard<\/th>\n",
       "      <th>IsActiveMember<\/th>\n",
       "      <th>EstimatedSalary<\/th>\n",
       "      <th>Exited<\/th>\n",
       "    <\/tr>\n",
       "  <\/thead>\n",
       "  <tbody>\n",
       "    <tr>\n",
       "      <th>0<\/th>\n",
       "      <td>1<\/td>\n",
       "      <td>15634602<\/td>\n",
       "      <td>Hargrave<\/td>\n",
       "      <td>619<\/td>\n",
       "      <td>France<\/td>\n",
       "      <td>Female<\/td>\n",
       "      <td>42<\/td>\n",
       "      <td>2<\/td>\n",
       "      <td>0.00<\/td>\n",
       "      <td>1<\/td>\n",
       "      <td>1<\/td>\n",
       "      <td>1<\/td>\n",
       "      <td>101348.88<\/td>\n",
       "      <td>1<\/td>\n",
       "    <\/tr>\n",
       "    <tr>\n",
       "      <th>1<\/th>\n",
       "      <td>2<\/td>\n",
       "      <td>15647311<\/td>\n",
       "      <td>Hill<\/td>\n",
       "      <td>608<\/td>\n",
       "      <td>Spain<\/td>\n",
       "      <td>Female<\/td>\n",
       "      <td>41<\/td>\n",
       "      <td>1<\/td>\n",
       "      <td>83807.86<\/td>\n",
       "      <td>1<\/td>\n",
       "      <td>0<\/td>\n",
       "      <td>1<\/td>\n",
       "      <td>112542.58<\/td>\n",
       "      <td>0<\/td>\n",
       "    <\/tr>\n",
       "    <tr>\n",
       "      <th>2<\/th>\n",
       "      <td>3<\/td>\n",
       "      <td>15619304<\/td>\n",
       "      <td>Onio<\/td>\n",
       "      <td>502<\/td>\n",
       "      <td>France<\/td>\n",
       "      <td>Female<\/td>\n",
       "      <td>42<\/td>\n",
       "      <td>8<\/td>\n",
       "      <td>159660.80<\/td>\n",
       "      <td>3<\/td>\n",
       "      <td>1<\/td>\n",
       "      <td>0<\/td>\n",
       "      <td>113931.57<\/td>\n",
       "      <td>1<\/td>\n",
       "    <\/tr>\n",
       "    <tr>\n",
       "      <th>3<\/th>\n",
       "      <td>4<\/td>\n",
       "      <td>15701354<\/td>\n",
       "      <td>Boni<\/td>\n",
       "      <td>699<\/td>\n",
       "      <td>France<\/td>\n",
       "      <td>Female<\/td>\n",
       "      <td>39<\/td>\n",
       "      <td>1<\/td>\n",
       "      <td>0.00<\/td>\n",
       "      <td>2<\/td>\n",
       "      <td>0<\/td>\n",
       "      <td>0<\/td>\n",
       "      <td>93826.63<\/td>\n",
       "      <td>0<\/td>\n",
       "    <\/tr>\n",
       "    <tr>\n",
       "      <th>4<\/th>\n",
       "      <td>5<\/td>\n",
       "      <td>15737888<\/td>\n",
       "      <td>Mitchell<\/td>\n",
       "      <td>850<\/td>\n",
       "      <td>Spain<\/td>\n",
       "      <td>Female<\/td>\n",
       "      <td>43<\/td>\n",
       "      <td>2<\/td>\n",
       "      <td>125510.82<\/td>\n",
       "      <td>1<\/td>\n",
       "      <td>1<\/td>\n",
       "      <td>1<\/td>\n",
       "      <td>79084.10<\/td>\n",
       "      <td>0<\/td>\n",
       "    <\/tr>\n",
       "    <tr>\n",
       "      <th>5<\/th>\n",
       "      <td>6<\/td>\n",
       "      <td>15574012<\/td>\n",
       "      <td>Chu<\/td>\n",
       "      <td>645<\/td>\n",
       "      <td>Spain<\/td>\n",
       "      <td>Male<\/td>\n",
       "      <td>44<\/td>\n",
       "      <td>8<\/td>\n",
       "      <td>113755.78<\/td>\n",
       "      <td>2<\/td>\n",
       "      <td>1<\/td>\n",
       "      <td>0<\/td>\n",
       "      <td>149756.71<\/td>\n",
       "      <td>1<\/td>\n",
       "    <\/tr>\n",
       "    <tr>\n",
       "      <th>6<\/th>\n",
       "      <td>7<\/td>\n",
       "      <td>15592531<\/td>\n",
       "      <td>Bartlett<\/td>\n",
       "      <td>822<\/td>\n",
       "      <td>France<\/td>\n",
       "      <td>Male<\/td>\n",
       "      <td>50<\/td>\n",
       "      <td>7<\/td>\n",
       "      <td>0.00<\/td>\n",
       "      <td>2<\/td>\n",
       "      <td>1<\/td>\n",
       "      <td>1<\/td>\n",
       "      <td>10062.80<\/td>\n",
       "      <td>0<\/td>\n",
       "    <\/tr>\n",
       "    <tr>\n",
       "      <th>7<\/th>\n",
       "      <td>8<\/td>\n",
       "      <td>15656148<\/td>\n",
       "      <td>Obinna<\/td>\n",
       "      <td>376<\/td>\n",
       "      <td>Germany<\/td>\n",
       "      <td>Female<\/td>\n",
       "      <td>29<\/td>\n",
       "      <td>4<\/td>\n",
       "      <td>115046.74<\/td>\n",
       "      <td>4<\/td>\n",
       "      <td>1<\/td>\n",
       "      <td>0<\/td>\n",
       "      <td>119346.88<\/td>\n",
       "      <td>1<\/td>\n",
       "    <\/tr>\n",
       "    <tr>\n",
       "      <th>8<\/th>\n",
       "      <td>9<\/td>\n",
       "      <td>15792365<\/td>\n",
       "      <td>He<\/td>\n",
       "      <td>501<\/td>\n",
       "      <td>France<\/td>\n",
       "      <td>Male<\/td>\n",
       "      <td>44<\/td>\n",
       "      <td>4<\/td>\n",
       "      <td>142051.07<\/td>\n",
       "      <td>2<\/td>\n",
       "      <td>0<\/td>\n",
       "      <td>1<\/td>\n",
       "      <td>74940.50<\/td>\n",
       "      <td>0<\/td>\n",
       "    <\/tr>\n",
       "    <tr>\n",
       "      <th>9<\/th>\n",
       "      <td>10<\/td>\n",
       "      <td>15592389<\/td>\n",
       "      <td>H?<\/td>\n",
       "      <td>684<\/td>\n",
       "      <td>France<\/td>\n",
       "      <td>Male<\/td>\n",
       "      <td>27<\/td>\n",
       "      <td>2<\/td>\n",
       "      <td>134603.88<\/td>\n",
       "      <td>1<\/td>\n",
       "      <td>1<\/td>\n",
       "      <td>1<\/td>\n",
       "      <td>71725.73<\/td>\n",
       "      <td>0<\/td>\n",
       "    <\/tr>\n",
       "    <tr>\n",
       "      <th>10<\/th>\n",
       "      <td>11<\/td>\n",
       "      <td>15767821<\/td>\n",
       "      <td>Bearce<\/td>\n",
       "      <td>528<\/td>\n",
       "      <td>France<\/td>\n",
       "      <td>Male<\/td>\n",
       "      <td>31<\/td>\n",
       "      <td>6<\/td>\n",
       "      <td>102016.72<\/td>\n",
       "      <td>2<\/td>\n",
       "      <td>0<\/td>\n",
       "      <td>0<\/td>\n",
       "      <td>80181.12<\/td>\n",
       "      <td>0<\/td>\n",
       "    <\/tr>\n",
       "    <tr>\n",
       "      <th>11<\/th>\n",
       "      <td>12<\/td>\n",
       "      <td>15737173<\/td>\n",
       "      <td>Andrews<\/td>\n",
       "      <td>497<\/td>\n",
       "      <td>Spain<\/td>\n",
       "      <td>Male<\/td>\n",
       "      <td>24<\/td>\n",
       "      <td>3<\/td>\n",
       "      <td>0.00<\/td>\n",
       "      <td>2<\/td>\n",
       "      <td>1<\/td>\n",
       "      <td>0<\/td>\n",
       "      <td>76390.01<\/td>\n",
       "      <td>0<\/td>\n",
       "    <\/tr>\n",
       "    <tr>\n",
       "      <th>12<\/th>\n",
       "      <td>13<\/td>\n",
       "      <td>15632264<\/td>\n",
       "      <td>Kay<\/td>\n",
       "      <td>476<\/td>\n",
       "      <td>France<\/td>\n",
       "      <td>Female<\/td>\n",
       "      <td>34<\/td>\n",
       "      <td>10<\/td>\n",
       "      <td>0.00<\/td>\n",
       "      <td>2<\/td>\n",
       "      <td>1<\/td>\n",
       "      <td>0<\/td>\n",
       "      <td>26260.98<\/td>\n",
       "      <td>0<\/td>\n",
       "    <\/tr>\n",
       "    <tr>\n",
       "      <th>13<\/th>\n",
       "      <td>14<\/td>\n",
       "      <td>15691483<\/td>\n",
       "      <td>Chin<\/td>\n",
       "      <td>549<\/td>\n",
       "      <td>France<\/td>\n",
       "      <td>Female<\/td>\n",
       "      <td>25<\/td>\n",
       "      <td>5<\/td>\n",
       "      <td>0.00<\/td>\n",
       "      <td>2<\/td>\n",
       "      <td>0<\/td>\n",
       "      <td>0<\/td>\n",
       "      <td>190857.79<\/td>\n",
       "      <td>0<\/td>\n",
       "    <\/tr>\n",
       "    <tr>\n",
       "      <th>14<\/th>\n",
       "      <td>15<\/td>\n",
       "      <td>15600882<\/td>\n",
       "      <td>Scott<\/td>\n",
       "      <td>635<\/td>\n",
       "      <td>Spain<\/td>\n",
       "      <td>Female<\/td>\n",
       "      <td>35<\/td>\n",
       "      <td>7<\/td>\n",
       "      <td>0.00<\/td>\n",
       "      <td>2<\/td>\n",
       "      <td>1<\/td>\n",
       "      <td>1<\/td>\n",
       "      <td>65951.65<\/td>\n",
       "      <td>0<\/td>\n",
       "    <\/tr>\n",
       "  <\/tbody>\n",
       "<\/table>\n",
       "<\/div>"
      ]
     },
     "metadata":{
      
     },
     "output_type":"display_data"
    }
   ],
   "metadata":{
    "datalore":{
     "type":"CODE",
     "hide_input_from_viewers":false,
     "hide_output_from_viewers":false
    }
   }
  },
  {
   "cell_type":"code",
   "source":[
    "data.info()"
   ],
   "execution_count":4,
   "outputs":[
    {
     "name":"stdout",
     "text":[
      "<class 'pandas.core.frame.DataFrame'>\n",
      "RangeIndex: 10000 entries, 0 to 9999\n",
      "Data columns (total 14 columns):\n",
      " #   Column           Non-Null Count  Dtype  \n",
      "---  ------           --------------  -----  \n",
      " 0   RowNumber        10000 non-null  int64  \n",
      " 1   CustomerId       10000 non-null  int64  \n",
      " 2   Surname          10000 non-null  object \n",
      " 3   CreditScore      10000 non-null  int64  \n",
      " 4   Geography        10000 non-null  object \n",
      " 5   Gender           10000 non-null  object \n",
      " 6   Age              10000 non-null  int64  \n",
      " 7   Tenure           10000 non-null  int64  \n",
      " 8   Balance          10000 non-null  float64\n",
      " 9   NumOfProducts    10000 non-null  int64  \n",
      " 10  HasCrCard        10000 non-null  int64  \n",
      " 11  IsActiveMember   10000 non-null  int64  \n",
      " 12  EstimatedSalary  10000 non-null  float64\n",
      " 13  Exited           10000 non-null  int64  \n",
      "dtypes: float64(2), int64(9), object(3)\n",
      "memory usage: 1.1+ MB\n"
     ],
     "output_type":"stream"
    }
   ],
   "metadata":{
    "datalore":{
     "type":"CODE",
     "hide_input_from_viewers":false,
     "hide_output_from_viewers":false
    }
   }
  },
  {
   "cell_type":"markdown",
   "source":[
    "Для выполнения задачи прогнозирования мы будем работать с историческими данными банка. Наш датасет состоит из 10000 записей и 14 колонок. Типы данных проставлены корректно, **есть пропушенные значение в колонке Tenure**. Давайте проверим количественные переменные на предмет выбросов. \n",
    "\n",
    "**Описание данных**\n",
    "\n",
    "*Признаки*\n",
    "  \n",
    "- RowNumber — индекс строки в данных\n",
    "- CustomerId — уникальный идентификатор клиента\n",
    "- Surname — фамилия\n",
    "- CreditScore — кредитный рейтинг\n",
    "- Geography — страна проживания\n",
    "- Gender — пол\n",
    "- Age — возраст\n",
    "- Tenure — сколько лет человек является клиентом банка\n",
    "- Balance — баланс на счёте\n",
    "- NumOfProducts — количество продуктов банка, используемых клиентом\n",
    "- HasCrCard — наличие кредитной карты\n",
    "- IsActiveMember — активность клиента\n",
    "- EstimatedSalary — предполагаемая зарплата  \n",
    "\n",
    "*Целевой признак*\n",
    "  \n",
    "- Exited — факт ухода клиента"
   ],
   "attachments":{
    
   },
   "metadata":{
    "datalore":{
     "type":"MD",
     "hide_input_from_viewers":false,
     "hide_output_from_viewers":false
    }
   }
  },
  {
   "cell_type":"code",
   "source":[
    "data.describe()"
   ],
   "execution_count":20,
   "outputs":[
    {
     "data":{
      "text\/html":[
       "<div>\n",
       "<style scoped>\n",
       "    .dataframe tbody tr th:only-of-type {\n",
       "        vertical-align: middle;\n",
       "    }\n",
       "\n",
       "    .dataframe tbody tr th {\n",
       "        vertical-align: top;\n",
       "    }\n",
       "\n",
       "    .dataframe thead th {\n",
       "        text-align: right;\n",
       "    }\n",
       "<\/style>\n",
       "<table border=\"1\" class=\"dataframe\">\n",
       "  <thead>\n",
       "    <tr style=\"text-align: right;\">\n",
       "      <th><\/th>\n",
       "      <th>RowNumber<\/th>\n",
       "      <th>CustomerId<\/th>\n",
       "      <th>CreditScore<\/th>\n",
       "      <th>Age<\/th>\n",
       "      <th>Tenure<\/th>\n",
       "      <th>Balance<\/th>\n",
       "      <th>NumOfProducts<\/th>\n",
       "      <th>HasCrCard<\/th>\n",
       "      <th>IsActiveMember<\/th>\n",
       "      <th>EstimatedSalary<\/th>\n",
       "      <th>Exited<\/th>\n",
       "    <\/tr>\n",
       "  <\/thead>\n",
       "  <tbody>\n",
       "    <tr>\n",
       "      <th>count<\/th>\n",
       "      <td>10000.00000<\/td>\n",
       "      <td>1.000000e+04<\/td>\n",
       "      <td>10000.000000<\/td>\n",
       "      <td>10000.000000<\/td>\n",
       "      <td>10000.000000<\/td>\n",
       "      <td>10000.000000<\/td>\n",
       "      <td>10000.000000<\/td>\n",
       "      <td>10000.00000<\/td>\n",
       "      <td>10000.000000<\/td>\n",
       "      <td>10000.000000<\/td>\n",
       "      <td>10000.000000<\/td>\n",
       "    <\/tr>\n",
       "    <tr>\n",
       "      <th>mean<\/th>\n",
       "      <td>5000.50000<\/td>\n",
       "      <td>1.569094e+07<\/td>\n",
       "      <td>650.528800<\/td>\n",
       "      <td>38.921800<\/td>\n",
       "      <td>5.012800<\/td>\n",
       "      <td>76485.889288<\/td>\n",
       "      <td>1.530200<\/td>\n",
       "      <td>0.70550<\/td>\n",
       "      <td>0.515100<\/td>\n",
       "      <td>100090.239881<\/td>\n",
       "      <td>0.203700<\/td>\n",
       "    <\/tr>\n",
       "    <tr>\n",
       "      <th>std<\/th>\n",
       "      <td>2886.89568<\/td>\n",
       "      <td>7.193619e+04<\/td>\n",
       "      <td>96.653299<\/td>\n",
       "      <td>10.487806<\/td>\n",
       "      <td>2.892174<\/td>\n",
       "      <td>62397.405202<\/td>\n",
       "      <td>0.581654<\/td>\n",
       "      <td>0.45584<\/td>\n",
       "      <td>0.499797<\/td>\n",
       "      <td>57510.492818<\/td>\n",
       "      <td>0.402769<\/td>\n",
       "    <\/tr>\n",
       "    <tr>\n",
       "      <th>min<\/th>\n",
       "      <td>1.00000<\/td>\n",
       "      <td>1.556570e+07<\/td>\n",
       "      <td>350.000000<\/td>\n",
       "      <td>18.000000<\/td>\n",
       "      <td>0.000000<\/td>\n",
       "      <td>0.000000<\/td>\n",
       "      <td>1.000000<\/td>\n",
       "      <td>0.00000<\/td>\n",
       "      <td>0.000000<\/td>\n",
       "      <td>11.580000<\/td>\n",
       "      <td>0.000000<\/td>\n",
       "    <\/tr>\n",
       "    <tr>\n",
       "      <th>25%<\/th>\n",
       "      <td>2500.75000<\/td>\n",
       "      <td>1.562853e+07<\/td>\n",
       "      <td>584.000000<\/td>\n",
       "      <td>32.000000<\/td>\n",
       "      <td>3.000000<\/td>\n",
       "      <td>0.000000<\/td>\n",
       "      <td>1.000000<\/td>\n",
       "      <td>0.00000<\/td>\n",
       "      <td>0.000000<\/td>\n",
       "      <td>51002.110000<\/td>\n",
       "      <td>0.000000<\/td>\n",
       "    <\/tr>\n",
       "    <tr>\n",
       "      <th>50%<\/th>\n",
       "      <td>5000.50000<\/td>\n",
       "      <td>1.569074e+07<\/td>\n",
       "      <td>652.000000<\/td>\n",
       "      <td>37.000000<\/td>\n",
       "      <td>5.000000<\/td>\n",
       "      <td>97198.540000<\/td>\n",
       "      <td>1.000000<\/td>\n",
       "      <td>1.00000<\/td>\n",
       "      <td>1.000000<\/td>\n",
       "      <td>100193.915000<\/td>\n",
       "      <td>0.000000<\/td>\n",
       "    <\/tr>\n",
       "    <tr>\n",
       "      <th>75%<\/th>\n",
       "      <td>7500.25000<\/td>\n",
       "      <td>1.575323e+07<\/td>\n",
       "      <td>718.000000<\/td>\n",
       "      <td>44.000000<\/td>\n",
       "      <td>7.000000<\/td>\n",
       "      <td>127644.240000<\/td>\n",
       "      <td>2.000000<\/td>\n",
       "      <td>1.00000<\/td>\n",
       "      <td>1.000000<\/td>\n",
       "      <td>149388.247500<\/td>\n",
       "      <td>0.000000<\/td>\n",
       "    <\/tr>\n",
       "    <tr>\n",
       "      <th>max<\/th>\n",
       "      <td>10000.00000<\/td>\n",
       "      <td>1.581569e+07<\/td>\n",
       "      <td>850.000000<\/td>\n",
       "      <td>92.000000<\/td>\n",
       "      <td>10.000000<\/td>\n",
       "      <td>250898.090000<\/td>\n",
       "      <td>4.000000<\/td>\n",
       "      <td>1.00000<\/td>\n",
       "      <td>1.000000<\/td>\n",
       "      <td>199992.480000<\/td>\n",
       "      <td>1.000000<\/td>\n",
       "    <\/tr>\n",
       "  <\/tbody>\n",
       "<\/table>\n",
       "<\/div>"
      ]
     },
     "metadata":{
      
     },
     "output_type":"display_data"
    }
   ],
   "metadata":{
    "datalore":{
     "type":"CODE",
     "hide_input_from_viewers":false,
     "hide_output_from_viewers":false
    }
   }
  },
  {
   "cell_type":"markdown",
   "source":[
    "Данные выглядят реалистично. В препорцессинге необходимо будет масштабировать их. "
   ],
   "attachments":{
    
   },
   "metadata":{
    "datalore":{
     "type":"MD",
     "hide_input_from_viewers":false,
     "hide_output_from_viewers":false
    }
   }
  },
  {
   "cell_type":"code",
   "source":[
    "data.duplicated().sum()"
   ],
   "execution_count":6,
   "outputs":[
    {
     "data":{
      "text\/plain":[
       "0"
      ]
     },
     "metadata":{
      
     },
     "output_type":"display_data"
    }
   ],
   "metadata":{
    "datalore":{
     "type":"CODE",
     "hide_input_from_viewers":false,
     "hide_output_from_viewers":false
    }
   }
  },
  {
   "cell_type":"markdown",
   "source":[
    "### Пропущенные значения"
   ],
   "attachments":{
    
   },
   "metadata":{
    "datalore":{
     "type":"MD",
     "hide_input_from_viewers":false,
     "hide_output_from_viewers":false
    }
   }
  },
  {
   "cell_type":"code",
   "source":[
    "fig, axs = plt.subplots(1,2, figsize = (12,5))\n",
    "\n",
    "sns.set_style('darkgrid')\n",
    "\n",
    "axs[1].scatter('Tenure', 'Balance', data=data, color='darkgreen', alpha=.2)\n",
    "axs[1].set(title='Зависимость Tenure и баланса на счете', xlabel='Tenure', ylabel='Balance')\n",
    "\n",
    "axs[0].hist(data['Tenure'], color='darkgreen')\n",
    "axs[0].set(title='Распределение Tenure', xlabel='Tenure')\n",
    "\n",
    "fig.tight_layout() \n",
    "plt.show()"
   ],
   "execution_count":10,
   "outputs":[
    {
     "data":{
      "image\/png":"[encoded data removed]"
     },
     "metadata":{
      "image\/png":{
       
      }
     },
     "output_type":"display_data"
    }
   ],
   "metadata":{
    "datalore":{
     "type":"CODE",
     "hide_input_from_viewers":false,
     "hide_output_from_viewers":false
    }
   }
  },
  {
   "cell_type":"markdown",
   "source":[
    "По распределению мы видим, что в нашем датасете примерно одинаковое число клиентов, которые пользуются услугами банка от года и до 9 лет. Болшое кол-во клиентов используют банк уже более 9 лет. Чтобы понять, как мы можем заполнить пропуски в данной категории давайте проверим две гипотезы: 1) возможно, чем больше баланс на счету у человека, тем дольше он пользуется банком - больше доверяет ему, 2) Чем больше человек использует продуктов, тем дольше он пользуется банком.  \n",
    "\n",
    "Как мы видим по второй диаграмме, наше первое предположение неверно, баланс клиентов, которые использует банк недавно, и старых клиентов находится примерно в одном диапозоне. Давайте проверим нашу вторую гипотезу. "
   ],
   "attachments":{
    
   },
   "metadata":{
    "datalore":{
     "type":"MD",
     "hide_input_from_viewers":false,
     "hide_output_from_viewers":false
    }
   }
  },
  {
   "cell_type":"code",
   "source":[
    "print('Средние кол-во Tenure в группах, сформированных по кол-ву используемых клиентом продуктов')\n",
    "data.groupby('NumOfProducts')['Tenure'].mean()"
   ],
   "execution_count":22,
   "outputs":[
    {
     "name":"stdout",
     "text":[
      "Средние кол-во Tenure в группах, сформированных по кол-ву используемых клиентом продуктов\n"
     ],
     "output_type":"stream"
    },
    {
     "data":{
      "text\/html":[
       
      ]
     },
     "metadata":{
      
     },
     "output_type":"display_data"
    }
   ],
   "metadata":{
    "datalore":{
     "type":"CODE",
     "hide_input_from_viewers":false,
     "hide_output_from_viewers":false
    }
   }
  },
  {
   "cell_type":"markdown",
   "source":[
    "Вторая наша гипотеза тоже не подтвердилась, поэтому предлагаю заполнить пропуски медианным значением. В данном проекте для обработки переменных я буду использовать pipeline, поэтому заполнение пропусков будет прописываться в нем. "
   ],
   "attachments":{
    
   },
   "metadata":{
    "datalore":{
     "type":"MD",
     "hide_input_from_viewers":false,
     "hide_output_from_viewers":false
    }
   }
  },
  {
   "cell_type":"code",
   "source":[
    "print('Медианноое значение Tenure: ', data['Tenure'].median())"
   ],
   "execution_count":12,
   "outputs":[
    {
     "name":"stdout",
     "text":[
      "Медианноое значение Tenure:  5.0\n"
     ],
     "output_type":"stream"
    }
   ],
   "metadata":{
    "datalore":{
     "type":"CODE",
     "hide_input_from_viewers":false,
     "hide_output_from_viewers":false
    }
   }
  },
  {
   "cell_type":"markdown",
   "source":[
    "### Вывод"
   ],
   "attachments":{
    
   },
   "metadata":{
    "datalore":{
     "type":"MD",
     "hide_input_from_viewers":false,
     "hide_output_from_viewers":false
    }
   }
  },
  {
   "cell_type":"markdown",
   "source":[
    "Наши данные готовы к анализу и препроцессингу. Типы данных представленны корректно. Пропущенные значение в колонке Tenure будут заполнены медианным значением - скорее всего пропущенные значения появились из-за технических неполадок. "
   ],
   "attachments":{
    
   },
   "metadata":{
    "datalore":{
     "type":"MD",
     "hide_input_from_viewers":false,
     "hide_output_from_viewers":false
    }
   }
  },
  {
   "cell_type":"markdown",
   "source":[
    "## Исследование задачи"
   ],
   "attachments":{
    
   },
   "metadata":{
    "datalore":{
     "type":"MD",
     "hide_input_from_viewers":false,
     "hide_output_from_viewers":false
    }
   }
  },
  {
   "cell_type":"markdown",
   "source":[
    "Начнем с исследования нашего целевого признака Exited. Это бинарная переменная, где 1 - факт ухода клиента из банка. "
   ],
   "attachments":{
    
   },
   "metadata":{
    "datalore":{
     "type":"MD",
     "hide_input_from_viewers":false,
     "hide_output_from_viewers":false
    }
   }
  },
  {
   "cell_type":"code",
   "source":[
    "data['Exited'].value_counts()"
   ],
   "execution_count":23,
   "outputs":[
    {
     "data":{
      "text\/html":[
       
      ]
     },
     "metadata":{
      
     },
     "output_type":"display_data"
    }
   ],
   "metadata":{
    "datalore":{
     "type":"CODE",
     "hide_input_from_viewers":false,
     "hide_output_from_viewers":false
    }
   }
  },
  {
   "cell_type":"markdown",
   "source":[
    "Как мы видим у нас есть достаточно сильный дисбаланс классов. Оставшихся клиентов в 4 раза больше, чем ушедших - это и хорошо, но необходимо будет учитывать при построение модели и формировании выборок. "
   ],
   "attachments":{
    
   },
   "metadata":{
    "datalore":{
     "type":"MD",
     "hide_input_from_viewers":false,
     "hide_output_from_viewers":false
    }
   }
  },
  {
   "cell_type":"code",
   "source":[
    "fig, axs = plt.subplots(2,3, figsize = (15,10))\n",
    "\n",
    "col_num = ['CreditScore', 'Age', 'Tenure', 'Balance', 'NumOfProducts', 'EstimatedSalary']\n",
    "\n",
    "for i, col in enumerate(col_num):\n",
    "    sns.histplot(data=data, x=col, stat='density',\n",
    "                 bins=20, hue=\"Exited\", \n",
    "                 common_norm=False, ax=axs[i\/\/3, i%3]) \n",
    "    fig.tight_layout() "
   ],
   "execution_count":14,
   "outputs":[
    {
     "data":{
      "image\/png":"[encoded data removed]"
     },
     "metadata":{
      "image\/png":{
       
      }
     },
     "output_type":"display_data"
    }
   ],
   "metadata":{
    "datalore":{
     "type":"CODE",
     "hide_input_from_viewers":false,
     "hide_output_from_viewers":false
    }
   }
  },
  {
   "cell_type":"markdown",
   "source":[
    "Средний кредитный рейтинг пользователей банка составляет около 650, при этом кредитный рейтинг пользователей, которые остались с банком немного выше, тех кто перестал использовать услуги. Средний возраст клиентов банка - 35-40 лет, стоит обратить внимание, что чаще банком перестают пользоваться люди возраста 40+, ниже на матрице корреляй можно увидеть достаточно сильную зависимость 0.32 между возрастом и уходом из банка.  \n",
    "\n",
    "Средний показатель баланса на счету составляет 125 000 - данный показатель распределен нормально, если не учитывать достаточно большоое кол-во пользователей, у которых баланс на счету равен нулю. Наиболее часто пользователи банка используют один продукт, и реже всего 4. Давайте немного изучим георгафию наших пользователей. "
   ],
   "attachments":{
    
   },
   "metadata":{
    "datalore":{
     "type":"MD",
     "hide_input_from_viewers":false,
     "hide_output_from_viewers":false
    }
   }
  },
  {
   "cell_type":"code",
   "source":[
    "data.groupby('Geography').size().plot(kind='pie', autopct='%.2f',\n",
    "                                 textprops={'fontsize': 14})\n",
    "plt.ylabel('')\n",
    "plt.title('Страна проживания пользователей банка')\n",
    "plt.show()"
   ],
   "execution_count":15,
   "outputs":[
    {
     "data":{
      "image\/png":"[encoded data removed]"
     },
     "metadata":{
      "image\/png":{
       
      }
     },
     "output_type":"display_data"
    }
   ],
   "metadata":{
    "datalore":{
     "type":"CODE",
     "hide_input_from_viewers":false,
     "hide_output_from_viewers":false
    }
   }
  },
  {
   "cell_type":"markdown",
   "source":[
    "Для прогнозирования нам не понадобятся такие данные как id клиента, его фамилия и номер строчки - так как это уникальные показатели, предлагаю создать датасет, с которым мы будем непосредственно работать без них. "
   ],
   "attachments":{
    
   },
   "metadata":{
    "datalore":{
     "type":"MD",
     "hide_input_from_viewers":false,
     "hide_output_from_viewers":false
    }
   }
  },
  {
   "cell_type":"code",
   "source":[
    "processed_data = data.drop(['RowNumber', 'CustomerId', 'Surname'], axis=1)"
   ],
   "execution_count":16,
   "outputs":[
    
   ],
   "metadata":{
    "datalore":{
     "type":"CODE",
     "hide_input_from_viewers":false,
     "hide_output_from_viewers":false
    }
   }
  },
  {
   "cell_type":"code",
   "source":[
    "fig, ax = plt.subplots(figsize=(8,6))\n",
    "\n",
    "corr = processed_data.corr('spearman') \n",
    "mask = np.triu(np.ones_like(corr)) \n",
    "sns.heatmap(corr, cmap='PuOr', mask=mask, annot=True, ax=ax)\n",
    "ax.set_xticklabels(labels=ax.get_xticklabels(), rotation=60);"
   ],
   "execution_count":17,
   "outputs":[
    {
     "data":{
      "image\/png":"[encoded data removed]"
     },
     "metadata":{
      "image\/png":{
       
      }
     },
     "output_type":"display_data"
    }
   ],
   "metadata":{
    "datalore":{
     "type":"CODE",
     "hide_input_from_viewers":false,
     "hide_output_from_viewers":false
    }
   }
  },
  {
   "cell_type":"markdown",
   "source":[
    "Как мы уже сказали, на факт ухода из банка достаточно сильно влияет возраст - положительная корреляция 0.32. "
   ],
   "attachments":{
    
   },
   "metadata":{
    "datalore":{
     "type":"MD",
     "hide_input_from_viewers":false,
     "hide_output_from_viewers":false
    }
   }
  },
  {
   "cell_type":"code",
   "source":[
    "processed_data.head()"
   ],
   "execution_count":28,
   "outputs":[
    {
     "data":{
      "text\/html":[
       "<div>\n",
       "<style scoped>\n",
       "    .dataframe tbody tr th:only-of-type {\n",
       "        vertical-align: middle;\n",
       "    }\n",
       "\n",
       "    .dataframe tbody tr th {\n",
       "        vertical-align: top;\n",
       "    }\n",
       "\n",
       "    .dataframe thead th {\n",
       "        text-align: right;\n",
       "    }\n",
       "<\/style>\n",
       "<table border=\"1\" class=\"dataframe\">\n",
       "  <thead>\n",
       "    <tr style=\"text-align: right;\">\n",
       "      <th><\/th>\n",
       "      <th>CreditScore<\/th>\n",
       "      <th>Geography<\/th>\n",
       "      <th>Gender<\/th>\n",
       "      <th>Age<\/th>\n",
       "      <th>Tenure<\/th>\n",
       "      <th>Balance<\/th>\n",
       "      <th>NumOfProducts<\/th>\n",
       "      <th>HasCrCard<\/th>\n",
       "      <th>IsActiveMember<\/th>\n",
       "      <th>EstimatedSalary<\/th>\n",
       "      <th>Exited<\/th>\n",
       "    <\/tr>\n",
       "  <\/thead>\n",
       "  <tbody>\n",
       "    <tr>\n",
       "      <th>0<\/th>\n",
       "      <td>619<\/td>\n",
       "      <td>France<\/td>\n",
       "      <td>Female<\/td>\n",
       "      <td>42<\/td>\n",
       "      <td>2<\/td>\n",
       "      <td>0.00<\/td>\n",
       "      <td>1<\/td>\n",
       "      <td>1<\/td>\n",
       "      <td>1<\/td>\n",
       "      <td>101348.88<\/td>\n",
       "      <td>1<\/td>\n",
       "    <\/tr>\n",
       "    <tr>\n",
       "      <th>1<\/th>\n",
       "      <td>608<\/td>\n",
       "      <td>Spain<\/td>\n",
       "      <td>Female<\/td>\n",
       "      <td>41<\/td>\n",
       "      <td>1<\/td>\n",
       "      <td>83807.86<\/td>\n",
       "      <td>1<\/td>\n",
       "      <td>0<\/td>\n",
       "      <td>1<\/td>\n",
       "      <td>112542.58<\/td>\n",
       "      <td>0<\/td>\n",
       "    <\/tr>\n",
       "    <tr>\n",
       "      <th>2<\/th>\n",
       "      <td>502<\/td>\n",
       "      <td>France<\/td>\n",
       "      <td>Female<\/td>\n",
       "      <td>42<\/td>\n",
       "      <td>8<\/td>\n",
       "      <td>159660.80<\/td>\n",
       "      <td>3<\/td>\n",
       "      <td>1<\/td>\n",
       "      <td>0<\/td>\n",
       "      <td>113931.57<\/td>\n",
       "      <td>1<\/td>\n",
       "    <\/tr>\n",
       "    <tr>\n",
       "      <th>3<\/th>\n",
       "      <td>699<\/td>\n",
       "      <td>France<\/td>\n",
       "      <td>Female<\/td>\n",
       "      <td>39<\/td>\n",
       "      <td>1<\/td>\n",
       "      <td>0.00<\/td>\n",
       "      <td>2<\/td>\n",
       "      <td>0<\/td>\n",
       "      <td>0<\/td>\n",
       "      <td>93826.63<\/td>\n",
       "      <td>0<\/td>\n",
       "    <\/tr>\n",
       "    <tr>\n",
       "      <th>4<\/th>\n",
       "      <td>850<\/td>\n",
       "      <td>Spain<\/td>\n",
       "      <td>Female<\/td>\n",
       "      <td>43<\/td>\n",
       "      <td>2<\/td>\n",
       "      <td>125510.82<\/td>\n",
       "      <td>1<\/td>\n",
       "      <td>1<\/td>\n",
       "      <td>1<\/td>\n",
       "      <td>79084.10<\/td>\n",
       "      <td>0<\/td>\n",
       "    <\/tr>\n",
       "  <\/tbody>\n",
       "<\/table>\n",
       "<\/div>"
      ]
     },
     "metadata":{
      
     },
     "output_type":"display_data"
    }
   ],
   "metadata":{
    "datalore":{
     "type":"CODE",
     "hide_input_from_viewers":false,
     "hide_output_from_viewers":false
    }
   }
  },
  {
   "cell_type":"markdown",
   "source":[
    "## Препроцессинг данных"
   ],
   "attachments":{
    
   },
   "metadata":{
    "datalore":{
     "type":"MD",
     "hide_input_from_viewers":false,
     "hide_output_from_viewers":false
    }
   }
  },
  {
   "cell_type":"markdown",
   "source":[
    "Создадим три выборки: обучающую, валидационную и тестовую в соотношении: 3:1:1. Установим при разделении аргумент stratify для того, чтобы в данные делились стратифицированным образом. "
   ],
   "attachments":{
    
   },
   "metadata":{
    "datalore":{
     "type":"MD",
     "hide_input_from_viewers":false,
     "hide_output_from_viewers":false
    }
   }
  },
  {
   "cell_type":"code",
   "source":[
    "features = processed_data.drop(['Exited'], axis=1)\n",
    "target = processed_data['Exited']"
   ],
   "execution_count":29,
   "outputs":[
    
   ],
   "metadata":{
    "datalore":{
     "type":"CODE",
     "hide_input_from_viewers":false,
     "hide_output_from_viewers":false
    }
   }
  },
  {
   "cell_type":"code",
   "source":[
    "f_train, f_test_valid, t_train, t_test_valid = train_test_split(features, \n",
    "                                                    target, \n",
    "                                                    test_size=.4, \n",
    "                                                    random_state=12345,\n",
    "                                                    stratify=target)"
   ],
   "execution_count":30,
   "outputs":[
    
   ],
   "metadata":{
    "datalore":{
     "type":"CODE",
     "hide_input_from_viewers":false,
     "hide_output_from_viewers":false
    }
   }
  },
  {
   "cell_type":"code",
   "source":[
    "f_train.shape"
   ],
   "execution_count":31,
   "outputs":[
    {
     "data":{
      "text\/plain":[
       "(6000, 10)"
      ]
     },
     "metadata":{
      
     },
     "output_type":"display_data"
    }
   ],
   "metadata":{
    "datalore":{
     "type":"CODE",
     "hide_input_from_viewers":false,
     "hide_output_from_viewers":false
    }
   }
  },
  {
   "cell_type":"code",
   "source":[
    "f_test, f_valid, t_test, t_valid = train_test_split(f_test_valid, \n",
    "                                                    t_test_valid, \n",
    "                                                    test_size=.5, \n",
    "                                                    random_state=12345,\n",
    "                                                    stratify=t_test_valid)"
   ],
   "execution_count":32,
   "outputs":[
    
   ],
   "metadata":{
    "datalore":{
     "type":"CODE",
     "hide_input_from_viewers":false,
     "hide_output_from_viewers":false
    }
   }
  },
  {
   "cell_type":"code",
   "source":[
    "f_test.shape"
   ],
   "execution_count":33,
   "outputs":[
    {
     "data":{
      "text\/plain":[
       "(2000, 10)"
      ]
     },
     "metadata":{
      
     },
     "output_type":"display_data"
    }
   ],
   "metadata":{
    "datalore":{
     "type":"CODE",
     "hide_input_from_viewers":false,
     "hide_output_from_viewers":false
    }
   }
  },
  {
   "cell_type":"markdown",
   "source":[
    "Выделим отдельно категориальные и количественные признаки - создадим для них разный пайлайны."
   ],
   "attachments":{
    
   },
   "metadata":{
    "datalore":{
     "type":"MD",
     "hide_input_from_viewers":false,
     "hide_output_from_viewers":false
    }
   }
  },
  {
   "cell_type":"code",
   "source":[
    "numerical = ['CreditScore', 'Age', 'Tenure', 'Balance',\n",
    "       'NumOfProducts', 'EstimatedSalary']\n",
    "\n",
    "categorical = ['Geography', 'Gender', 'HasCrCard', 'IsActiveMember']"
   ],
   "execution_count":34,
   "outputs":[
    
   ],
   "metadata":{
    "datalore":{
     "type":"CODE",
     "hide_input_from_viewers":false,
     "hide_output_from_viewers":false
    }
   }
  },
  {
   "cell_type":"markdown",
   "source":[
    "**Для категориальных**: используем метод OHE для кодировки переменных, уберем первые колонки, чтобы избежать дамми-ловушки  \n",
    "**Для количественных**: с помощью imputer - заполним пропущенные значения медианными (пропущенные значения у нас только в Tenure) и также сделаем маштабирование признаков. "
   ],
   "attachments":{
    
   },
   "metadata":{
    "datalore":{
     "type":"MD",
     "hide_input_from_viewers":false,
     "hide_output_from_viewers":false
    }
   }
  },
  {
   "cell_type":"code",
   "source":[
    "# Define categorical pipeline\n",
    "cat_pipe = Pipeline([\n",
    "    ('encoder', OneHotEncoder(sparse=False, drop='first'))\n",
    "])\n",
    "\n",
    "# Define numerical pipeline\n",
    "num_pipe = Pipeline([\n",
    "    ('imputer', SimpleImputer(strategy='median')),\n",
    "    ('scaler', StandardScaler())\n",
    "])\n",
    "\n",
    "# Fit column transformer to training data\n",
    "preprocessor = ColumnTransformer([\n",
    "    ('cat', cat_pipe, categorical),\n",
    "    ('num', num_pipe, numerical)\n",
    "])"
   ],
   "execution_count":35,
   "outputs":[
    
   ],
   "metadata":{
    "datalore":{
     "type":"CODE",
     "hide_input_from_viewers":false,
     "hide_output_from_viewers":false
    }
   }
  },
  {
   "cell_type":"markdown",
   "source":[
    "Мы решаем задачу классификации. Для начала давайте посмотрим как с ней справится логистическая регрессия без взвешивания классов. "
   ],
   "attachments":{
    
   },
   "metadata":{
    "datalore":{
     "type":"MD",
     "hide_input_from_viewers":false,
     "hide_output_from_viewers":false
    }
   }
  },
  {
   "cell_type":"code",
   "source":[
    "# Fit a pipeline with transformers and an estimator to the training data\n",
    "pipe = Pipeline([\n",
    "    ('preprocessor', preprocessor),\n",
    "    ('model', LogisticRegression(random_state=12345))\n",
    "])\n",
    "pipe.fit(f_train, t_train)\n",
    "\n",
    "# Predict training data\n",
    "train_pred_unbalanced = pipe.predict(f_train)\n",
    "print('F1 score на обучающей выборке', f1_score(t_train, train_pred_unbalanced))\n",
    "\n",
    "# Predict valid data\n",
    "valid_pred_unbalanced = pipe.predict(f_valid)\n",
    "print('F1 score на валидационной выборке', f1_score(t_valid, valid_pred_unbalanced))"
   ],
   "execution_count":36,
   "outputs":[
    {
     "name":"stdout",
     "text":[
      "F1 score на обучающей выборке 0.3184019370460049\n",
      "F1 score на валидационной выборке 0.2932330827067669\n"
     ],
     "output_type":"stream"
    }
   ],
   "metadata":{
    "datalore":{
     "type":"CODE",
     "hide_input_from_viewers":false,
     "hide_output_from_viewers":false
    }
   }
  },
  {
   "cell_type":"code",
   "source":[
    "from sklearn.metrics import confusion_matrix, accuracy_score, classification_report\n",
    "from sklearn.metrics import roc_curve, roc_auc_score\n",
    "from sklearn.utils import shuffle"
   ],
   "execution_count":37,
   "outputs":[
    
   ],
   "metadata":{
    "datalore":{
     "type":"CODE",
     "hide_input_from_viewers":false,
     "hide_output_from_viewers":false
    }
   }
  },
  {
   "cell_type":"code",
   "source":[
    "cm = confusion_matrix(t_valid, valid_pred_unbalanced)\n",
    "\n",
    "df_cm = pd.DataFrame(cm\/cm.sum(axis=1)[:, np.newaxis].round(2), columns=[0,1], index = [0,1])\n",
    "df_cm.index.name = 'Actual'\n",
    "df_cm.columns.name = 'Predicted'\n",
    "print(cm)\n",
    "sns.heatmap(df_cm, annot=True, fmt='.2%', cmap='Blues');"
   ],
   "execution_count":38,
   "outputs":[
    {
     "name":"stdout",
     "text":[
      "[[1546   47]\n",
      " [ 329   78]]\n"
     ],
     "output_type":"stream"
    },
    {
     "data":{
      "image\/png":"[encoded data removed]"
     },
     "metadata":{
      "image\/png":{
       
      }
     },
     "output_type":"display_data"
    }
   ],
   "metadata":{
    "datalore":{
     "type":"CODE",
     "hide_input_from_viewers":false,
     "hide_output_from_viewers":false
    }
   }
  },
  {
   "cell_type":"markdown",
   "source":[
    "Модель без взвешивания классов попала только в 19% процентов случаев в уходящего клиента. Давайте построим логистическую регрессию с взвешиванием классов и посмотрим как она справиласт с этой задачей. "
   ],
   "attachments":{
    
   },
   "metadata":{
    "datalore":{
     "type":"MD",
     "hide_input_from_viewers":false,
     "hide_output_from_viewers":false
    }
   }
  },
  {
   "cell_type":"code",
   "source":[
    "# Fit a pipeline with transformers and an estimator to the training data\n",
    "pipe = Pipeline([\n",
    "    ('preprocessor', preprocessor),\n",
    "    ('model', LogisticRegression(random_state=12345, class_weight='balanced'))\n",
    "])\n",
    "pipe.fit(f_train, t_train)\n",
    "\n",
    "# Predict training data\n",
    "train_pred_balanced = pipe.predict(f_train)\n",
    "print('F1 score на обучающей выборке - модель с взвешиванием классов',f1_score(t_train, train_pred_balanced))\n",
    "\n",
    "# Predict valid data\n",
    "valid_pred_balanced = pipe.predict(f_valid)\n",
    "print('F1 score на валидационной выборке - модель с взвешиванием классов',f1_score(t_valid, valid_pred_balanced))"
   ],
   "execution_count":39,
   "outputs":[
    {
     "name":"stdout",
     "text":[
      "F1 score на обучающей выборке - модель с взвешиванием классов 0.4873900293255133\n",
      "F1 score на валидационной выборке - модель с взвешиванием классов 0.4756944444444445\n"
     ],
     "output_type":"stream"
    }
   ],
   "metadata":{
    "datalore":{
     "type":"CODE",
     "hide_input_from_viewers":false,
     "hide_output_from_viewers":false
    }
   }
  },
  {
   "cell_type":"code",
   "source":[
    "cm = confusion_matrix(t_valid, valid_pred_balanced)\n",
    "\n",
    "df_cm = pd.DataFrame(cm\/cm.sum(axis=1)[:, np.newaxis].round(2), columns=[0,1], index = [0,1])\n",
    "df_cm.index.name = 'Actual'\n",
    "df_cm.columns.name = 'Predicted'\n",
    "print(cm)\n",
    "sns.heatmap(df_cm, annot=True, fmt='.2%', cmap='Blues');"
   ],
   "execution_count":40,
   "outputs":[
    {
     "name":"stdout",
     "text":[
      "[[1122  471]\n",
      " [ 133  274]]\n"
     ],
     "output_type":"stream"
    },
    {
     "data":{
      "image\/png":"[encoded data removed]"
     },
     "metadata":{
      "image\/png":{
       
      }
     },
     "output_type":"display_data"
    }
   ],
   "metadata":{
    "datalore":{
     "type":"CODE",
     "hide_input_from_viewers":false,
     "hide_output_from_viewers":false
    }
   }
  },
  {
   "cell_type":"code",
   "source":[
    "fpr_un, tpr_un, thr_un = roc_curve(t_valid, valid_pred_unbalanced)\n",
    "auc_un = roc_auc_score(t_valid, valid_pred_unbalanced)\n",
    "\n",
    "fpr_b, tpr_b, thr_b = roc_curve(t_valid, valid_pred_balanced)\n",
    "auc_b = roc_auc_score(t_valid, valid_pred_balanced)\n",
    "\n",
    "fig, axs = plt.subplots(1,2, figsize = (10,5))\n",
    "axs[0].plot(fpr_un, tpr_un)\n",
    "axs[0].set_title(f\"ROC_AUC curve модель без взвешивания, auc = {auc_un:.2f}\")\n",
    "\n",
    "axs[1].plot(fpr_b, tpr_b)\n",
    "axs[1].set_title(f\"ROC_AUC curve модель с взвешиванием, auc = {auc_b:.2f}\")\n",
    "\n",
    "fig.tight_layout()\n",
    "plt.show()"
   ],
   "execution_count":41,
   "outputs":[
    {
     "data":{
      "image\/png":"[encoded data removed]"
     },
     "metadata":{
      "image\/png":{
       
      }
     },
     "output_type":"display_data"
    }
   ],
   "metadata":{
    "datalore":{
     "type":"CODE",
     "hide_input_from_viewers":false,
     "hide_output_from_viewers":false
    }
   }
  },
  {
   "cell_type":"markdown",
   "source":[
    "Стало значительно лучше - **f1 score 0.48 на валидационной выборке, 67% попавдани в таргет**. Также мы видим, что ROC-AUC у второй модели вырос, да и по графику заметно, что прямая отдалилась от ROC-прямой случайной модели, которая проходила бы ровно по горизонатали. Но даже логистическая регрессия с взвешенными классами все еще недостаточно качественно делает предсказания, давайте попробуем обучить модель случайного леса. "
   ],
   "attachments":{
    
   },
   "metadata":{
    "datalore":{
     "type":"MD",
     "hide_input_from_viewers":false,
     "hide_output_from_viewers":false
    }
   }
  },
  {
   "cell_type":"markdown",
   "source":[
    "## Борьба с дисбалансом"
   ],
   "attachments":{
    
   },
   "metadata":{
    "datalore":{
     "type":"MD",
     "hide_input_from_viewers":false,
     "hide_output_from_viewers":false
    }
   }
  },
  {
   "cell_type":"markdown",
   "source":[
    "Для того, чтобы решить проблемы с дисбалансом классов сделаем upsampling"
   ],
   "attachments":{
    
   },
   "metadata":{
    "datalore":{
     "type":"MD",
     "hide_input_from_viewers":false,
     "hide_output_from_viewers":false
    }
   }
  },
  {
   "cell_type":"code",
   "source":[
    "f_train, f_test_valid, t_train, t_test_valid = train_test_split(features, \n",
    "                                                    target, \n",
    "                                                    test_size=.4, \n",
    "                                                    random_state=12345,\n",
    "                                                    stratify=target)\n",
    "\n",
    "f_test, f_valid, t_test, t_valid = train_test_split(f_test_valid, \n",
    "                                                    t_test_valid, \n",
    "                                                    test_size=.5, \n",
    "                                                    random_state=12345,\n",
    "                                                    stratify=t_test_valid)\n",
    "\n",
    "\n",
    "features_zeros = f_train[t_train == 0]\n",
    "features_ones = f_train[t_train == 1]\n",
    "target_zeros = t_train[t_train == 0]\n",
    "target_ones = t_train[t_train == 1]\n",
    "\n",
    "repeat = 4\n",
    "features_upsampled = pd.concat([features_zeros] + [features_ones] * repeat)\n",
    "target_upsampled = pd.concat([target_zeros] + [target_ones] * repeat)\n",
    "\n",
    "features_upsampled, target_upsampled = shuffle(\n",
    "        features_upsampled, target_upsampled, random_state=12345)\n",
    "\n",
    "print(features_upsampled.shape)\n",
    "print(target_upsampled.shape)"
   ],
   "execution_count":42,
   "outputs":[
    {
     "name":"stdout",
     "text":[
      "(9666, 10)\n",
      "(9666,)\n"
     ],
     "output_type":"stream"
    }
   ],
   "metadata":{
    "datalore":{
     "type":"CODE",
     "hide_input_from_viewers":false,
     "hide_output_from_viewers":false
    }
   }
  },
  {
   "cell_type":"code",
   "source":[
    "target_upsampled.value_counts()"
   ],
   "execution_count":43,
   "outputs":[
    {
     "data":{
      "text\/html":[
       
      ]
     },
     "metadata":{
      
     },
     "output_type":"display_data"
    }
   ],
   "metadata":{
    "datalore":{
     "type":"CODE",
     "hide_input_from_viewers":false,
     "hide_output_from_viewers":false
    }
   }
  },
  {
   "cell_type":"markdown",
   "source":[
    "## Подбор гиперпараметров"
   ],
   "attachments":{
    
   },
   "metadata":{
    "datalore":{
     "type":"MD",
     "hide_input_from_viewers":false,
     "hide_output_from_viewers":false
    }
   }
  },
  {
   "cell_type":"code",
   "source":[
    "best_pipe = None\n",
    "best_result = 0\n",
    "best_est = 0\n",
    "best_depth = 0\n",
    "\n",
    "for est in range(10, 100, 10):\n",
    "    for depth in range (1, 50):\n",
    "        pipe = Pipeline([('preprocessor', preprocessor),\n",
    "                         ('model', RandomForestClassifier(random_state=12345, \n",
    "                                                          n_estimators=est, max_depth=depth))])\n",
    "        pipe.fit(features_upsampled, target_upsampled)\n",
    "        vaild_pred = pipe.predict(f_valid)\n",
    "        result = f1_score(t_valid, vaild_pred)\n",
    "        if result > best_result:\n",
    "            best_pipe = pipe\n",
    "            best_result = result\n",
    "            best_est = est\n",
    "            best_depth = depth\n",
    "\n",
    "print(\"f1 score наилучшей модели на валидационной выборке:\", best_result,\\\n",
    "      \"Количество деревьев:\", best_est, \"Максимальная глубина:\", depth)"
   ],
   "execution_count":44,
   "outputs":[
    {
     "name":"stdout",
     "text":[
      "f1 score наилучшей модели на валидационной выборке: 0.6116611661166117 Количество деревьев: 30 Максимальная глубина: 49\n"
     ],
     "output_type":"stream"
    }
   ],
   "metadata":{
    "datalore":{
     "type":"CODE",
     "hide_input_from_viewers":false,
     "hide_output_from_viewers":false
    }
   }
  },
  {
   "cell_type":"code",
   "source":[
    "train_pred_final = best_pipe.predict(features_upsampled)\n",
    "print('f1 score на тестовой выборке: ', f1_score(target_upsampled, train_pred_final))\n",
    "\n",
    "valid_pred_final = best_pipe.predict(f_valid)\n",
    "print('f1 score на валидационной выборке: ', f1_score(t_valid, valid_pred_final))"
   ],
   "execution_count":45,
   "outputs":[
    {
     "name":"stdout",
     "text":[
      "f1 score на тестовой выборке:  0.9080992075743543\n",
      "f1 score на валидационной выборке:  0.6116611661166117\n"
     ],
     "output_type":"stream"
    }
   ],
   "metadata":{
    "datalore":{
     "type":"CODE",
     "hide_input_from_viewers":false,
     "hide_output_from_viewers":false
    }
   }
  },
  {
   "cell_type":"code",
   "source":[
    "cm = confusion_matrix(t_valid, valid_pred_final)\n",
    "\n",
    "df_cm = pd.DataFrame(cm\/cm.sum(axis=1)[:, np.newaxis].round(2), columns=[0,1], index = [0,1])\n",
    "df_cm.index.name = 'Actual'\n",
    "df_cm.columns.name = 'Predicted'\n",
    "print(cm)\n",
    "sns.heatmap(df_cm, annot=True, fmt='.2%', cmap='Blues');"
   ],
   "execution_count":46,
   "outputs":[
    {
     "name":"stdout",
     "text":[
      "[[1369  224]\n",
      " [ 129  278]]\n"
     ],
     "output_type":"stream"
    },
    {
     "data":{
      "image\/png":"[encoded data removed]"
     },
     "metadata":{
      "image\/png":{
       
      }
     },
     "output_type":"display_data"
    }
   ],
   "metadata":{
    "datalore":{
     "type":"CODE",
     "hide_input_from_viewers":false,
     "hide_output_from_viewers":false
    }
   }
  },
  {
   "cell_type":"code",
   "source":[
    "print(classification_report(t_valid, valid_pred_final))"
   ],
   "execution_count":47,
   "outputs":[
    {
     "name":"stdout",
     "text":[
      "              precision    recall  f1-score   support\n",
      "\n",
      "           0       0.91      0.86      0.89      1593\n",
      "           1       0.55      0.68      0.61       407\n",
      "\n",
      "    accuracy                           0.82      2000\n",
      "   macro avg       0.73      0.77      0.75      2000\n",
      "weighted avg       0.84      0.82      0.83      2000\n",
      "\n"
     ],
     "output_type":"stream"
    }
   ],
   "metadata":{
    "datalore":{
     "type":"CODE",
     "hide_input_from_viewers":false,
     "hide_output_from_viewers":false
    }
   }
  },
  {
   "cell_type":"markdown",
   "source":[
    "Давайте проверим модель на тестовых данных.  "
   ],
   "attachments":{
    
   },
   "metadata":{
    "datalore":{
     "type":"MD",
     "hide_input_from_viewers":false,
     "hide_output_from_viewers":false
    }
   }
  },
  {
   "cell_type":"markdown",
   "source":[
    "## Тестирование модели"
   ],
   "attachments":{
    
   },
   "metadata":{
    "datalore":{
     "type":"MD",
     "hide_input_from_viewers":false,
     "hide_output_from_viewers":false
    }
   }
  },
  {
   "cell_type":"code",
   "source":[
    "test_pred_final = best_pipe.predict(f_test)\n",
    "print('F1 score: ', f1_score(t_test, test_pred_final))"
   ],
   "execution_count":48,
   "outputs":[
    {
     "name":"stdout",
     "text":[
      "F1 score:  0.6429341963322546\n"
     ],
     "output_type":"stream"
    }
   ],
   "metadata":{
    "datalore":{
     "type":"CODE",
     "hide_input_from_viewers":false,
     "hide_output_from_viewers":false
    }
   }
  },
  {
   "cell_type":"code",
   "source":[
    "cm = confusion_matrix(t_test, test_pred_final)\n",
    "\n",
    "df_cm = pd.DataFrame(cm\/cm.sum(axis=1)[:, np.newaxis].round(2), columns=[0,1], index = [0,1])\n",
    "df_cm.index.name = 'Actual'\n",
    "df_cm.columns.name = 'Predicted'\n",
    "print(cm)\n",
    "sns.heatmap(df_cm, annot=True, fmt='.2%', cmap='Blues');"
   ],
   "execution_count":49,
   "outputs":[
    {
     "name":"stdout",
     "text":[
      "[[1371  221]\n",
      " [ 110  298]]\n"
     ],
     "output_type":"stream"
    },
    {
     "data":{
      "image\/png":"[encoded data removed]"
     },
     "metadata":{
      "image\/png":{
       
      }
     },
     "output_type":"display_data"
    }
   ],
   "metadata":{
    "datalore":{
     "type":"CODE",
     "hide_input_from_viewers":false,
     "hide_output_from_viewers":false
    }
   }
  },
  {
   "cell_type":"markdown",
   "source":[
    "## Общий вывод: \n",
    "\n",
    "Нам удалось создать модель, которая показывает F1-меру 0.61 на валидационной выборке и 0.64 на тестовой. Для этого мы использовали модель случайный лес с гиперпараметрами: количество деревьев - 30, максимальная глубина - 49.   \n",
    "\n",
    "Помимо этого, во время исследовательского анализа данных была выявлена положительная корреляция между оттоком клиентов и возрастом пользователей - можно более подробно исследовать этот показатель и найти решения, которые позволят более эффективно работать и сохранять клиентов старшего возраста.   \n",
    "\n",
    "Также, вовремя анализа мы столкнулись с пропущенными значениями в параметре Tenure, возможно, это техническая ошибка, но этот момент стоит уточнить. "
   ],
   "attachments":{
    
   },
   "metadata":{
    "datalore":{
     "type":"MD",
     "hide_input_from_viewers":false,
     "hide_output_from_viewers":false
    }
   }
  },
  {
   "cell_type":"code",
   "source":[
    
   ],
   "execution_count":49,
   "outputs":[
    
   ],
   "metadata":{
    "datalore":{
     "type":"CODE",
     "hide_input_from_viewers":false,
     "hide_output_from_viewers":false
    }
   }
  }
 ],
 "metadata":{
  "datalore":{
   "version":1,
   "computation_mode":"JUPYTER",
   "packages":[
    
   ]
  }
 },
 "nbformat":4,
 "nbformat_minor":4
}