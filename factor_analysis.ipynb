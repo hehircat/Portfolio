{
  "nbformat": 4,
  "nbformat_minor": 0,
  "metadata": {
    "kernelspec": {
      "display_name": "Python [conda env:py36]",
      "language": "python",
      "name": "conda-env-py36-py"
    },
    "language_info": {
      "codemirror_mode": {
        "name": "ipython",
        "version": 3
      },
      "file_extension": ".py",
      "mimetype": "text/x-python",
      "name": "python",
      "nbconvert_exporter": "python",
      "pygments_lexer": "ipython3",
      "version": "3.6.10"
    },
    "colab": {
      "name": "factor analysis.ipynb",
      "provenance": [],
      "collapsed_sections": []
    }
  },
  "cells": [
    {
      "cell_type": "markdown",
      "metadata": {
        "Collapsed": "false",
        "id": "8WzfaS6tpq2F"
      },
      "source": [
        "## Задание: Факторный анализ\n",
        "### Анализ удовлетворенности путешественников\n",
        "\n",
        "С помощью метода главных компонент проанализируйте данные и постарайтесь ответить на вопрос соревнования,\n",
        "что влияет на удовлетворенность путешественников.\n",
        "Данные взяты отсюда\n",
        "https://www.kaggle.com/teejmahal20/airline-passenger-satisfaction/tasks\n",
        "\n",
        "Данные представляют собой результаты анкетирования более 100 тысяч путешественников на предмет их удовлетворенностью полетом. Помимо параметров описывающих условия полета, еще есть информация об уровне удовлетворенности (satisfaction). Ваша задача выделить группу переменных, которые иммет смысл оъединить в факторы. Дать какое-то содержательное название этим факторам (например комфорт на борту или другие). Полностью провести факторный анализ, сделать выводы.  затем построить регрессионную модель для оценки удовлетворенности путешественников с использованием новых факторов и протестировать ее на внешней выборке (тестовых данных)"
      ]
    },
    {
      "cell_type": "code",
      "metadata": {
        "id": "BDdU5_Trpu2R"
      },
      "source": [
        "#!pip install pingouin\n",
        "#!pip install factor-analyzer"
      ],
      "execution_count": null,
      "outputs": []
    },
    {
      "cell_type": "code",
      "metadata": {
        "Collapsed": "false",
        "id": "Raq0FAhYpq2F"
      },
      "source": [
        "import pandas as pd\n",
        "import numpy as np\n",
        "import matplotlib.pyplot as plt\n",
        "import pingouin as pg\n",
        "import seaborn as sns\n",
        "from statsmodels.formula.api import ols, glm, logit\n",
        "#если нет этой библиотеки то pip install factor-analyzer или локально через конду conda install -c desilinguist factor_analyzer\n",
        "from factor_analyzer import FactorAnalyzer\n",
        "from factor_analyzer import calculate_bartlett_sphericity, calculate_kmo\n",
        "from statsmodels.stats.outliers_influence import variance_inflation_factor\n",
        "np.set_printoptions(suppress=True)\n",
        "%matplotlib inline"
      ],
      "execution_count": null,
      "outputs": []
    },
    {
      "cell_type": "code",
      "metadata": {
        "Collapsed": "false",
        "id": "ZWAJK_-apq2F"
      },
      "source": [
        "#path = '/Users/irinaknyazeva/Projects/Edu/MachineLearning/ML2020/assignments/datasets/'\n",
        "#train_airline = pd.read_csv(path+'airline_train.csv.zip', index_col = 0)\n",
        "link_train = 'https://github.com/iknyazeva/ML2020/raw/master/assignments/datasets/airline_train.csv.zip'\n",
        "link_test = 'https://github.com/iknyazeva/ML2020/raw/master/assignments/datasets/airline_test.csv.zip'\n",
        "train_airline = pd.read_csv(link_train, index_col = 0)\n"
      ],
      "execution_count": null,
      "outputs": []
    },
    {
      "cell_type": "code",
      "metadata": {
        "Collapsed": "false",
        "id": "V4nsQjV2pq2F",
        "colab": {
          "base_uri": "https://localhost:8080/",
          "height": 360
        },
        "outputId": "4e9ed876-6c6e-4f9d-89f9-7e3a08e6c077"
      },
      "source": [
        "train_airline.head()"
      ],
      "execution_count": null,
      "outputs": [
        {
          "output_type": "execute_result",
          "data": {
            "text/html": [
              "<div>\n",
              "<style scoped>\n",
              "    .dataframe tbody tr th:only-of-type {\n",
              "        vertical-align: middle;\n",
              "    }\n",
              "\n",
              "    .dataframe tbody tr th {\n",
              "        vertical-align: top;\n",
              "    }\n",
              "\n",
              "    .dataframe thead th {\n",
              "        text-align: right;\n",
              "    }\n",
              "</style>\n",
              "<table border=\"1\" class=\"dataframe\">\n",
              "  <thead>\n",
              "    <tr style=\"text-align: right;\">\n",
              "      <th></th>\n",
              "      <th>id</th>\n",
              "      <th>Gender</th>\n",
              "      <th>Customer Type</th>\n",
              "      <th>Age</th>\n",
              "      <th>Type of Travel</th>\n",
              "      <th>Class</th>\n",
              "      <th>Flight Distance</th>\n",
              "      <th>Inflight wifi service</th>\n",
              "      <th>Departure/Arrival time convenient</th>\n",
              "      <th>Ease of Online booking</th>\n",
              "      <th>Gate location</th>\n",
              "      <th>Food and drink</th>\n",
              "      <th>Online boarding</th>\n",
              "      <th>Seat comfort</th>\n",
              "      <th>Inflight entertainment</th>\n",
              "      <th>On-board service</th>\n",
              "      <th>Leg room service</th>\n",
              "      <th>Baggage handling</th>\n",
              "      <th>Checkin service</th>\n",
              "      <th>Inflight service</th>\n",
              "      <th>Cleanliness</th>\n",
              "      <th>Departure Delay in Minutes</th>\n",
              "      <th>Arrival Delay in Minutes</th>\n",
              "      <th>satisfaction</th>\n",
              "    </tr>\n",
              "  </thead>\n",
              "  <tbody>\n",
              "    <tr>\n",
              "      <th>0</th>\n",
              "      <td>70172</td>\n",
              "      <td>Male</td>\n",
              "      <td>Loyal Customer</td>\n",
              "      <td>13</td>\n",
              "      <td>Personal Travel</td>\n",
              "      <td>Eco Plus</td>\n",
              "      <td>460</td>\n",
              "      <td>3</td>\n",
              "      <td>4</td>\n",
              "      <td>3</td>\n",
              "      <td>1</td>\n",
              "      <td>5</td>\n",
              "      <td>3</td>\n",
              "      <td>5</td>\n",
              "      <td>5</td>\n",
              "      <td>4</td>\n",
              "      <td>3</td>\n",
              "      <td>4</td>\n",
              "      <td>4</td>\n",
              "      <td>5</td>\n",
              "      <td>5</td>\n",
              "      <td>25</td>\n",
              "      <td>18.0</td>\n",
              "      <td>neutral or dissatisfied</td>\n",
              "    </tr>\n",
              "    <tr>\n",
              "      <th>1</th>\n",
              "      <td>5047</td>\n",
              "      <td>Male</td>\n",
              "      <td>disloyal Customer</td>\n",
              "      <td>25</td>\n",
              "      <td>Business travel</td>\n",
              "      <td>Business</td>\n",
              "      <td>235</td>\n",
              "      <td>3</td>\n",
              "      <td>2</td>\n",
              "      <td>3</td>\n",
              "      <td>3</td>\n",
              "      <td>1</td>\n",
              "      <td>3</td>\n",
              "      <td>1</td>\n",
              "      <td>1</td>\n",
              "      <td>1</td>\n",
              "      <td>5</td>\n",
              "      <td>3</td>\n",
              "      <td>1</td>\n",
              "      <td>4</td>\n",
              "      <td>1</td>\n",
              "      <td>1</td>\n",
              "      <td>6.0</td>\n",
              "      <td>neutral or dissatisfied</td>\n",
              "    </tr>\n",
              "    <tr>\n",
              "      <th>2</th>\n",
              "      <td>110028</td>\n",
              "      <td>Female</td>\n",
              "      <td>Loyal Customer</td>\n",
              "      <td>26</td>\n",
              "      <td>Business travel</td>\n",
              "      <td>Business</td>\n",
              "      <td>1142</td>\n",
              "      <td>2</td>\n",
              "      <td>2</td>\n",
              "      <td>2</td>\n",
              "      <td>2</td>\n",
              "      <td>5</td>\n",
              "      <td>5</td>\n",
              "      <td>5</td>\n",
              "      <td>5</td>\n",
              "      <td>4</td>\n",
              "      <td>3</td>\n",
              "      <td>4</td>\n",
              "      <td>4</td>\n",
              "      <td>4</td>\n",
              "      <td>5</td>\n",
              "      <td>0</td>\n",
              "      <td>0.0</td>\n",
              "      <td>satisfied</td>\n",
              "    </tr>\n",
              "    <tr>\n",
              "      <th>3</th>\n",
              "      <td>24026</td>\n",
              "      <td>Female</td>\n",
              "      <td>Loyal Customer</td>\n",
              "      <td>25</td>\n",
              "      <td>Business travel</td>\n",
              "      <td>Business</td>\n",
              "      <td>562</td>\n",
              "      <td>2</td>\n",
              "      <td>5</td>\n",
              "      <td>5</td>\n",
              "      <td>5</td>\n",
              "      <td>2</td>\n",
              "      <td>2</td>\n",
              "      <td>2</td>\n",
              "      <td>2</td>\n",
              "      <td>2</td>\n",
              "      <td>5</td>\n",
              "      <td>3</td>\n",
              "      <td>1</td>\n",
              "      <td>4</td>\n",
              "      <td>2</td>\n",
              "      <td>11</td>\n",
              "      <td>9.0</td>\n",
              "      <td>neutral or dissatisfied</td>\n",
              "    </tr>\n",
              "    <tr>\n",
              "      <th>4</th>\n",
              "      <td>119299</td>\n",
              "      <td>Male</td>\n",
              "      <td>Loyal Customer</td>\n",
              "      <td>61</td>\n",
              "      <td>Business travel</td>\n",
              "      <td>Business</td>\n",
              "      <td>214</td>\n",
              "      <td>3</td>\n",
              "      <td>3</td>\n",
              "      <td>3</td>\n",
              "      <td>3</td>\n",
              "      <td>4</td>\n",
              "      <td>5</td>\n",
              "      <td>5</td>\n",
              "      <td>3</td>\n",
              "      <td>3</td>\n",
              "      <td>4</td>\n",
              "      <td>4</td>\n",
              "      <td>3</td>\n",
              "      <td>3</td>\n",
              "      <td>3</td>\n",
              "      <td>0</td>\n",
              "      <td>0.0</td>\n",
              "      <td>satisfied</td>\n",
              "    </tr>\n",
              "  </tbody>\n",
              "</table>\n",
              "</div>"
            ],
            "text/plain": [
              "       id  Gender  ... Arrival Delay in Minutes             satisfaction\n",
              "0   70172    Male  ...                     18.0  neutral or dissatisfied\n",
              "1    5047    Male  ...                      6.0  neutral or dissatisfied\n",
              "2  110028  Female  ...                      0.0                satisfied\n",
              "3   24026  Female  ...                      9.0  neutral or dissatisfied\n",
              "4  119299    Male  ...                      0.0                satisfied\n",
              "\n",
              "[5 rows x 24 columns]"
            ]
          },
          "metadata": {
            "tags": []
          },
          "execution_count": 6
        }
      ]
    },
    {
      "cell_type": "code",
      "metadata": {
        "Collapsed": "false",
        "id": "bHmH36Kxpq2G",
        "outputId": "0348f687-5156-4d68-c22a-8b6db03a3aac"
      },
      "source": [
        "train_airline.shape"
      ],
      "execution_count": null,
      "outputs": [
        {
          "output_type": "execute_result",
          "data": {
            "text/plain": [
              "(103904, 24)"
            ]
          },
          "metadata": {
            "tags": []
          },
          "execution_count": 7
        }
      ]
    },
    {
      "cell_type": "code",
      "metadata": {
        "Collapsed": "false",
        "id": "4YnDw6Mnpq2G",
        "outputId": "2017a438-8b35-4750-8ef8-79aa6abc3b2c"
      },
      "source": [
        "train_airline.satisfaction.value_counts()"
      ],
      "execution_count": null,
      "outputs": [
        {
          "output_type": "execute_result",
          "data": {
            "text/plain": [
              "neutral or dissatisfied    58879\n",
              "satisfied                  45025\n",
              "Name: satisfaction, dtype: int64"
            ]
          },
          "metadata": {
            "tags": []
          },
          "execution_count": 9
        }
      ]
    },
    {
      "cell_type": "code",
      "metadata": {
        "id": "4iJv5zGdfq-B"
      },
      "source": [
        "train_airline['Class'] = pd.Categorical(train_airline['Class']).codes\n",
        "train_airline['Customer Type'] = pd.Categorical(train_airline['Customer Type']).codes\n",
        "train_airline['Gender'] = pd.Categorical(train_airline['Gender']).codes\n",
        "train_airline['Type of Travel'] = pd.Categorical(train_airline['Type of Travel']).codes\n",
        "train_airline['satisfaction'] = pd.Categorical(train_airline['satisfaction']).codes"
      ],
      "execution_count": null,
      "outputs": []
    },
    {
      "cell_type": "code",
      "metadata": {
        "id": "YWHs7ri7gux6"
      },
      "source": [
        "train_airline.drop(['Trave', 'Type of Trave'], axis='columns', inplace=True)"
      ],
      "execution_count": null,
      "outputs": []
    },
    {
      "cell_type": "code",
      "metadata": {
        "colab": {
          "base_uri": "https://localhost:8080/",
          "height": 275
        },
        "id": "qE5M-9HHgyXC",
        "outputId": "d9320e89-7ffe-4d15-d52b-71b506ca4534"
      },
      "source": [
        "train_airline.head()\n"
      ],
      "execution_count": null,
      "outputs": [
        {
          "output_type": "execute_result",
          "data": {
            "text/html": [
              "<div>\n",
              "<style scoped>\n",
              "    .dataframe tbody tr th:only-of-type {\n",
              "        vertical-align: middle;\n",
              "    }\n",
              "\n",
              "    .dataframe tbody tr th {\n",
              "        vertical-align: top;\n",
              "    }\n",
              "\n",
              "    .dataframe thead th {\n",
              "        text-align: right;\n",
              "    }\n",
              "</style>\n",
              "<table border=\"1\" class=\"dataframe\">\n",
              "  <thead>\n",
              "    <tr style=\"text-align: right;\">\n",
              "      <th></th>\n",
              "      <th>id</th>\n",
              "      <th>Gender</th>\n",
              "      <th>Customer Type</th>\n",
              "      <th>Age</th>\n",
              "      <th>Type of Travel</th>\n",
              "      <th>Class</th>\n",
              "      <th>Flight Distance</th>\n",
              "      <th>Inflight wifi service</th>\n",
              "      <th>Departure/Arrival time convenient</th>\n",
              "      <th>Ease of Online booking</th>\n",
              "      <th>Gate location</th>\n",
              "      <th>Food and drink</th>\n",
              "      <th>Online boarding</th>\n",
              "      <th>Seat comfort</th>\n",
              "      <th>Inflight entertainment</th>\n",
              "      <th>On-board service</th>\n",
              "      <th>Leg room service</th>\n",
              "      <th>Baggage handling</th>\n",
              "      <th>Checkin service</th>\n",
              "      <th>Inflight service</th>\n",
              "      <th>Cleanliness</th>\n",
              "      <th>Departure Delay in Minutes</th>\n",
              "      <th>Arrival Delay in Minutes</th>\n",
              "      <th>satisfaction</th>\n",
              "    </tr>\n",
              "  </thead>\n",
              "  <tbody>\n",
              "    <tr>\n",
              "      <th>0</th>\n",
              "      <td>70172</td>\n",
              "      <td>1</td>\n",
              "      <td>0</td>\n",
              "      <td>13</td>\n",
              "      <td>1</td>\n",
              "      <td>2</td>\n",
              "      <td>460</td>\n",
              "      <td>3</td>\n",
              "      <td>4</td>\n",
              "      <td>3</td>\n",
              "      <td>1</td>\n",
              "      <td>5</td>\n",
              "      <td>3</td>\n",
              "      <td>5</td>\n",
              "      <td>5</td>\n",
              "      <td>4</td>\n",
              "      <td>3</td>\n",
              "      <td>4</td>\n",
              "      <td>4</td>\n",
              "      <td>5</td>\n",
              "      <td>5</td>\n",
              "      <td>25</td>\n",
              "      <td>18.0</td>\n",
              "      <td>0</td>\n",
              "    </tr>\n",
              "    <tr>\n",
              "      <th>1</th>\n",
              "      <td>5047</td>\n",
              "      <td>1</td>\n",
              "      <td>1</td>\n",
              "      <td>25</td>\n",
              "      <td>0</td>\n",
              "      <td>0</td>\n",
              "      <td>235</td>\n",
              "      <td>3</td>\n",
              "      <td>2</td>\n",
              "      <td>3</td>\n",
              "      <td>3</td>\n",
              "      <td>1</td>\n",
              "      <td>3</td>\n",
              "      <td>1</td>\n",
              "      <td>1</td>\n",
              "      <td>1</td>\n",
              "      <td>5</td>\n",
              "      <td>3</td>\n",
              "      <td>1</td>\n",
              "      <td>4</td>\n",
              "      <td>1</td>\n",
              "      <td>1</td>\n",
              "      <td>6.0</td>\n",
              "      <td>0</td>\n",
              "    </tr>\n",
              "    <tr>\n",
              "      <th>2</th>\n",
              "      <td>110028</td>\n",
              "      <td>0</td>\n",
              "      <td>0</td>\n",
              "      <td>26</td>\n",
              "      <td>0</td>\n",
              "      <td>0</td>\n",
              "      <td>1142</td>\n",
              "      <td>2</td>\n",
              "      <td>2</td>\n",
              "      <td>2</td>\n",
              "      <td>2</td>\n",
              "      <td>5</td>\n",
              "      <td>5</td>\n",
              "      <td>5</td>\n",
              "      <td>5</td>\n",
              "      <td>4</td>\n",
              "      <td>3</td>\n",
              "      <td>4</td>\n",
              "      <td>4</td>\n",
              "      <td>4</td>\n",
              "      <td>5</td>\n",
              "      <td>0</td>\n",
              "      <td>0.0</td>\n",
              "      <td>1</td>\n",
              "    </tr>\n",
              "    <tr>\n",
              "      <th>3</th>\n",
              "      <td>24026</td>\n",
              "      <td>0</td>\n",
              "      <td>0</td>\n",
              "      <td>25</td>\n",
              "      <td>0</td>\n",
              "      <td>0</td>\n",
              "      <td>562</td>\n",
              "      <td>2</td>\n",
              "      <td>5</td>\n",
              "      <td>5</td>\n",
              "      <td>5</td>\n",
              "      <td>2</td>\n",
              "      <td>2</td>\n",
              "      <td>2</td>\n",
              "      <td>2</td>\n",
              "      <td>2</td>\n",
              "      <td>5</td>\n",
              "      <td>3</td>\n",
              "      <td>1</td>\n",
              "      <td>4</td>\n",
              "      <td>2</td>\n",
              "      <td>11</td>\n",
              "      <td>9.0</td>\n",
              "      <td>0</td>\n",
              "    </tr>\n",
              "    <tr>\n",
              "      <th>4</th>\n",
              "      <td>119299</td>\n",
              "      <td>1</td>\n",
              "      <td>0</td>\n",
              "      <td>61</td>\n",
              "      <td>0</td>\n",
              "      <td>0</td>\n",
              "      <td>214</td>\n",
              "      <td>3</td>\n",
              "      <td>3</td>\n",
              "      <td>3</td>\n",
              "      <td>3</td>\n",
              "      <td>4</td>\n",
              "      <td>5</td>\n",
              "      <td>5</td>\n",
              "      <td>3</td>\n",
              "      <td>3</td>\n",
              "      <td>4</td>\n",
              "      <td>4</td>\n",
              "      <td>3</td>\n",
              "      <td>3</td>\n",
              "      <td>3</td>\n",
              "      <td>0</td>\n",
              "      <td>0.0</td>\n",
              "      <td>1</td>\n",
              "    </tr>\n",
              "  </tbody>\n",
              "</table>\n",
              "</div>"
            ],
            "text/plain": [
              "       id  Gender  ...  Arrival Delay in Minutes  satisfaction\n",
              "0   70172       1  ...                      18.0             0\n",
              "1    5047       1  ...                       6.0             0\n",
              "2  110028       0  ...                       0.0             1\n",
              "3   24026       0  ...                       9.0             0\n",
              "4  119299       1  ...                       0.0             1\n",
              "\n",
              "[5 rows x 24 columns]"
            ]
          },
          "metadata": {
            "tags": []
          },
          "execution_count": 35
        }
      ]
    },
    {
      "cell_type": "markdown",
      "metadata": {
        "Collapsed": "false",
        "id": "J8Eke7Vwpq2G"
      },
      "source": [
        "## Визуальный и описательный анализ\n",
        "Посчитайте статистики по данным которые посчитаете интересными. Визуализируйте корреляционную матрицу признаков, опишите ваши наблюдения."
      ]
    },
    {
      "cell_type": "code",
      "metadata": {
        "colab": {
          "base_uri": "https://localhost:8080/"
        },
        "id": "mq8wgf_7YYmr",
        "outputId": "02f34364-80ad-4452-8360-0a586b9d8c44"
      },
      "source": [
        "print(train_airline.Gender.value_counts())"
      ],
      "execution_count": null,
      "outputs": [
        {
          "output_type": "stream",
          "text": [
            "Female    52727\n",
            "Male      51177\n",
            "Name: Gender, dtype: int64\n"
          ],
          "name": "stdout"
        }
      ]
    },
    {
      "cell_type": "code",
      "metadata": {
        "colab": {
          "base_uri": "https://localhost:8080/",
          "height": 265
        },
        "id": "x16igFf5ZPE7",
        "outputId": "1a1780f7-f3d4-4265-c59c-c62a4c57c690"
      },
      "source": [
        "plt.hist(train_airline['Age'])\n",
        "plt.show()"
      ],
      "execution_count": null,
      "outputs": [
        {
          "output_type": "display_data",
          "data": {
            "image/png": "[encoded data removed]",
            "text/plain": [
              "<Figure size 432x288 with 1 Axes>"
            ]
          },
          "metadata": {
            "tags": [],
            "needs_background": "light"
          }
        }
      ]
    },
    {
      "cell_type": "code",
      "metadata": {
        "colab": {
          "base_uri": "https://localhost:8080/",
          "height": 265
        },
        "id": "mBx4nzkDY40A",
        "outputId": "9e534458-9088-492f-947b-7fcb481c5b58"
      },
      "source": [
        "plt.hist(train_airline['Type of Travel'])\n",
        "plt.show()"
      ],
      "execution_count": null,
      "outputs": [
        {
          "output_type": "display_data",
          "data": {
            "image/png": "[encoded data removed]",
            "text/plain": [
              "<Figure size 432x288 with 1 Axes>"
            ]
          },
          "metadata": {
            "tags": [],
            "needs_background": "light"
          }
        }
      ]
    },
    {
      "cell_type": "code",
      "metadata": {
        "colab": {
          "base_uri": "https://localhost:8080/",
          "height": 442
        },
        "id": "iwFpqP9KZ7Zc",
        "outputId": "084f757b-431c-4532-d8d9-f4dcef0561db"
      },
      "source": [
        "c= train_airline.corr()\n",
        "sns.heatmap(np.abs(c), vmin=0, vmax=0.6); plt.title('Correlation plot between Questions');"
      ],
      "execution_count": null,
      "outputs": [
        {
          "output_type": "display_data",
          "data": {
            "image/png": "[encoded data removed]",
            "text/plain": [
              "<Figure size 432x288 with 2 Axes>"
            ]
          },
          "metadata": {
            "tags": [],
            "needs_background": "light"
          }
        }
      ]
    },
    {
      "cell_type": "markdown",
      "metadata": {
        "id": "wweqbuofaiec"
      },
      "source": [
        "Как мы можем заметить, есть несколько вопросов, которые в основном не коррелируют с другими, их не так уж много, например, задержка отправления и прилета. При этом мы можем заметить несколько зон в центре, которые демонстрируют, что есть переменные сильно коррелирующие с другими, например, чистота, которая сильно коррелирует с развлечениями на борту, едой и комфортом. Это показывает нам потенциальную возможность создания факторов. \n",
        "\n",
        "Давайте расчитаем VIF для наших переменных, чтобы убедиться, что мы не можем использовать их в линейной модели по отдельности из-за мультиколлинеарности"
      ]
    },
    {
      "cell_type": "markdown",
      "metadata": {
        "Collapsed": "false",
        "id": "uWMRFJyHpq2G"
      },
      "source": [
        "## Факторный анализ"
      ]
    },
    {
      "cell_type": "code",
      "metadata": {
        "id": "mw8tpMq0hQoM"
      },
      "source": [
        "numcol = ['Inflight wifi service', 'Food and drink', 'Ease of Online booking', 'Departure/Arrival time convenient', 'Gate location', 'Seat comfort',\t'Inflight entertainment',\t'On-board service',\t'Leg room service',\t'Baggage handling',\t'Checkin service',\t'Inflight service',\t'Cleanliness', 'Class', 'Customer Type', 'Gender', 'Type of Travel', 'Flight Distance', 'Online boarding', 'satisfaction']\n",
        "df = train_airline[numcol]"
      ],
      "execution_count": null,
      "outputs": []
    },
    {
      "cell_type": "code",
      "metadata": {
        "colab": {
          "base_uri": "https://localhost:8080/",
          "height": 669
        },
        "id": "NZwCdxRGfJUf",
        "outputId": "7d9861e4-bb06-4ede-c746-513392c55d2d"
      },
      "source": [
        "vif = pd.DataFrame()\n",
        "vif[\"variables\"] = df.columns\n",
        "vif[\"VIF\"] = [variance_inflation_factor(df.values, i) for i in range(df.shape[1])]\n",
        "vif"
      ],
      "execution_count": null,
      "outputs": [
        {
          "output_type": "execute_result",
          "data": {
            "text/html": [
              "<div>\n",
              "<style scoped>\n",
              "    .dataframe tbody tr th:only-of-type {\n",
              "        vertical-align: middle;\n",
              "    }\n",
              "\n",
              "    .dataframe tbody tr th {\n",
              "        vertical-align: top;\n",
              "    }\n",
              "\n",
              "    .dataframe thead th {\n",
              "        text-align: right;\n",
              "    }\n",
              "</style>\n",
              "<table border=\"1\" class=\"dataframe\">\n",
              "  <thead>\n",
              "    <tr style=\"text-align: right;\">\n",
              "      <th></th>\n",
              "      <th>variables</th>\n",
              "      <th>VIF</th>\n",
              "    </tr>\n",
              "  </thead>\n",
              "  <tbody>\n",
              "    <tr>\n",
              "      <th>0</th>\n",
              "      <td>Inflight wifi service</td>\n",
              "      <td>13.104680</td>\n",
              "    </tr>\n",
              "    <tr>\n",
              "      <th>1</th>\n",
              "      <td>Food and drink</td>\n",
              "      <td>14.114831</td>\n",
              "    </tr>\n",
              "    <tr>\n",
              "      <th>2</th>\n",
              "      <td>Ease of Online booking</td>\n",
              "      <td>13.313317</td>\n",
              "    </tr>\n",
              "    <tr>\n",
              "      <th>3</th>\n",
              "      <td>Departure/Arrival time convenient</td>\n",
              "      <td>8.402541</td>\n",
              "    </tr>\n",
              "    <tr>\n",
              "      <th>4</th>\n",
              "      <td>Gate location</td>\n",
              "      <td>8.827829</td>\n",
              "    </tr>\n",
              "    <tr>\n",
              "      <th>5</th>\n",
              "      <td>Seat comfort</td>\n",
              "      <td>18.041382</td>\n",
              "    </tr>\n",
              "    <tr>\n",
              "      <th>6</th>\n",
              "      <td>Inflight entertainment</td>\n",
              "      <td>27.615626</td>\n",
              "    </tr>\n",
              "    <tr>\n",
              "      <th>7</th>\n",
              "      <td>On-board service</td>\n",
              "      <td>13.828373</td>\n",
              "    </tr>\n",
              "    <tr>\n",
              "      <th>8</th>\n",
              "      <td>Leg room service</td>\n",
              "      <td>9.443332</td>\n",
              "    </tr>\n",
              "    <tr>\n",
              "      <th>9</th>\n",
              "      <td>Baggage handling</td>\n",
              "      <td>19.332987</td>\n",
              "    </tr>\n",
              "    <tr>\n",
              "      <th>10</th>\n",
              "      <td>Checkin service</td>\n",
              "      <td>9.496224</td>\n",
              "    </tr>\n",
              "    <tr>\n",
              "      <th>11</th>\n",
              "      <td>Inflight service</td>\n",
              "      <td>21.154131</td>\n",
              "    </tr>\n",
              "    <tr>\n",
              "      <th>12</th>\n",
              "      <td>Cleanliness</td>\n",
              "      <td>20.761393</td>\n",
              "    </tr>\n",
              "    <tr>\n",
              "      <th>13</th>\n",
              "      <td>Class</td>\n",
              "      <td>2.843938</td>\n",
              "    </tr>\n",
              "    <tr>\n",
              "      <th>14</th>\n",
              "      <td>Customer Type</td>\n",
              "      <td>1.847775</td>\n",
              "    </tr>\n",
              "    <tr>\n",
              "      <th>15</th>\n",
              "      <td>Gender</td>\n",
              "      <td>1.946870</td>\n",
              "    </tr>\n",
              "    <tr>\n",
              "      <th>16</th>\n",
              "      <td>Type of Travel</td>\n",
              "      <td>3.087528</td>\n",
              "    </tr>\n",
              "    <tr>\n",
              "      <th>17</th>\n",
              "      <td>Flight Distance</td>\n",
              "      <td>3.021354</td>\n",
              "    </tr>\n",
              "    <tr>\n",
              "      <th>18</th>\n",
              "      <td>Online boarding</td>\n",
              "      <td>13.159325</td>\n",
              "    </tr>\n",
              "    <tr>\n",
              "      <th>19</th>\n",
              "      <td>satisfaction</td>\n",
              "      <td>3.850814</td>\n",
              "    </tr>\n",
              "  </tbody>\n",
              "</table>\n",
              "</div>"
            ],
            "text/plain": [
              "                            variables        VIF\n",
              "0               Inflight wifi service  13.104680\n",
              "1                      Food and drink  14.114831\n",
              "2              Ease of Online booking  13.313317\n",
              "3   Departure/Arrival time convenient   8.402541\n",
              "4                       Gate location   8.827829\n",
              "5                        Seat comfort  18.041382\n",
              "6              Inflight entertainment  27.615626\n",
              "7                    On-board service  13.828373\n",
              "8                    Leg room service   9.443332\n",
              "9                    Baggage handling  19.332987\n",
              "10                    Checkin service   9.496224\n",
              "11                   Inflight service  21.154131\n",
              "12                        Cleanliness  20.761393\n",
              "13                              Class   2.843938\n",
              "14                      Customer Type   1.847775\n",
              "15                             Gender   1.946870\n",
              "16                     Type of Travel   3.087528\n",
              "17                    Flight Distance   3.021354\n",
              "18                    Online boarding  13.159325\n",
              "19                       satisfaction   3.850814"
            ]
          },
          "metadata": {
            "tags": []
          },
          "execution_count": 56
        }
      ]
    },
    {
      "cell_type": "markdown",
      "metadata": {
        "id": "IXHjmeBTjj76"
      },
      "source": [
        "Из переменных, которые не зависят от других мы выделяем: Пол, Тип полета, Расстояние полета, Класс и Тип клиента. По показателям VIF остальные переменные показывают высокую мультиколлинеарность, значение выше или около 10. "
      ]
    },
    {
      "cell_type": "code",
      "metadata": {
        "colab": {
          "base_uri": "https://localhost:8080/"
        },
        "id": "C3wGMoKhC7A5",
        "outputId": "4d301095-9759-4c72-d8be-5121e70aac6d"
      },
      "source": [
        "calculate_bartlett_sphericity(df)"
      ],
      "execution_count": null,
      "outputs": [
        {
          "output_type": "execute_result",
          "data": {
            "text/plain": [
              "(812893.2722438675, 0.0)"
            ]
          },
          "metadata": {
            "tags": []
          },
          "execution_count": 57
        }
      ]
    },
    {
      "cell_type": "markdown",
      "metadata": {
        "id": "StevDovBDb-T"
      },
      "source": [
        "Так как p-val равнеется нуля отвергает нулевую гипотезу о том, что наши переменные независимы.\n",
        "\n",
        "Отибраем зависимые переменные в отдельный датафрейм"
      ]
    },
    {
      "cell_type": "code",
      "metadata": {
        "id": "lUFnB6d1FjD-"
      },
      "source": [
        "factor = ['Inflight wifi service', 'Food and drink', 'Ease of Online booking', 'Departure/Arrival time convenient', 'Gate location', 'Seat comfort',\t'Inflight entertainment',\t'On-board service',\t'Leg room service',\t'Baggage handling',\t'Checkin service',\t'Inflight service',\t'Cleanliness', 'Online boarding']"
      ],
      "execution_count": null,
      "outputs": []
    },
    {
      "cell_type": "code",
      "metadata": {
        "colab": {
          "base_uri": "https://localhost:8080/",
          "height": 238
        },
        "id": "hSxVR5GDF6zu",
        "outputId": "feb57c71-120e-45d2-c851-5ba1472c98aa"
      },
      "source": [
        "df_factors=df[factor]\n",
        "df_factors.head()"
      ],
      "execution_count": null,
      "outputs": [
        {
          "output_type": "execute_result",
          "data": {
            "text/html": [
              "<div>\n",
              "<style scoped>\n",
              "    .dataframe tbody tr th:only-of-type {\n",
              "        vertical-align: middle;\n",
              "    }\n",
              "\n",
              "    .dataframe tbody tr th {\n",
              "        vertical-align: top;\n",
              "    }\n",
              "\n",
              "    .dataframe thead th {\n",
              "        text-align: right;\n",
              "    }\n",
              "</style>\n",
              "<table border=\"1\" class=\"dataframe\">\n",
              "  <thead>\n",
              "    <tr style=\"text-align: right;\">\n",
              "      <th></th>\n",
              "      <th>Inflight wifi service</th>\n",
              "      <th>Food and drink</th>\n",
              "      <th>Ease of Online booking</th>\n",
              "      <th>Departure/Arrival time convenient</th>\n",
              "      <th>Gate location</th>\n",
              "      <th>Seat comfort</th>\n",
              "      <th>Inflight entertainment</th>\n",
              "      <th>On-board service</th>\n",
              "      <th>Leg room service</th>\n",
              "      <th>Baggage handling</th>\n",
              "      <th>Checkin service</th>\n",
              "      <th>Inflight service</th>\n",
              "      <th>Cleanliness</th>\n",
              "      <th>Online boarding</th>\n",
              "    </tr>\n",
              "  </thead>\n",
              "  <tbody>\n",
              "    <tr>\n",
              "      <th>0</th>\n",
              "      <td>3</td>\n",
              "      <td>5</td>\n",
              "      <td>3</td>\n",
              "      <td>4</td>\n",
              "      <td>1</td>\n",
              "      <td>5</td>\n",
              "      <td>5</td>\n",
              "      <td>4</td>\n",
              "      <td>3</td>\n",
              "      <td>4</td>\n",
              "      <td>4</td>\n",
              "      <td>5</td>\n",
              "      <td>5</td>\n",
              "      <td>3</td>\n",
              "    </tr>\n",
              "    <tr>\n",
              "      <th>1</th>\n",
              "      <td>3</td>\n",
              "      <td>1</td>\n",
              "      <td>3</td>\n",
              "      <td>2</td>\n",
              "      <td>3</td>\n",
              "      <td>1</td>\n",
              "      <td>1</td>\n",
              "      <td>1</td>\n",
              "      <td>5</td>\n",
              "      <td>3</td>\n",
              "      <td>1</td>\n",
              "      <td>4</td>\n",
              "      <td>1</td>\n",
              "      <td>3</td>\n",
              "    </tr>\n",
              "    <tr>\n",
              "      <th>2</th>\n",
              "      <td>2</td>\n",
              "      <td>5</td>\n",
              "      <td>2</td>\n",
              "      <td>2</td>\n",
              "      <td>2</td>\n",
              "      <td>5</td>\n",
              "      <td>5</td>\n",
              "      <td>4</td>\n",
              "      <td>3</td>\n",
              "      <td>4</td>\n",
              "      <td>4</td>\n",
              "      <td>4</td>\n",
              "      <td>5</td>\n",
              "      <td>5</td>\n",
              "    </tr>\n",
              "    <tr>\n",
              "      <th>3</th>\n",
              "      <td>2</td>\n",
              "      <td>2</td>\n",
              "      <td>5</td>\n",
              "      <td>5</td>\n",
              "      <td>5</td>\n",
              "      <td>2</td>\n",
              "      <td>2</td>\n",
              "      <td>2</td>\n",
              "      <td>5</td>\n",
              "      <td>3</td>\n",
              "      <td>1</td>\n",
              "      <td>4</td>\n",
              "      <td>2</td>\n",
              "      <td>2</td>\n",
              "    </tr>\n",
              "    <tr>\n",
              "      <th>4</th>\n",
              "      <td>3</td>\n",
              "      <td>4</td>\n",
              "      <td>3</td>\n",
              "      <td>3</td>\n",
              "      <td>3</td>\n",
              "      <td>5</td>\n",
              "      <td>3</td>\n",
              "      <td>3</td>\n",
              "      <td>4</td>\n",
              "      <td>4</td>\n",
              "      <td>3</td>\n",
              "      <td>3</td>\n",
              "      <td>3</td>\n",
              "      <td>5</td>\n",
              "    </tr>\n",
              "  </tbody>\n",
              "</table>\n",
              "</div>"
            ],
            "text/plain": [
              "   Inflight wifi service  Food and drink  ...  Cleanliness  Online boarding\n",
              "0                      3               5  ...            5                3\n",
              "1                      3               1  ...            1                3\n",
              "2                      2               5  ...            5                5\n",
              "3                      2               2  ...            2                2\n",
              "4                      3               4  ...            3                5\n",
              "\n",
              "[5 rows x 14 columns]"
            ]
          },
          "metadata": {
            "tags": []
          },
          "execution_count": 61
        }
      ]
    },
    {
      "cell_type": "code",
      "metadata": {
        "colab": {
          "base_uri": "https://localhost:8080/",
          "height": 298
        },
        "id": "2c34M6IZG3lm",
        "outputId": "d3057932-a4c5-4550-e5ea-318c692ab8e6"
      },
      "source": [
        "fa = FactorAnalyzer()\n",
        "fa.fit(df_factors)\n",
        "ev, v = fa.get_eigenvalues()\n",
        "plt.plot(range(1,df_factors.shape[1]+1),ev,'.-k'); plt.title('Singlular values plot')\n",
        "print('First 5 values of eiegenvalues', ev[:5])"
      ],
      "execution_count": null,
      "outputs": [
        {
          "output_type": "stream",
          "text": [
            "First 5 values of eiegenvalues [3.80011677 2.36198598 2.16589224 1.06327401 0.95093123]\n"
          ],
          "name": "stdout"
        },
        {
          "output_type": "display_data",
          "data": {
            "image/png": "[encoded data removed]",
            "text/plain": [
              "<Figure size 432x288 with 1 Axes>"
            ]
          },
          "metadata": {
            "tags": [],
            "needs_background": "light"
          }
        }
      ]
    },
    {
      "cell_type": "markdown",
      "metadata": {
        "id": "eXhGJbZtIlNI"
      },
      "source": [
        "\n",
        "По критерию Кайзера у нас выделяются 4 фактора, у которые значение собственного числа больше еденицы"
      ]
    },
    {
      "cell_type": "code",
      "metadata": {
        "colab": {
          "base_uri": "https://localhost:8080/",
          "height": 483
        },
        "id": "-s6z65C-JGmm",
        "outputId": "b5825945-829c-4c10-d82c-c40f87500dd3"
      },
      "source": [
        "fa = FactorAnalyzer(4, rotation='varimax')\n",
        "fa.fit(df_factors)\n",
        "loads = fa.loadings_\n",
        "colnames = ['f1','f2','f3','f4']\n",
        "df_loads = pd.DataFrame(loads, columns = ['f1','f2','f3','f4'])\n",
        "df_loads['airline'] = df_factors.keys()\n",
        "for col in colnames:\n",
        "    df_loads['abs'+col] = np.abs(df_loads[col])\n",
        "df_loads.sort_values(by=['absf3'], ascending=False )[colnames+['airline']]"
      ],
      "execution_count": null,
      "outputs": [
        {
          "output_type": "execute_result",
          "data": {
            "text/html": [
              "<div>\n",
              "<style scoped>\n",
              "    .dataframe tbody tr th:only-of-type {\n",
              "        vertical-align: middle;\n",
              "    }\n",
              "\n",
              "    .dataframe tbody tr th {\n",
              "        vertical-align: top;\n",
              "    }\n",
              "\n",
              "    .dataframe thead th {\n",
              "        text-align: right;\n",
              "    }\n",
              "</style>\n",
              "<table border=\"1\" class=\"dataframe\">\n",
              "  <thead>\n",
              "    <tr style=\"text-align: right;\">\n",
              "      <th></th>\n",
              "      <th>f1</th>\n",
              "      <th>f2</th>\n",
              "      <th>f3</th>\n",
              "      <th>f4</th>\n",
              "      <th>airline</th>\n",
              "    </tr>\n",
              "  </thead>\n",
              "  <tbody>\n",
              "    <tr>\n",
              "      <th>2</th>\n",
              "      <td>-0.036124</td>\n",
              "      <td>0.027503</td>\n",
              "      <td>0.766509</td>\n",
              "      <td>0.463396</td>\n",
              "      <td>Ease of Online booking</td>\n",
              "    </tr>\n",
              "    <tr>\n",
              "      <th>4</th>\n",
              "      <td>0.013097</td>\n",
              "      <td>-0.045142</td>\n",
              "      <td>0.680813</td>\n",
              "      <td>-0.100044</td>\n",
              "      <td>Gate location</td>\n",
              "    </tr>\n",
              "    <tr>\n",
              "      <th>0</th>\n",
              "      <td>0.092606</td>\n",
              "      <td>0.132303</td>\n",
              "      <td>0.605630</td>\n",
              "      <td>0.478035</td>\n",
              "      <td>Inflight wifi service</td>\n",
              "    </tr>\n",
              "    <tr>\n",
              "      <th>3</th>\n",
              "      <td>-0.006287</td>\n",
              "      <td>0.057166</td>\n",
              "      <td>0.589643</td>\n",
              "      <td>0.000283</td>\n",
              "      <td>Departure/Arrival time convenient</td>\n",
              "    </tr>\n",
              "    <tr>\n",
              "      <th>13</th>\n",
              "      <td>0.286895</td>\n",
              "      <td>0.118512</td>\n",
              "      <td>0.094301</td>\n",
              "      <td>0.756382</td>\n",
              "      <td>Online boarding</td>\n",
              "    </tr>\n",
              "    <tr>\n",
              "      <th>9</th>\n",
              "      <td>0.036738</td>\n",
              "      <td>0.763384</td>\n",
              "      <td>0.047617</td>\n",
              "      <td>-0.030583</td>\n",
              "      <td>Baggage handling</td>\n",
              "    </tr>\n",
              "    <tr>\n",
              "      <th>11</th>\n",
              "      <td>0.035962</td>\n",
              "      <td>0.799641</td>\n",
              "      <td>0.047595</td>\n",
              "      <td>-0.051573</td>\n",
              "      <td>Inflight service</td>\n",
              "    </tr>\n",
              "    <tr>\n",
              "      <th>6</th>\n",
              "      <td>0.766237</td>\n",
              "      <td>0.464666</td>\n",
              "      <td>0.041222</td>\n",
              "      <td>0.032708</td>\n",
              "      <td>Inflight entertainment</td>\n",
              "    </tr>\n",
              "    <tr>\n",
              "      <th>8</th>\n",
              "      <td>0.057541</td>\n",
              "      <td>0.483208</td>\n",
              "      <td>0.040559</td>\n",
              "      <td>0.097485</td>\n",
              "      <td>Leg room service</td>\n",
              "    </tr>\n",
              "    <tr>\n",
              "      <th>1</th>\n",
              "      <td>0.770130</td>\n",
              "      <td>0.002845</td>\n",
              "      <td>0.032987</td>\n",
              "      <td>0.040034</td>\n",
              "      <td>Food and drink</td>\n",
              "    </tr>\n",
              "    <tr>\n",
              "      <th>5</th>\n",
              "      <td>0.754094</td>\n",
              "      <td>0.078646</td>\n",
              "      <td>-0.028100</td>\n",
              "      <td>0.213668</td>\n",
              "      <td>Seat comfort</td>\n",
              "    </tr>\n",
              "    <tr>\n",
              "      <th>10</th>\n",
              "      <td>0.116816</td>\n",
              "      <td>0.285782</td>\n",
              "      <td>-0.025507</td>\n",
              "      <td>0.131914</td>\n",
              "      <td>Checkin service</td>\n",
              "    </tr>\n",
              "    <tr>\n",
              "      <th>7</th>\n",
              "      <td>0.087931</td>\n",
              "      <td>0.700438</td>\n",
              "      <td>0.010385</td>\n",
              "      <td>0.051850</td>\n",
              "      <td>On-board service</td>\n",
              "    </tr>\n",
              "    <tr>\n",
              "      <th>12</th>\n",
              "      <td>0.854326</td>\n",
              "      <td>0.082450</td>\n",
              "      <td>-0.000046</td>\n",
              "      <td>0.103143</td>\n",
              "      <td>Cleanliness</td>\n",
              "    </tr>\n",
              "  </tbody>\n",
              "</table>\n",
              "</div>"
            ],
            "text/plain": [
              "          f1        f2        f3        f4                            airline\n",
              "2  -0.036124  0.027503  0.766509  0.463396             Ease of Online booking\n",
              "4   0.013097 -0.045142  0.680813 -0.100044                      Gate location\n",
              "0   0.092606  0.132303  0.605630  0.478035              Inflight wifi service\n",
              "3  -0.006287  0.057166  0.589643  0.000283  Departure/Arrival time convenient\n",
              "13  0.286895  0.118512  0.094301  0.756382                    Online boarding\n",
              "9   0.036738  0.763384  0.047617 -0.030583                   Baggage handling\n",
              "11  0.035962  0.799641  0.047595 -0.051573                   Inflight service\n",
              "6   0.766237  0.464666  0.041222  0.032708             Inflight entertainment\n",
              "8   0.057541  0.483208  0.040559  0.097485                   Leg room service\n",
              "1   0.770130  0.002845  0.032987  0.040034                     Food and drink\n",
              "5   0.754094  0.078646 -0.028100  0.213668                       Seat comfort\n",
              "10  0.116816  0.285782 -0.025507  0.131914                    Checkin service\n",
              "7   0.087931  0.700438  0.010385  0.051850                   On-board service\n",
              "12  0.854326  0.082450 -0.000046  0.103143                        Cleanliness"
            ]
          },
          "metadata": {
            "tags": []
          },
          "execution_count": 76
        }
      ]
    },
    {
      "cell_type": "code",
      "metadata": {
        "colab": {
          "base_uri": "https://localhost:8080/",
          "height": 442
        },
        "id": "5pU0Fxl9NpIx",
        "outputId": "2727110a-7e46-4a8c-93be-c7ef5b9a9935"
      },
      "source": [
        "idxs = np.argsort(df_loads['absf1']).values\n",
        "corr_array = df_factors.corr()\n",
        "sns.heatmap(np.abs(corr_array.iloc[idxs, :].T.iloc[idxs, :]), vmin=0, vmax=0.6); plt.title('Correlation plot between Questions');"
      ],
      "execution_count": null,
      "outputs": [
        {
          "output_type": "display_data",
          "data": {
            "image/png": "[encoded data removed]",
            "text/plain": [
              "<Figure size 432x288 with 2 Axes>"
            ]
          },
          "metadata": {
            "tags": [],
            "needs_background": "light"
          }
        }
      ]
    },
    {
      "cell_type": "markdown",
      "metadata": {
        "id": "IokS2a7zN5dk"
      },
      "source": [
        "Видим, что после перегруппировки появилось пятно корреляций в нижнем углу матрицы"
      ]
    },
    {
      "cell_type": "code",
      "metadata": {
        "colab": {
          "base_uri": "https://localhost:8080/"
        },
        "id": "FKlYkQpTQCoO",
        "outputId": "e98f8f95-5aba-4642-b65c-c3f28b3a8264"
      },
      "source": [
        "print(df_loads.sort_values(by=['absf1'], ascending=False )[['f1','airline']].head(5))\n",
        "Q_f_stats = df_loads.sort_values(by=['absf1'], ascending=False )['airline'].values[:5]\n",
        "print(Q_f_stats) \n",
        "comfort_on_b = df_factors.loc[:,Q_f_stats]\n",
        "comfort_on_b.head()\n",
        "print(f'Согласованность переменных в факторе комфорт на борту: {pg.cronbach_alpha(fear_of_stats)}, 1 в идеальном варианте')"
      ],
      "execution_count": null,
      "outputs": [
        {
          "output_type": "stream",
          "text": [
            "          f1                 airline\n",
            "12  0.854326             Cleanliness\n",
            "1   0.770130          Food and drink\n",
            "6   0.766237  Inflight entertainment\n",
            "5   0.754094            Seat comfort\n",
            "13  0.286895         Online boarding\n",
            "['Cleanliness' 'Food and drink' 'Inflight entertainment' 'Seat comfort'\n",
            " 'Online boarding']\n",
            "Согласованность переменных в факторе комфорт на борту: (0.7713577920728945, array([0.769, 0.773])), 1 в идеальном варианте\n"
          ],
          "name": "stdout"
        }
      ]
    },
    {
      "cell_type": "markdown",
      "metadata": {
        "id": "E1YS4ayyQqK9"
      },
      "source": [
        "Достаточно хороший результат (0,77), больше 0,6"
      ]
    },
    {
      "cell_type": "code",
      "metadata": {
        "colab": {
          "base_uri": "https://localhost:8080/"
        },
        "id": "zV97zGakQ0P6",
        "outputId": "3d1f88f5-957f-4e49-f57e-0d16485bf9ed"
      },
      "source": [
        "print(df_loads.sort_values(by=['absf2'], ascending=False )[['f2','airline']].head(5))\n",
        "Q_f_stats = df_loads.sort_values(by=['absf2'], ascending=False )['airline'].values[:5]\n",
        "print(Q_f_stats) \n",
        "service = df_factors.loc[:,Q_f_stats]\n",
        "service.head()\n",
        "print(f'Согласованность переменных в факторе сервис: {pg.cronbach_alpha(service)}, 1 в идеальном варианте')"
      ],
      "execution_count": null,
      "outputs": [
        {
          "output_type": "stream",
          "text": [
            "          f2                 airline\n",
            "11  0.799641        Inflight service\n",
            "9   0.763384        Baggage handling\n",
            "7   0.700438        On-board service\n",
            "8   0.483208        Leg room service\n",
            "6   0.464666  Inflight entertainment\n",
            "['Inflight service' 'Baggage handling' 'On-board service'\n",
            " 'Leg room service' 'Inflight entertainment']\n",
            "Согласованность переменных в факторе сервис: (0.7856489553874129, array([0.784, 0.788])), 1 в идеальном варианте\n"
          ],
          "name": "stdout"
        }
      ]
    },
    {
      "cell_type": "code",
      "metadata": {
        "colab": {
          "base_uri": "https://localhost:8080/"
        },
        "id": "dLl5L7mNQp5j",
        "outputId": "cbef18eb-8a3d-4988-a1bf-3a3a077307c9"
      },
      "source": [
        "print(df_loads.sort_values(by=['absf3'], ascending=False )[['f3','airline']].head(5))\n",
        "Q_f_stats = df_loads.sort_values(by=['absf3'], ascending=False )['airline'].values[:5]\n",
        "print(Q_f_stats) \n",
        "before_fly = df_factors.loc[:,Q_f_stats]\n",
        "before_fly.head()\n",
        "print(f'Согласованность переменных в факторе удобность процесса до полета: {pg.cronbach_alpha(before_fly)}, 1 в идеальном варианте')"
      ],
      "execution_count": null,
      "outputs": [
        {
          "output_type": "stream",
          "text": [
            "          f3                            airline\n",
            "2   0.766509             Ease of Online booking\n",
            "4   0.680813                      Gate location\n",
            "0   0.605630              Inflight wifi service\n",
            "3   0.589643  Departure/Arrival time convenient\n",
            "13  0.094301                    Online boarding\n",
            "['Ease of Online booking' 'Gate location' 'Inflight wifi service'\n",
            " 'Departure/Arrival time convenient' 'Online boarding']\n",
            "Согласованность переменных в факторе удобность процесса до полета: (0.7422763190291576, array([0.74 , 0.745])), 1 в идеальном варианте\n"
          ],
          "name": "stdout"
        }
      ]
    },
    {
      "cell_type": "code",
      "metadata": {
        "colab": {
          "base_uri": "https://localhost:8080/"
        },
        "id": "jcDv7uHZROJh",
        "outputId": "c7db3d6d-6fc6-4b46-eea5-002fd0098a01"
      },
      "source": [
        "print(df_loads.sort_values(by=['absf4'], ascending=False )[['f4','airline']].head(3))\n",
        "Q_f_stats = df_loads.sort_values(by=['absf4'], ascending=False )['airline'].values[:3]\n",
        "print(Q_f_stats) \n",
        "internet = df_factors.loc[:,Q_f_stats]\n",
        "internet.head()\n",
        "print(f'Согласованность переменных в факторе интернет: {pg.cronbach_alpha(internet)}, 1 в идеальном варианте')"
      ],
      "execution_count": null,
      "outputs": [
        {
          "output_type": "stream",
          "text": [
            "          f4                 airline\n",
            "13  0.756382         Online boarding\n",
            "0   0.478035   Inflight wifi service\n",
            "2   0.463396  Ease of Online booking\n",
            "['Online boarding' 'Inflight wifi service' 'Ease of Online booking']\n",
            "Согласованность переменных в факторе интернет: (0.7685805890788289, array([0.766, 0.771])), 1 в идеальном варианте\n"
          ],
          "name": "stdout"
        }
      ]
    },
    {
      "cell_type": "markdown",
      "metadata": {
        "Collapsed": "false",
        "id": "HzMrt9Xhpq2G"
      },
      "source": [
        "## Логистическая регрессия\n",
        "Но вместо группы переменных, которые вы выбрали - используем факторы"
      ]
    },
    {
      "cell_type": "code",
      "metadata": {
        "colab": {
          "base_uri": "https://localhost:8080/",
          "height": 204
        },
        "id": "4Mvb2qWuTNVX",
        "outputId": "89890854-b5c0-4157-d0f3-bad6bdb914c4"
      },
      "source": [
        "log = pd.DataFrame(fa.transform(df_factors),columns = ['f1','f2','f3','f4'])\n",
        "log['satisfaction'] = train_airline['satisfaction']\n",
        "log ['Age'] = train_airline['Age']\n",
        "log['Class'] = train_airline['Class']\n",
        "log.head()"
      ],
      "execution_count": null,
      "outputs": [
        {
          "output_type": "execute_result",
          "data": {
            "text/html": [
              "<div>\n",
              "<style scoped>\n",
              "    .dataframe tbody tr th:only-of-type {\n",
              "        vertical-align: middle;\n",
              "    }\n",
              "\n",
              "    .dataframe tbody tr th {\n",
              "        vertical-align: top;\n",
              "    }\n",
              "\n",
              "    .dataframe thead th {\n",
              "        text-align: right;\n",
              "    }\n",
              "</style>\n",
              "<table border=\"1\" class=\"dataframe\">\n",
              "  <thead>\n",
              "    <tr style=\"text-align: right;\">\n",
              "      <th></th>\n",
              "      <th>f1</th>\n",
              "      <th>f2</th>\n",
              "      <th>f3</th>\n",
              "      <th>f4</th>\n",
              "      <th>satisfaction</th>\n",
              "      <th>Age</th>\n",
              "      <th>Class</th>\n",
              "    </tr>\n",
              "  </thead>\n",
              "  <tbody>\n",
              "    <tr>\n",
              "      <th>0</th>\n",
              "      <td>1.239017</td>\n",
              "      <td>0.643487</td>\n",
              "      <td>-0.114692</td>\n",
              "      <td>-0.060921</td>\n",
              "      <td>0</td>\n",
              "      <td>13</td>\n",
              "      <td>2</td>\n",
              "    </tr>\n",
              "    <tr>\n",
              "      <th>1</th>\n",
              "      <td>-1.950791</td>\n",
              "      <td>-0.440574</td>\n",
              "      <td>-0.053294</td>\n",
              "      <td>0.286890</td>\n",
              "      <td>0</td>\n",
              "      <td>25</td>\n",
              "      <td>0</td>\n",
              "    </tr>\n",
              "    <tr>\n",
              "      <th>2</th>\n",
              "      <td>1.369356</td>\n",
              "      <td>0.335665</td>\n",
              "      <td>-0.922205</td>\n",
              "      <td>0.577786</td>\n",
              "      <td>1</td>\n",
              "      <td>26</td>\n",
              "      <td>0</td>\n",
              "    </tr>\n",
              "    <tr>\n",
              "      <th>3</th>\n",
              "      <td>-1.105765</td>\n",
              "      <td>-0.383531</td>\n",
              "      <td>1.597348</td>\n",
              "      <td>-0.614574</td>\n",
              "      <td>0</td>\n",
              "      <td>25</td>\n",
              "      <td>0</td>\n",
              "    </tr>\n",
              "    <tr>\n",
              "      <th>4</th>\n",
              "      <td>0.171095</td>\n",
              "      <td>-0.260457</td>\n",
              "      <td>-0.183430</td>\n",
              "      <td>1.016513</td>\n",
              "      <td>1</td>\n",
              "      <td>61</td>\n",
              "      <td>0</td>\n",
              "    </tr>\n",
              "  </tbody>\n",
              "</table>\n",
              "</div>"
            ],
            "text/plain": [
              "         f1        f2        f3        f4  satisfaction  Age  Class\n",
              "0  1.239017  0.643487 -0.114692 -0.060921             0   13      2\n",
              "1 -1.950791 -0.440574 -0.053294  0.286890             0   25      0\n",
              "2  1.369356  0.335665 -0.922205  0.577786             1   26      0\n",
              "3 -1.105765 -0.383531  1.597348 -0.614574             0   25      0\n",
              "4  0.171095 -0.260457 -0.183430  1.016513             1   61      0"
            ]
          },
          "metadata": {
            "tags": []
          },
          "execution_count": 103
        }
      ]
    },
    {
      "cell_type": "code",
      "metadata": {
        "colab": {
          "base_uri": "https://localhost:8080/"
        },
        "id": "DpMZasVcTb-I",
        "outputId": "d50917a7-8d8c-4b69-bcf5-b7348bfb987b"
      },
      "source": [
        "model = logit('satisfaction ~ f1', data = log).fit()\n",
        "print(model.summary())\n",
        "print(np.exp(model.conf_int()))"
      ],
      "execution_count": null,
      "outputs": [
        {
          "output_type": "stream",
          "text": [
            "Optimization terminated successfully.\n",
            "         Current function value: 0.636461\n",
            "         Iterations 5\n",
            "                           Logit Regression Results                           \n",
            "==============================================================================\n",
            "Dep. Variable:           satisfaction   No. Observations:               103904\n",
            "Model:                          Logit   Df Residuals:                   103902\n",
            "Method:                           MLE   Df Model:                            1\n",
            "Date:                Mon, 04 Jan 2021   Pseudo R-squ.:                 0.06982\n",
            "Time:                        17:01:19   Log-Likelihood:                -66131.\n",
            "converged:                       True   LL-Null:                       -71094.\n",
            "Covariance Type:            nonrobust   LLR p-value:                     0.000\n",
            "==============================================================================\n",
            "                 coef    std err          z      P>|z|      [0.025      0.975]\n",
            "------------------------------------------------------------------------------\n",
            "Intercept     -0.3062      0.007    -46.240      0.000      -0.319      -0.293\n",
            "f1             0.7185      0.008     92.798      0.000       0.703       0.734\n",
            "==============================================================================\n",
            "                  0         1\n",
            "Intercept  0.726749  0.745861\n",
            "f1         2.020393  2.082650\n"
          ],
          "name": "stdout"
        }
      ]
    },
    {
      "cell_type": "markdown",
      "metadata": {
        "id": "-YPsCMfOXSh_"
      },
      "source": [
        "LLR p-value равняется нуля,  Pseudo R-squ очень маленький, что не позволяет говорит о сильном влияние первого фактора. Хотя его p-value говорит о том, что он статестически значим"
      ]
    },
    {
      "cell_type": "code",
      "metadata": {
        "colab": {
          "base_uri": "https://localhost:8080/"
        },
        "id": "FIXgQ4tWWRvu",
        "outputId": "cb49d299-232e-48cb-85c5-80dd0ec6dc22"
      },
      "source": [
        "model = logit('satisfaction ~ f2', data = log).fit()\n",
        "print(model.summary())\n",
        "print(np.exp(model.conf_int()))"
      ],
      "execution_count": null,
      "outputs": [
        {
          "output_type": "stream",
          "text": [
            "Optimization terminated successfully.\n",
            "         Current function value: 0.621396\n",
            "         Iterations 5\n",
            "                           Logit Regression Results                           \n",
            "==============================================================================\n",
            "Dep. Variable:           satisfaction   No. Observations:               103904\n",
            "Model:                          Logit   Df Residuals:                   103902\n",
            "Method:                           MLE   Df Model:                            1\n",
            "Date:                Mon, 04 Jan 2021   Pseudo R-squ.:                 0.09183\n",
            "Time:                        17:02:15   Log-Likelihood:                -64565.\n",
            "converged:                       True   LL-Null:                       -71094.\n",
            "Covariance Type:            nonrobust   LLR p-value:                     0.000\n",
            "==============================================================================\n",
            "                 coef    std err          z      P>|z|      [0.025      0.975]\n",
            "------------------------------------------------------------------------------\n",
            "Intercept     -0.3210      0.007    -47.579      0.000      -0.334      -0.308\n",
            "f2             0.8722      0.008    104.129      0.000       0.856       0.889\n",
            "==============================================================================\n",
            "                  0         1\n",
            "Intercept  0.715930  0.735114\n",
            "f2         2.353107  2.431646\n"
          ],
          "name": "stdout"
        }
      ]
    },
    {
      "cell_type": "code",
      "metadata": {
        "colab": {
          "base_uri": "https://localhost:8080/"
        },
        "id": "9-LBJC53WUKE",
        "outputId": "5581320f-a5ca-4f4c-a1c0-76494eae0701"
      },
      "source": [
        "model = logit('satisfaction ~ f3', data = log).fit()\n",
        "print(model.summary())\n",
        "print(np.exp(model.conf_int()))"
      ],
      "execution_count": null,
      "outputs": [
        {
          "output_type": "stream",
          "text": [
            "Optimization terminated successfully.\n",
            "         Current function value: 0.683780\n",
            "         Iterations 4\n",
            "                           Logit Regression Results                           \n",
            "==============================================================================\n",
            "Dep. Variable:           satisfaction   No. Observations:               103904\n",
            "Model:                          Logit   Df Residuals:                   103902\n",
            "Method:                           MLE   Df Model:                            1\n",
            "Date:                Mon, 04 Jan 2021   Pseudo R-squ.:               0.0006598\n",
            "Time:                        17:02:20   Log-Likelihood:                -71047.\n",
            "converged:                       True   LL-Null:                       -71094.\n",
            "Covariance Type:            nonrobust   LLR p-value:                 3.451e-22\n",
            "==============================================================================\n",
            "                 coef    std err          z      P>|z|      [0.025      0.975]\n",
            "------------------------------------------------------------------------------\n",
            "Intercept     -0.2685      0.006    -42.869      0.000      -0.281      -0.256\n",
            "f3             0.0681      0.007      9.680      0.000       0.054       0.082\n",
            "==============================================================================\n",
            "                  0         1\n",
            "Intercept  0.755188  0.773959\n",
            "f3         1.055827  1.085355\n"
          ],
          "name": "stdout"
        }
      ]
    },
    {
      "cell_type": "markdown",
      "metadata": {
        "id": "_sPOO785Wfc8"
      },
      "source": [
        "У этой модели очень маленький Pseudo R-squ"
      ]
    },
    {
      "cell_type": "code",
      "metadata": {
        "colab": {
          "base_uri": "https://localhost:8080/"
        },
        "id": "z5AXqgZAWVIT",
        "outputId": "491a5899-7b42-4c5d-bc2c-a087db38424a"
      },
      "source": [
        "model = logit('satisfaction ~ f4', data = log).fit()\n",
        "print(model.summary())\n",
        "print(np.exp(model.conf_int()))"
      ],
      "execution_count": null,
      "outputs": [
        {
          "output_type": "stream",
          "text": [
            "Optimization terminated successfully.\n",
            "         Current function value: 0.585957\n",
            "         Iterations 6\n",
            "                           Logit Regression Results                           \n",
            "==============================================================================\n",
            "Dep. Variable:           satisfaction   No. Observations:               103904\n",
            "Model:                          Logit   Df Residuals:                   103902\n",
            "Method:                           MLE   Df Model:                            1\n",
            "Date:                Mon, 04 Jan 2021   Pseudo R-squ.:                  0.1436\n",
            "Time:                        17:02:23   Log-Likelihood:                -60883.\n",
            "converged:                       True   LL-Null:                       -71094.\n",
            "Covariance Type:            nonrobust   LLR p-value:                     0.000\n",
            "==============================================================================\n",
            "                 coef    std err          z      P>|z|      [0.025      0.975]\n",
            "------------------------------------------------------------------------------\n",
            "Intercept     -0.3721      0.007    -52.325      0.000      -0.386      -0.358\n",
            "f4             1.2855      0.011    122.096      0.000       1.265       1.306\n",
            "==============================================================================\n",
            "                  0         1\n",
            "Intercept  0.679723  0.698940\n",
            "f4         3.542652  3.691922\n"
          ],
          "name": "stdout"
        }
      ]
    },
    {
      "cell_type": "code",
      "metadata": {
        "colab": {
          "base_uri": "https://localhost:8080/"
        },
        "id": "sHGYRe8gU7e-",
        "outputId": "4fb6cc81-0b1e-4228-b4e0-088315f3ae64"
      },
      "source": [
        "model = logit('satisfaction ~ f1+f2+f3+f4', data = log).fit()\n",
        "print(model.summary())\n",
        "print(np.exp(model.conf_int()))"
      ],
      "execution_count": null,
      "outputs": [
        {
          "output_type": "stream",
          "text": [
            "Optimization terminated successfully.\n",
            "         Current function value: 0.469563\n",
            "         Iterations 6\n",
            "                           Logit Regression Results                           \n",
            "==============================================================================\n",
            "Dep. Variable:           satisfaction   No. Observations:               103904\n",
            "Model:                          Logit   Df Residuals:                   103899\n",
            "Method:                           MLE   Df Model:                            4\n",
            "Date:                Mon, 04 Jan 2021   Pseudo R-squ.:                  0.3137\n",
            "Time:                        16:57:57   Log-Likelihood:                -48790.\n",
            "converged:                       True   LL-Null:                       -71094.\n",
            "Covariance Type:            nonrobust   LLR p-value:                     0.000\n",
            "==============================================================================\n",
            "                 coef    std err          z      P>|z|      [0.025      0.975]\n",
            "------------------------------------------------------------------------------\n",
            "Intercept     -0.4772      0.008    -57.742      0.000      -0.493      -0.461\n",
            "f1             0.8257      0.009     89.968      0.000       0.808       0.844\n",
            "f2             1.0386      0.010    107.184      0.000       1.020       1.058\n",
            "f3            -0.1113      0.009    -12.393      0.000      -0.129      -0.094\n",
            "f4             1.4565      0.012    126.057      0.000       1.434       1.479\n",
            "==============================================================================\n",
            "                  0         1\n",
            "Intercept  0.610548  0.630651\n",
            "f1         2.242800  2.324958\n",
            "f2         2.772023  2.879336\n",
            "f3         0.879073  0.910568\n",
            "f4         4.194889  4.389254\n"
          ],
          "name": "stdout"
        }
      ]
    },
    {
      "cell_type": "markdown",
      "metadata": {
        "id": "Rbm4EC-uXl-J"
      },
      "source": [
        "Эта модель удачнее двух построенных раннее, Log-Likelihood ближе к нулю. Выше Pseudo R-squ. Все факторы оказались значимыми. "
      ]
    },
    {
      "cell_type": "code",
      "source": [
        ""
      ],
      "metadata": {
        "id": "H5UP_-Y5IpTw"
      },
      "execution_count": null,
      "outputs": []
    }
  ]
}