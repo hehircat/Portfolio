{
 "cells":[
  {
   "cell_type":"markdown",
   "source":[
    "## Выявление спама\n",
    " - Считайте датасет (SMSSpamCollection.txt) в Python , выясните, что используется в качестве разделителей и как проставляются метки классов.\n",
    "\n",
    " - Подготовьте для дальнейшей работы два списка: список текстов в порядке их следования в датасете и список соответствующих им меток классов. В качестве метки класса используйте 1 для спама и 0 для \"не спама\".\n",
    " \n",
    " - Используя средства работы с текстами - обучите систему идентификации спама\n",
    " - визуализируйте результат работы логистической регрессии. Какие признаки наиболее важны для детекции спама?\n",
    " - Постройте пайплайн для выбора моделей и параметров, используйте   LogisticRegression, SVС, MultinomialNB (эта модель может работать только с признаками счетчиками, то есть tfidf туда не стоит отправлять)\n",
    " "
   ],
   "attachments":{
    
   },
   "metadata":{
    "datalore":{
     "type":"MD",
     "hide_input_from_viewers":false,
     "hide_output_from_viewers":false
    }
   }
  },
  {
   "cell_type":"code",
   "source":[
    "import pandas as pd\n",
    "import numpy as np\n",
    "import warnings\n",
    "warnings.simplefilter(\"ignore\")\n",
    "import matplotlib.pyplot as plt\n",
    "\n",
    "from sklearn.feature_extraction.text import TfidfTransformer, CountVectorizer, TfidfVectorizer\n",
    "from sklearn.linear_model import LogisticRegression, SGDClassifier,LogisticRegressionCV\n",
    "from sklearn.svm import LinearSVC\n",
    "from  sklearn.naive_bayes import MultinomialNB\n",
    "from sklearn.model_selection import cross_val_score, train_test_split\n",
    "from sklearn.pipeline import Pipeline, make_pipeline\n",
    "\n",
    "from sklearn.feature_extraction.text import CountVectorizer"
   ],
   "execution_count":68,
   "outputs":[
    
   ],
   "metadata":{
    "datalore":{
     "type":"CODE",
     "hide_input_from_viewers":false,
     "hide_output_from_viewers":false
    }
   }
  },
  {
   "cell_type":"code",
   "source":[
    "#!pip install nltk"
   ],
   "execution_count":12,
   "outputs":[
    
   ],
   "metadata":{
    "datalore":{
     "type":"CODE",
     "hide_input_from_viewers":false,
     "hide_output_from_viewers":false
    }
   }
  },
  {
   "cell_type":"code",
   "source":[
    "import nltk\n",
    "nltk.download('punkt')\n",
    "nltk.download('wordnet')\n",
    "nltk.download('stopwords')"
   ],
   "execution_count":14,
   "outputs":[
    {
     "name":"stderr",
     "text":[
      "[nltk_data] Downloading package punkt to \/home\/datalore\/nltk_data...\n",
      "[nltk_data]   Package punkt is already up-to-date!\n",
      "[nltk_data] Downloading package wordnet to \/home\/datalore\/nltk_data...\n",
      "[nltk_data]   Package wordnet is already up-to-date!\n",
      "[nltk_data] Downloading package stopwords to\n",
      "[nltk_data]     \/home\/datalore\/nltk_data...\n",
      "[nltk_data]   Package stopwords is already up-to-date!\n"
     ],
     "output_type":"stream"
    },
    {
     "data":{
      "text\/plain":[
       "True"
      ]
     },
     "metadata":{
      
     },
     "output_type":"display_data"
    }
   ],
   "metadata":{
    "datalore":{
     "type":"CODE",
     "hide_input_from_viewers":false,
     "hide_output_from_viewers":false
    }
   }
  },
  {
   "cell_type":"code",
   "source":[
    "data = pd.read_csv('SMSSpamCollection.txt', sep='^(\\S+)', names=['target', 'text'], engine='python', usecols=[1, 2])"
   ],
   "execution_count":9,
   "outputs":[
    
   ],
   "metadata":{
    "datalore":{
     "type":"CODE",
     "hide_input_from_viewers":false,
     "hide_output_from_viewers":false
    }
   }
  },
  {
   "cell_type":"code",
   "source":[
    "data.head()"
   ],
   "execution_count":10,
   "outputs":[
    {
     "data":{
      "text\/html":[
       "<div>\n",
       "<style scoped>\n",
       "    .dataframe tbody tr th:only-of-type {\n",
       "        vertical-align: middle;\n",
       "    }\n",
       "\n",
       "    .dataframe tbody tr th {\n",
       "        vertical-align: top;\n",
       "    }\n",
       "\n",
       "    .dataframe thead th {\n",
       "        text-align: right;\n",
       "    }\n",
       "<\/style>\n",
       "<table border=\"1\" class=\"dataframe\">\n",
       "  <thead>\n",
       "    <tr style=\"text-align: right;\">\n",
       "      <th><\/th>\n",
       "      <th>target<\/th>\n",
       "      <th>text<\/th>\n",
       "    <\/tr>\n",
       "  <\/thead>\n",
       "  <tbody>\n",
       "    <tr>\n",
       "      <th>0<\/th>\n",
       "      <td>ham<\/td>\n",
       "      <td>\\tGo until jurong point, crazy.. Available onl...<\/td>\n",
       "    <\/tr>\n",
       "    <tr>\n",
       "      <th>1<\/th>\n",
       "      <td>ham<\/td>\n",
       "      <td>\\tOk lar... Joking wif u oni...<\/td>\n",
       "    <\/tr>\n",
       "    <tr>\n",
       "      <th>2<\/th>\n",
       "      <td>spam<\/td>\n",
       "      <td>\\tFree entry in 2 a wkly comp to win FA Cup fi...<\/td>\n",
       "    <\/tr>\n",
       "    <tr>\n",
       "      <th>3<\/th>\n",
       "      <td>ham<\/td>\n",
       "      <td>\\tU dun say so early hor... U c already then s...<\/td>\n",
       "    <\/tr>\n",
       "    <tr>\n",
       "      <th>4<\/th>\n",
       "      <td>ham<\/td>\n",
       "      <td>\\tNah I don't think he goes to usf, he lives a...<\/td>\n",
       "    <\/tr>\n",
       "  <\/tbody>\n",
       "<\/table>\n",
       "<\/div>"
      ]
     },
     "metadata":{
      
     },
     "output_type":"display_data"
    }
   ],
   "metadata":{
    "datalore":{
     "type":"CODE",
     "hide_input_from_viewers":false,
     "hide_output_from_viewers":false
    }
   }
  },
  {
   "cell_type":"code",
   "source":[
    "data.info()"
   ],
   "execution_count":77,
   "outputs":[
    {
     "name":"stdout",
     "text":[
      "<class 'pandas.core.frame.DataFrame'>\n",
      "RangeIndex: 5574 entries, 0 to 5573\n",
      "Data columns (total 3 columns):\n",
      " #   Column    Non-Null Count  Dtype \n",
      "---  ------    --------------  ----- \n",
      " 0   target    5574 non-null   object\n",
      " 1   text      5574 non-null   object\n",
      " 2   target_b  5574 non-null   int64 \n",
      "dtypes: int64(1), object(2)\n",
      "memory usage: 130.8+ KB\n"
     ],
     "output_type":"stream"
    }
   ],
   "metadata":{
    "datalore":{
     "type":"CODE",
     "hide_input_from_viewers":false,
     "hide_output_from_viewers":false
    }
   }
  },
  {
   "cell_type":"markdown",
   "source":[
    "## Описание данных \n",
    "\n",
    "У нас есть датасет с двумя колонками - первая наш таргет, который в следующем шаге мы преобразуем в числовую бинарную форму, где спам - это 1, а не спам - 0. Всего у нас 5574 сообщения. "
   ],
   "attachments":{
    
   },
   "metadata":{
    "datalore":{
     "type":"MD",
     "hide_input_from_viewers":false,
     "hide_output_from_viewers":false
    }
   }
  },
  {
   "cell_type":"code",
   "source":[
    "data.loc[data['target'] == 'ham', 'target_b'] = 0\n",
    "data.loc[data['target'] == 'spam', 'target_b'] = 1\n",
    "data.target_b = data.target_b.astype('int')"
   ],
   "execution_count":27,
   "outputs":[
    
   ],
   "metadata":{
    "datalore":{
     "type":"CODE",
     "hide_input_from_viewers":false,
     "hide_output_from_viewers":false
    }
   }
  },
  {
   "cell_type":"code",
   "source":[
    "data.shape"
   ],
   "execution_count":36,
   "outputs":[
    {
     "data":{
      "text\/plain":[
       "(5574, 3)"
      ]
     },
     "metadata":{
      
     },
     "output_type":"display_data"
    }
   ],
   "metadata":{
    "datalore":{
     "type":"CODE",
     "hide_input_from_viewers":false,
     "hide_output_from_viewers":false
    }
   }
  },
  {
   "cell_type":"markdown",
   "source":[
    "Создадим два списка: в **label** будет хранится информация о таргете, а в **new_text** соответственно текст сообщений"
   ],
   "attachments":{
    
   },
   "metadata":{
    "datalore":{
     "type":"MD",
     "hide_input_from_viewers":false,
     "hide_output_from_viewers":false
    }
   }
  },
  {
   "cell_type":"code",
   "source":[
    "label = data.target_b.to_list()\n",
    "text = data.text.to_list()\n",
    "new_text = []\n",
    "for string in text:\n",
    "    string = string.replace('\\t',\"\")\n",
    "    new_text.append(string)"
   ],
   "execution_count":33,
   "outputs":[
    
   ],
   "metadata":{
    "datalore":{
     "type":"CODE",
     "hide_input_from_viewers":false,
     "hide_output_from_viewers":false
    }
   }
  },
  {
   "cell_type":"code",
   "source":[
    "new_text[:5]"
   ],
   "execution_count":40,
   "outputs":[
    {
     "data":{
      "text\/plain":[
       "['Go until jurong point, crazy.. Available only in bugis n great world la e buffet... Cine there got amore wat...',\n",
       " 'Ok lar... Joking wif u oni...',\n",
       " \"Free entry in 2 a wkly comp to win FA Cup final tkts 21st May 2005. Text FA to 87121 to receive entry question(std txt rate)T&C's apply 08452810075over18's\",\n",
       " 'U dun say so early hor... U c already then say...',\n",
       " \"Nah I don't think he goes to usf, he lives around here though\"]"
      ]
     },
     "metadata":{
      
     },
     "output_type":"display_data"
    }
   ],
   "metadata":{
    "datalore":{
     "type":"CODE",
     "hide_input_from_viewers":false,
     "hide_output_from_viewers":false
    }
   }
  },
  {
   "cell_type":"code",
   "source":[
    "print(f'Размер списка с текстами: {len(new_text)}')\n",
    "print(f'Размер списка с лейблами: {len(label)}')"
   ],
   "execution_count":39,
   "outputs":[
    {
     "name":"stdout",
     "text":[
      "Размер списка с текстами: 5574\n",
      "Размер списка с лейблами: 5574\n"
     ],
     "output_type":"stream"
    }
   ],
   "metadata":{
    "datalore":{
     "type":"CODE",
     "hide_input_from_viewers":false,
     "hide_output_from_viewers":false
    }
   }
  },
  {
   "cell_type":"code",
   "source":[
    "print(f'В нашей выборке спама: {label.count(1)}')\n",
    "print(f'В нашей выборке не спама: {label.count(0)}')"
   ],
   "execution_count":44,
   "outputs":[
    {
     "name":"stdout",
     "text":[
      "В нашей выборке спама: 747\n",
      "В нашей выборке не спама: 4827\n"
     ],
     "output_type":"stream"
    }
   ],
   "metadata":{
    "datalore":{
     "type":"CODE",
     "hide_input_from_viewers":false,
     "hide_output_from_viewers":false
    }
   }
  },
  {
   "cell_type":"markdown",
   "source":[
    "Так как у нас несбалансировання выборка, при делении на тестовую и валидационную подвыборки укажем аргумент stratify=label."
   ],
   "attachments":{
    
   },
   "metadata":{
    "datalore":{
     "type":"MD",
     "hide_input_from_viewers":false,
     "hide_output_from_viewers":false
    }
   }
  },
  {
   "cell_type":"code",
   "source":[
    "text_train, text_val, y_train, y_val = train_test_split(new_text, label,  random_state=1234, shuffle=True, stratify=label)"
   ],
   "execution_count":45,
   "outputs":[
    
   ],
   "metadata":{
    "datalore":{
     "type":"CODE",
     "hide_input_from_viewers":false,
     "hide_output_from_viewers":false
    }
   }
  },
  {
   "cell_type":"code",
   "source":[
    "vect = CountVectorizer(stop_words='english', token_pattern=r\"\\b\\w[\\w’]+\\b\")\n",
    "X_train = vect.fit_transform(text_train)\n",
    "X_val = vect.transform(text_val)\n",
    "X_train"
   ],
   "execution_count":80,
   "outputs":[
    {
     "data":{
      "text\/plain":[
       "<4180x7197 sparse matrix of type '<class 'numpy.int64'>'\n",
       "\twith 32467 stored elements in Compressed Sparse Row format>"
      ]
     },
     "metadata":{
      
     },
     "output_type":"display_data"
    }
   ],
   "metadata":{
    "datalore":{
     "type":"CODE",
     "hide_input_from_viewers":false,
     "hide_output_from_viewers":false
    }
   }
  },
  {
   "cell_type":"code",
   "source":[
    "print(f'Обучим логистическую регрессию:\\n')\n",
    "lr = LogisticRegression().fit(X_train, y_train)\n",
    "print(f\"Качество на обучении {lr.score(X_train, y_train)}: и на валидации: {lr.score(X_val, y_val)}\")"
   ],
   "execution_count":81,
   "outputs":[
    {
     "name":"stdout",
     "text":[
      "Обучим логистическую регрессию:\n",
      "\n",
      "Качество на обучении 0.9954545454545455: и на валидации: 0.9799139167862266\n"
     ],
     "output_type":"stream"
    }
   ],
   "metadata":{
    "datalore":{
     "type":"CODE",
     "hide_input_from_viewers":false,
     "hide_output_from_viewers":false
    }
   }
  },
  {
   "cell_type":"code",
   "source":[
    "from sklearn.metrics import confusion_matrix, accuracy_score, classification_report\n",
    "import seaborn as sns\n",
    "\n",
    "# считаем метрики\n",
    "print(classification_report(y_val, lr.predict(X_val)))\n",
    "\n",
    "# нарисуем матрицу ошибок\n",
    "cm = confusion_matrix(y_val, lr.predict(X_val))\n",
    "#нормализуем так, чтобы у нас выводились значения в процентах от целевого значения\n",
    "df_cm = pd.DataFrame(cm\/cm.sum(axis=1)[:, np.newaxis].round(2), columns=[0,1], index = [0,1])\n",
    "df_cm.index.name = 'Actual'\n",
    "df_cm.columns.name = 'Predicted'\n",
    "print(cm)\n",
    "sns.heatmap(df_cm, annot=True, fmt='.2%', cmap='Blues')\n",
    "plt.show()"
   ],
   "execution_count":82,
   "outputs":[
    {
     "name":"stdout",
     "text":[
      "              precision    recall  f1-score   support\n",
      "\n",
      "           0       0.98      1.00      0.99      1207\n",
      "           1       0.99      0.86      0.92       187\n",
      "\n",
      "    accuracy                           0.98      1394\n",
      "   macro avg       0.99      0.93      0.95      1394\n",
      "weighted avg       0.98      0.98      0.98      1394\n",
      "\n",
      "[[1206    1]\n",
      " [  27  160]]\n"
     ],
     "output_type":"stream"
    },
    {
     "data":{
      "image\/png":"[encoded data removed]"
     },
     "metadata":{
      "image\/png":{
       
      }
     },
     "output_type":"display_data"
    }
   ],
   "metadata":{
    "datalore":{
     "type":"CODE",
     "hide_input_from_viewers":false,
     "hide_output_from_viewers":false
    }
   }
  },
  {
   "cell_type":"markdown",
   "source":[
    "В целом показатели логистической регресси достаточно хорошие. Наша модель достаточно хорошо понимает, где не спам, но вот с опеределением нашей целевой метрики можно поработать, 15 процентов спама на валидационной выборке осталось не замеченым. "
   ],
   "attachments":{
    
   },
   "metadata":{
    "datalore":{
     "type":"MD",
     "hide_input_from_viewers":false,
     "hide_output_from_viewers":false
    }
   }
  },
  {
   "cell_type":"code",
   "source":[
    "def visualize_coefficients(classifier, feature_names, n_top_features=25):\n",
    "    # get coefficients with large absolute values \n",
    "    coef = classifier.coef_.ravel()\n",
    "    positive_coefficients = np.argsort(coef)[-n_top_features:]\n",
    "    negative_coefficients = np.argsort(coef)[:n_top_features]\n",
    "    interesting_coefficients = np.hstack([negative_coefficients, positive_coefficients])\n",
    "    # plot them\n",
    "    plt.figure(figsize=(15, 5))\n",
    "    colors = [\"red\" if c < 0 else \"blue\" for c in coef[interesting_coefficients]]\n",
    "    plt.bar(np.arange(2 * n_top_features), coef[interesting_coefficients], color=colors)\n",
    "    feature_names = np.array(feature_names)\n",
    "    plt.xticks(np.arange(1, 1 + 2 * n_top_features), feature_names[interesting_coefficients], rotation=60, ha=\"right\")"
   ],
   "execution_count":63,
   "outputs":[
    
   ],
   "metadata":{
    "datalore":{
     "type":"CODE",
     "hide_input_from_viewers":false,
     "hide_output_from_viewers":false
    }
   }
  },
  {
   "cell_type":"code",
   "source":[
    "visualize_coefficients(lr, vect.get_feature_names(), n_top_features=20)"
   ],
   "execution_count":85,
   "outputs":[
    {
     "data":{
      "image\/png":"[encoded data removed]"
     },
     "metadata":{
      "image\/png":{
       
      }
     },
     "output_type":"display_data"
    }
   ],
   "metadata":{
    "datalore":{
     "type":"CODE",
     "hide_input_from_viewers":false,
     "hide_output_from_viewers":false
    }
   }
  },
  {
   "cell_type":"markdown",
   "source":[
    "Мы видим, что некоторые слова делают достаточно сильный вклад в выявлении спама, например, \"won\", \"urgent\" и так далее. Вычленяя отдельные слова сложно сказать, почему именно они относятся к спаму, хотя если прочитать слова с положительным вкладом - складывается какое-то общее впечатление)  \n",
    "\n",
    "Со словами с отрицательным вкладом сложнее, они не несут такую сильную нагрузку, как слова помогающее выявлять спам. Можно сказать, что мы скорее отличаем спам от не спама по принципу: если там нет слов из спама, то скорее всего не спам - а не наоборот.\n",
    "\n",
    "## Pipeline"
   ],
   "attachments":{
    
   },
   "metadata":{
    "datalore":{
     "type":"MD",
     "hide_input_from_viewers":false,
     "hide_output_from_viewers":false
    }
   }
  },
  {
   "cell_type":"code",
   "source":[
    "def text_classifier(vectorizer, classifier):\n",
    "    pipe =  Pipeline(\n",
    "            [(\"vectorizer\", vectorizer),\n",
    "            (\"classifier\", classifier)])\n",
    "    return pipe     \n",
    "        "
   ],
   "execution_count":75,
   "outputs":[
    
   ],
   "metadata":{
    "datalore":{
     "type":"CODE",
     "hide_input_from_viewers":false,
     "hide_output_from_viewers":false
    }
   }
  },
  {
   "cell_type":"code",
   "source":[
    "from nltk.stem import WordNetLemmatizer"
   ],
   "execution_count":66,
   "outputs":[
    
   ],
   "metadata":{
    "datalore":{
     "type":"CODE",
     "hide_input_from_viewers":false,
     "hide_output_from_viewers":false
    }
   }
  },
  {
   "cell_type":"code",
   "source":[
    "for clf in [LogisticRegression, LinearSVC, MultinomialNB]:\n",
    "    print(clf)\n",
    "    print(cross_val_score(text_classifier(CountVectorizer(stop_words='english', min_df = 4, \n",
    "                                                            token_pattern=r\"\\b\\w[\\w’]+\\b\"), clf()),text_train,y_train).mean())"
   ],
   "execution_count":83,
   "outputs":[
    {
     "name":"stdout",
     "text":[
      "<class 'sklearn.linear_model._logistic.LogisticRegression'>\n",
      "0.9782296650717702\n",
      "<class 'sklearn.svm._classes.LinearSVC'>\n",
      "0.9808612440191388\n",
      "<class 'sklearn.naive_bayes.MultinomialNB'>\n",
      "0.9815789473684211\n"
     ],
     "output_type":"stream"
    }
   ],
   "metadata":{
    "datalore":{
     "type":"CODE",
     "hide_input_from_viewers":false,
     "hide_output_from_viewers":false
    }
   }
  },
  {
   "cell_type":"code",
   "source":[
    
   ],
   "execution_count":0,
   "outputs":[
    
   ],
   "metadata":{
    "datalore":{
     "type":"CODE",
     "hide_input_from_viewers":false,
     "hide_output_from_viewers":false
    }
   }
  }
 ],
 "metadata":{
  "datalore":{
   "version":1,
   "computation_mode":"JUPYTER",
   "package_manager":"pip",
   "base_environment":"default",
   "packages":[
    
   ]
  }
 },
 "nbformat":4,
 "nbformat_minor":4
}